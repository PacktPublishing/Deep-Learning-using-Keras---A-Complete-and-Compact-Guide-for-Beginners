{
 "cells": [
  {
   "cell_type": "code",
   "execution_count": 1,
   "metadata": {},
   "outputs": [],
   "source": [
    "import numpy as np"
   ]
  },
  {
   "cell_type": "code",
   "execution_count": 3,
   "metadata": {},
   "outputs": [
    {
     "name": "stdout",
     "output_type": "stream",
     "text": [
      "[1 2 3]\n",
      "(3,)\n"
     ]
    }
   ],
   "source": [
    "#define numpy array\n",
    "mylist = [1,2,3]\n",
    "#converting list to numpy array\n",
    "mynparray = np.array(mylist)\n",
    "print(mynparray)\n",
    "print(mynparray.shape)"
   ]
  },
  {
   "cell_type": "code",
   "execution_count": 9,
   "metadata": {},
   "outputs": [
    {
     "name": "stdout",
     "output_type": "stream",
     "text": [
      "[[ 1  2  3]\n",
      " [44 52 78]]\n",
      "(2, 3)\n",
      "The first row is : [1 2 3]\n",
      "The last row is : [44 52 78]\n",
      "Specific element : 52\n",
      "Specific column : [ 3 78]\n"
     ]
    }
   ],
   "source": [
    "mylist = [[1,2,3],[44,52,78]]\n",
    "mynparray = np.array(mylist)\n",
    "print(mynparray)\n",
    "print(mynparray.shape)\n",
    "print(\"The first row is : %s\" %mynparray[0])\n",
    "print(\"The last row is : %s\" %mynparray[-1])\n",
    "print(\"Specific element : %s\" %mynparray[1,1])\n",
    "print(\"Specific column : %s\" %mynparray[:,2])"
   ]
  },
  {
   "cell_type": "code",
   "execution_count": 10,
   "metadata": {},
   "outputs": [
    {
     "name": "stdout",
     "output_type": "stream",
     "text": [
      "sum : [5 5 5]\n",
      "product : [6 6 6]\n"
     ]
    }
   ],
   "source": [
    "a = np.array([2,2,2])\n",
    "b = np.array([3,3,3])\n",
    "print(\"sum : %s\" %(a+b))\n",
    "print(\"product : %s\" %(a*b))"
   ]
  },
  {
   "cell_type": "code",
   "execution_count": null,
   "metadata": {},
   "outputs": [],
   "source": []
  }
 ],
 "metadata": {
  "kernelspec": {
   "display_name": "Python 3",
   "language": "python",
   "name": "python3"
  },
  "language_info": {
   "codemirror_mode": {
    "name": "ipython",
    "version": 3
   },
   "file_extension": ".py",
   "mimetype": "text/x-python",
   "name": "python",
   "nbconvert_exporter": "python",
   "pygments_lexer": "ipython3",
   "version": "3.8.5"
  }
 },
 "nbformat": 4,
 "nbformat_minor": 4
}
