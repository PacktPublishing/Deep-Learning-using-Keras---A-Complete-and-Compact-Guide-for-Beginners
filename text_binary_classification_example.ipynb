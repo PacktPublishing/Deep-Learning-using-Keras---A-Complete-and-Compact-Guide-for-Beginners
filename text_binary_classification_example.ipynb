{
 "cells": [
  {
   "cell_type": "code",
   "execution_count": 147,
   "metadata": {},
   "outputs": [],
   "source": [
    "import numpy as np\n",
    "import pandas as pd"
   ]
  },
  {
   "cell_type": "code",
   "execution_count": 148,
   "metadata": {},
   "outputs": [
    {
     "data": {
      "text/html": [
       "<div>\n",
       "<style scoped>\n",
       "    .dataframe tbody tr th:only-of-type {\n",
       "        vertical-align: middle;\n",
       "    }\n",
       "\n",
       "    .dataframe tbody tr th {\n",
       "        vertical-align: top;\n",
       "    }\n",
       "\n",
       "    .dataframe thead th {\n",
       "        text-align: right;\n",
       "    }\n",
       "</style>\n",
       "<table border=\"1\" class=\"dataframe\">\n",
       "  <thead>\n",
       "    <tr style=\"text-align: right;\">\n",
       "      <th></th>\n",
       "      <th>age</th>\n",
       "      <th>sex</th>\n",
       "      <th>cp</th>\n",
       "      <th>trestbps</th>\n",
       "      <th>chol</th>\n",
       "      <th>fbs</th>\n",
       "      <th>restecg</th>\n",
       "      <th>thalach</th>\n",
       "      <th>exang</th>\n",
       "      <th>oldpeak</th>\n",
       "      <th>slope</th>\n",
       "      <th>ca</th>\n",
       "      <th>thal</th>\n",
       "      <th>target</th>\n",
       "    </tr>\n",
       "  </thead>\n",
       "  <tbody>\n",
       "    <tr>\n",
       "      <th>0</th>\n",
       "      <td>63</td>\n",
       "      <td>1</td>\n",
       "      <td>3</td>\n",
       "      <td>145</td>\n",
       "      <td>233</td>\n",
       "      <td>1</td>\n",
       "      <td>0</td>\n",
       "      <td>150</td>\n",
       "      <td>0</td>\n",
       "      <td>2.3</td>\n",
       "      <td>0</td>\n",
       "      <td>0</td>\n",
       "      <td>1</td>\n",
       "      <td>1</td>\n",
       "    </tr>\n",
       "    <tr>\n",
       "      <th>1</th>\n",
       "      <td>37</td>\n",
       "      <td>1</td>\n",
       "      <td>2</td>\n",
       "      <td>130</td>\n",
       "      <td>250</td>\n",
       "      <td>0</td>\n",
       "      <td>1</td>\n",
       "      <td>187</td>\n",
       "      <td>0</td>\n",
       "      <td>3.5</td>\n",
       "      <td>0</td>\n",
       "      <td>0</td>\n",
       "      <td>2</td>\n",
       "      <td>1</td>\n",
       "    </tr>\n",
       "    <tr>\n",
       "      <th>2</th>\n",
       "      <td>41</td>\n",
       "      <td>0</td>\n",
       "      <td>1</td>\n",
       "      <td>130</td>\n",
       "      <td>204</td>\n",
       "      <td>0</td>\n",
       "      <td>0</td>\n",
       "      <td>172</td>\n",
       "      <td>0</td>\n",
       "      <td>1.4</td>\n",
       "      <td>2</td>\n",
       "      <td>0</td>\n",
       "      <td>2</td>\n",
       "      <td>1</td>\n",
       "    </tr>\n",
       "    <tr>\n",
       "      <th>3</th>\n",
       "      <td>56</td>\n",
       "      <td>1</td>\n",
       "      <td>1</td>\n",
       "      <td>120</td>\n",
       "      <td>236</td>\n",
       "      <td>0</td>\n",
       "      <td>1</td>\n",
       "      <td>178</td>\n",
       "      <td>0</td>\n",
       "      <td>0.8</td>\n",
       "      <td>2</td>\n",
       "      <td>0</td>\n",
       "      <td>2</td>\n",
       "      <td>1</td>\n",
       "    </tr>\n",
       "    <tr>\n",
       "      <th>4</th>\n",
       "      <td>57</td>\n",
       "      <td>0</td>\n",
       "      <td>0</td>\n",
       "      <td>120</td>\n",
       "      <td>354</td>\n",
       "      <td>0</td>\n",
       "      <td>1</td>\n",
       "      <td>163</td>\n",
       "      <td>1</td>\n",
       "      <td>0.6</td>\n",
       "      <td>2</td>\n",
       "      <td>0</td>\n",
       "      <td>2</td>\n",
       "      <td>1</td>\n",
       "    </tr>\n",
       "  </tbody>\n",
       "</table>\n",
       "</div>"
      ],
      "text/plain": [
       "   age  sex  cp  trestbps  chol  fbs  restecg  thalach  exang  oldpeak  slope  \\\n",
       "0   63    1   3       145   233    1        0      150      0      2.3      0   \n",
       "1   37    1   2       130   250    0        1      187      0      3.5      0   \n",
       "2   41    0   1       130   204    0        0      172      0      1.4      2   \n",
       "3   56    1   1       120   236    0        1      178      0      0.8      2   \n",
       "4   57    0   0       120   354    0        1      163      1      0.6      2   \n",
       "\n",
       "   ca  thal  target  \n",
       "0   0     1       1  \n",
       "1   0     2       1  \n",
       "2   0     2       1  \n",
       "3   0     2       1  \n",
       "4   0     2       1  "
      ]
     },
     "execution_count": 148,
     "metadata": {},
     "output_type": "execute_result"
    }
   ],
   "source": [
    "#fetch and read the csv file\n",
    "data_path = 'dataset/heart.csv'\n",
    "heart_df = pd.read_csv(data_path)\n",
    "heart_df.head()"
   ]
  },
  {
   "cell_type": "code",
   "execution_count": 149,
   "metadata": {},
   "outputs": [
    {
     "data": {
      "text/plain": [
       "(303, 14)"
      ]
     },
     "execution_count": 149,
     "metadata": {},
     "output_type": "execute_result"
    }
   ],
   "source": [
    "heart_df.shape"
   ]
  },
  {
   "cell_type": "code",
   "execution_count": 150,
   "metadata": {},
   "outputs": [
    {
     "data": {
      "text/plain": [
       "age         303\n",
       "sex         303\n",
       "cp          303\n",
       "trestbps    303\n",
       "chol        303\n",
       "fbs         303\n",
       "restecg     303\n",
       "thalach     303\n",
       "exang       303\n",
       "oldpeak     303\n",
       "slope       303\n",
       "ca          303\n",
       "thal        303\n",
       "target      303\n",
       "dtype: int64"
      ]
     },
     "execution_count": 150,
     "metadata": {},
     "output_type": "execute_result"
    }
   ],
   "source": [
    "heart_df.count()"
   ]
  },
  {
   "cell_type": "code",
   "execution_count": 151,
   "metadata": {},
   "outputs": [
    {
     "data": {
      "text/html": [
       "<div>\n",
       "<style scoped>\n",
       "    .dataframe tbody tr th:only-of-type {\n",
       "        vertical-align: middle;\n",
       "    }\n",
       "\n",
       "    .dataframe tbody tr th {\n",
       "        vertical-align: top;\n",
       "    }\n",
       "\n",
       "    .dataframe thead th {\n",
       "        text-align: right;\n",
       "    }\n",
       "</style>\n",
       "<table border=\"1\" class=\"dataframe\">\n",
       "  <thead>\n",
       "    <tr style=\"text-align: right;\">\n",
       "      <th></th>\n",
       "      <th>age</th>\n",
       "      <th>sex</th>\n",
       "      <th>cp</th>\n",
       "      <th>trestbps</th>\n",
       "      <th>chol</th>\n",
       "      <th>fbs</th>\n",
       "      <th>restecg</th>\n",
       "      <th>thalach</th>\n",
       "      <th>exang</th>\n",
       "      <th>oldpeak</th>\n",
       "      <th>slope</th>\n",
       "      <th>ca</th>\n",
       "      <th>thal</th>\n",
       "      <th>target</th>\n",
       "    </tr>\n",
       "  </thead>\n",
       "  <tbody>\n",
       "    <tr>\n",
       "      <th>count</th>\n",
       "      <td>303.000000</td>\n",
       "      <td>303.000000</td>\n",
       "      <td>303.000000</td>\n",
       "      <td>303.000000</td>\n",
       "      <td>303.000000</td>\n",
       "      <td>303.000000</td>\n",
       "      <td>303.000000</td>\n",
       "      <td>303.000000</td>\n",
       "      <td>303.000000</td>\n",
       "      <td>303.000000</td>\n",
       "      <td>303.000000</td>\n",
       "      <td>303.000000</td>\n",
       "      <td>303.000000</td>\n",
       "      <td>303.000000</td>\n",
       "    </tr>\n",
       "    <tr>\n",
       "      <th>mean</th>\n",
       "      <td>54.366337</td>\n",
       "      <td>0.683168</td>\n",
       "      <td>0.966997</td>\n",
       "      <td>131.623762</td>\n",
       "      <td>246.264026</td>\n",
       "      <td>0.148515</td>\n",
       "      <td>0.528053</td>\n",
       "      <td>149.646865</td>\n",
       "      <td>0.326733</td>\n",
       "      <td>1.039604</td>\n",
       "      <td>1.399340</td>\n",
       "      <td>0.729373</td>\n",
       "      <td>2.313531</td>\n",
       "      <td>0.544554</td>\n",
       "    </tr>\n",
       "    <tr>\n",
       "      <th>std</th>\n",
       "      <td>9.082101</td>\n",
       "      <td>0.466011</td>\n",
       "      <td>1.032052</td>\n",
       "      <td>17.538143</td>\n",
       "      <td>51.830751</td>\n",
       "      <td>0.356198</td>\n",
       "      <td>0.525860</td>\n",
       "      <td>22.905161</td>\n",
       "      <td>0.469794</td>\n",
       "      <td>1.161075</td>\n",
       "      <td>0.616226</td>\n",
       "      <td>1.022606</td>\n",
       "      <td>0.612277</td>\n",
       "      <td>0.498835</td>\n",
       "    </tr>\n",
       "    <tr>\n",
       "      <th>min</th>\n",
       "      <td>29.000000</td>\n",
       "      <td>0.000000</td>\n",
       "      <td>0.000000</td>\n",
       "      <td>94.000000</td>\n",
       "      <td>126.000000</td>\n",
       "      <td>0.000000</td>\n",
       "      <td>0.000000</td>\n",
       "      <td>71.000000</td>\n",
       "      <td>0.000000</td>\n",
       "      <td>0.000000</td>\n",
       "      <td>0.000000</td>\n",
       "      <td>0.000000</td>\n",
       "      <td>0.000000</td>\n",
       "      <td>0.000000</td>\n",
       "    </tr>\n",
       "    <tr>\n",
       "      <th>25%</th>\n",
       "      <td>47.500000</td>\n",
       "      <td>0.000000</td>\n",
       "      <td>0.000000</td>\n",
       "      <td>120.000000</td>\n",
       "      <td>211.000000</td>\n",
       "      <td>0.000000</td>\n",
       "      <td>0.000000</td>\n",
       "      <td>133.500000</td>\n",
       "      <td>0.000000</td>\n",
       "      <td>0.000000</td>\n",
       "      <td>1.000000</td>\n",
       "      <td>0.000000</td>\n",
       "      <td>2.000000</td>\n",
       "      <td>0.000000</td>\n",
       "    </tr>\n",
       "    <tr>\n",
       "      <th>50%</th>\n",
       "      <td>55.000000</td>\n",
       "      <td>1.000000</td>\n",
       "      <td>1.000000</td>\n",
       "      <td>130.000000</td>\n",
       "      <td>240.000000</td>\n",
       "      <td>0.000000</td>\n",
       "      <td>1.000000</td>\n",
       "      <td>153.000000</td>\n",
       "      <td>0.000000</td>\n",
       "      <td>0.800000</td>\n",
       "      <td>1.000000</td>\n",
       "      <td>0.000000</td>\n",
       "      <td>2.000000</td>\n",
       "      <td>1.000000</td>\n",
       "    </tr>\n",
       "    <tr>\n",
       "      <th>75%</th>\n",
       "      <td>61.000000</td>\n",
       "      <td>1.000000</td>\n",
       "      <td>2.000000</td>\n",
       "      <td>140.000000</td>\n",
       "      <td>274.500000</td>\n",
       "      <td>0.000000</td>\n",
       "      <td>1.000000</td>\n",
       "      <td>166.000000</td>\n",
       "      <td>1.000000</td>\n",
       "      <td>1.600000</td>\n",
       "      <td>2.000000</td>\n",
       "      <td>1.000000</td>\n",
       "      <td>3.000000</td>\n",
       "      <td>1.000000</td>\n",
       "    </tr>\n",
       "    <tr>\n",
       "      <th>max</th>\n",
       "      <td>77.000000</td>\n",
       "      <td>1.000000</td>\n",
       "      <td>3.000000</td>\n",
       "      <td>200.000000</td>\n",
       "      <td>564.000000</td>\n",
       "      <td>1.000000</td>\n",
       "      <td>2.000000</td>\n",
       "      <td>202.000000</td>\n",
       "      <td>1.000000</td>\n",
       "      <td>6.200000</td>\n",
       "      <td>2.000000</td>\n",
       "      <td>4.000000</td>\n",
       "      <td>3.000000</td>\n",
       "      <td>1.000000</td>\n",
       "    </tr>\n",
       "  </tbody>\n",
       "</table>\n",
       "</div>"
      ],
      "text/plain": [
       "              age         sex          cp    trestbps        chol         fbs  \\\n",
       "count  303.000000  303.000000  303.000000  303.000000  303.000000  303.000000   \n",
       "mean    54.366337    0.683168    0.966997  131.623762  246.264026    0.148515   \n",
       "std      9.082101    0.466011    1.032052   17.538143   51.830751    0.356198   \n",
       "min     29.000000    0.000000    0.000000   94.000000  126.000000    0.000000   \n",
       "25%     47.500000    0.000000    0.000000  120.000000  211.000000    0.000000   \n",
       "50%     55.000000    1.000000    1.000000  130.000000  240.000000    0.000000   \n",
       "75%     61.000000    1.000000    2.000000  140.000000  274.500000    0.000000   \n",
       "max     77.000000    1.000000    3.000000  200.000000  564.000000    1.000000   \n",
       "\n",
       "          restecg     thalach       exang     oldpeak       slope          ca  \\\n",
       "count  303.000000  303.000000  303.000000  303.000000  303.000000  303.000000   \n",
       "mean     0.528053  149.646865    0.326733    1.039604    1.399340    0.729373   \n",
       "std      0.525860   22.905161    0.469794    1.161075    0.616226    1.022606   \n",
       "min      0.000000   71.000000    0.000000    0.000000    0.000000    0.000000   \n",
       "25%      0.000000  133.500000    0.000000    0.000000    1.000000    0.000000   \n",
       "50%      1.000000  153.000000    0.000000    0.800000    1.000000    0.000000   \n",
       "75%      1.000000  166.000000    1.000000    1.600000    2.000000    1.000000   \n",
       "max      2.000000  202.000000    1.000000    6.200000    2.000000    4.000000   \n",
       "\n",
       "             thal      target  \n",
       "count  303.000000  303.000000  \n",
       "mean     2.313531    0.544554  \n",
       "std      0.612277    0.498835  \n",
       "min      0.000000    0.000000  \n",
       "25%      2.000000    0.000000  \n",
       "50%      2.000000    1.000000  \n",
       "75%      3.000000    1.000000  \n",
       "max      3.000000    1.000000  "
      ]
     },
     "execution_count": 151,
     "metadata": {},
     "output_type": "execute_result"
    }
   ],
   "source": [
    "heart_df.describe()"
   ]
  },
  {
   "cell_type": "code",
   "execution_count": 152,
   "metadata": {},
   "outputs": [
    {
     "name": "stdout",
     "output_type": "stream",
     "text": [
      "<class 'pandas.core.frame.DataFrame'>\n",
      "RangeIndex: 303 entries, 0 to 302\n",
      "Data columns (total 14 columns):\n",
      " #   Column    Non-Null Count  Dtype  \n",
      "---  ------    --------------  -----  \n",
      " 0   age       303 non-null    int64  \n",
      " 1   sex       303 non-null    int64  \n",
      " 2   cp        303 non-null    int64  \n",
      " 3   trestbps  303 non-null    int64  \n",
      " 4   chol      303 non-null    int64  \n",
      " 5   fbs       303 non-null    int64  \n",
      " 6   restecg   303 non-null    int64  \n",
      " 7   thalach   303 non-null    int64  \n",
      " 8   exang     303 non-null    int64  \n",
      " 9   oldpeak   303 non-null    float64\n",
      " 10  slope     303 non-null    int64  \n",
      " 11  ca        303 non-null    int64  \n",
      " 12  thal      303 non-null    int64  \n",
      " 13  target    303 non-null    int64  \n",
      "dtypes: float64(1), int64(13)\n",
      "memory usage: 33.3 KB\n"
     ]
    }
   ],
   "source": [
    "heart_df.info()"
   ]
  },
  {
   "cell_type": "code",
   "execution_count": 153,
   "metadata": {},
   "outputs": [
    {
     "data": {
      "text/plain": [
       "age         0\n",
       "sex         0\n",
       "cp          0\n",
       "trestbps    0\n",
       "chol        0\n",
       "fbs         0\n",
       "restecg     0\n",
       "thalach     0\n",
       "exang       0\n",
       "oldpeak     0\n",
       "slope       0\n",
       "ca          0\n",
       "thal        0\n",
       "target      0\n",
       "dtype: int64"
      ]
     },
     "execution_count": 153,
     "metadata": {},
     "output_type": "execute_result"
    }
   ],
   "source": [
    "#check for any none values\n",
    "heart_df.isna().sum()"
   ]
  },
  {
   "cell_type": "code",
   "execution_count": 154,
   "metadata": {
    "scrolled": false
   },
   "outputs": [
    {
     "data": {
      "image/png": "[encoded data removed]",
      "text/plain": [
       "<Figure size 432x288 with 1 Axes>"
      ]
     },
     "metadata": {
      "needs_background": "light"
     },
     "output_type": "display_data"
    },
    {
     "data": {
      "image/png": "[encoded data removed]",
      "text/plain": [
       "<Figure size 432x288 with 1 Axes>"
      ]
     },
     "metadata": {
      "needs_background": "light"
     },
     "output_type": "display_data"
    },
    {
     "data": {
      "image/png": "[encoded data removed]",
      "text/plain": [
       "<Figure size 432x288 with 1 Axes>"
      ]
     },
     "metadata": {
      "needs_background": "light"
     },
     "output_type": "display_data"
    },
    {
     "data": {
      "image/png": "[encoded data removed]",
      "text/plain": [
       "<Figure size 432x288 with 1 Axes>"
      ]
     },
     "metadata": {
      "needs_background": "light"
     },
     "output_type": "display_data"
    },
    {
     "data": {
      "image/png": "[encoded data removed]",
      "text/plain": [
       "<Figure size 432x288 with 1 Axes>"
      ]
     },
     "metadata": {
      "needs_background": "light"
     },
     "output_type": "display_data"
    },
    {
     "data": {
      "image/png": "[encoded data removed]",
      "text/plain": [
       "<Figure size 432x288 with 1 Axes>"
      ]
     },
     "metadata": {
      "needs_background": "light"
     },
     "output_type": "display_data"
    },
    {
     "data": {
      "image/png": "[encoded data removed]",
      "text/plain": [
       "<Figure size 432x288 with 1 Axes>"
      ]
     },
     "metadata": {
      "needs_background": "light"
     },
     "output_type": "display_data"
    },
    {
     "data": {
      "image/png": "[encoded data removed]",
      "text/plain": [
       "<Figure size 432x288 with 1 Axes>"
      ]
     },
     "metadata": {
      "needs_background": "light"
     },
     "output_type": "display_data"
    },
    {
     "data": {
      "image/png": "[encoded data removed]",
      "text/plain": [
       "<Figure size 432x288 with 1 Axes>"
      ]
     },
     "metadata": {
      "needs_background": "light"
     },
     "output_type": "display_data"
    },
    {
     "data": {
      "image/png": "[encoded data removed]",
      "text/plain": [
       "<Figure size 432x288 with 1 Axes>"
      ]
     },
     "metadata": {
      "needs_background": "light"
     },
     "output_type": "display_data"
    },
    {
     "data": {
      "image/png": "[encoded data removed]",
      "text/plain": [
       "<Figure size 432x288 with 1 Axes>"
      ]
     },
     "metadata": {
      "needs_background": "light"
     },
     "output_type": "display_data"
    },
    {
     "data": {
      "image/png": "[encoded data removed]",
      "text/plain": [
       "<Figure size 432x288 with 1 Axes>"
      ]
     },
     "metadata": {
      "needs_background": "light"
     },
     "output_type": "display_data"
    },
    {
     "data": {
      "image/png": "[encoded data removed]",
      "text/plain": [
       "<Figure size 432x288 with 1 Axes>"
      ]
     },
     "metadata": {
      "needs_background": "light"
     },
     "output_type": "display_data"
    },
    {
     "data": {
      "image/png": "[encoded data removed]",
      "text/plain": [
       "<Figure size 432x288 with 1 Axes>"
      ]
     },
     "metadata": {
      "needs_background": "light"
     },
     "output_type": "display_data"
    }
   ],
   "source": [
    "import matplotlib.pyplot as plt\n",
    "import seaborn as sns\n",
    "\n",
    "#box plot for all columns\n",
    "for i in heart_df.columns:\n",
    "    sns.boxplot(x=heart_df[i])\n",
    "    plt.show()"
   ]
  },
  {
   "cell_type": "code",
   "execution_count": 155,
   "metadata": {},
   "outputs": [],
   "source": [
    "#create a copy for visualization\n",
    "heart_df_copy = heart_df.copy()"
   ]
  },
  {
   "cell_type": "code",
   "execution_count": 156,
   "metadata": {},
   "outputs": [
    {
     "data": {
      "text/html": [
       "<div>\n",
       "<style scoped>\n",
       "    .dataframe tbody tr th:only-of-type {\n",
       "        vertical-align: middle;\n",
       "    }\n",
       "\n",
       "    .dataframe tbody tr th {\n",
       "        vertical-align: top;\n",
       "    }\n",
       "\n",
       "    .dataframe thead th {\n",
       "        text-align: right;\n",
       "    }\n",
       "</style>\n",
       "<table border=\"1\" class=\"dataframe\">\n",
       "  <thead>\n",
       "    <tr style=\"text-align: right;\">\n",
       "      <th></th>\n",
       "      <th>age</th>\n",
       "      <th>sex</th>\n",
       "      <th>cp</th>\n",
       "      <th>trestbps</th>\n",
       "      <th>chol</th>\n",
       "      <th>fbs</th>\n",
       "      <th>restecg</th>\n",
       "      <th>thalach</th>\n",
       "      <th>exang</th>\n",
       "      <th>oldpeak</th>\n",
       "      <th>slope</th>\n",
       "      <th>ca</th>\n",
       "      <th>thal</th>\n",
       "      <th>target</th>\n",
       "    </tr>\n",
       "  </thead>\n",
       "  <tbody>\n",
       "    <tr>\n",
       "      <th>0</th>\n",
       "      <td>63</td>\n",
       "      <td>1</td>\n",
       "      <td>3</td>\n",
       "      <td>145</td>\n",
       "      <td>233</td>\n",
       "      <td>1</td>\n",
       "      <td>0</td>\n",
       "      <td>150</td>\n",
       "      <td>0</td>\n",
       "      <td>2.3</td>\n",
       "      <td>0</td>\n",
       "      <td>0</td>\n",
       "      <td>1</td>\n",
       "      <td>1</td>\n",
       "    </tr>\n",
       "    <tr>\n",
       "      <th>1</th>\n",
       "      <td>37</td>\n",
       "      <td>1</td>\n",
       "      <td>2</td>\n",
       "      <td>130</td>\n",
       "      <td>250</td>\n",
       "      <td>0</td>\n",
       "      <td>1</td>\n",
       "      <td>187</td>\n",
       "      <td>0</td>\n",
       "      <td>3.5</td>\n",
       "      <td>0</td>\n",
       "      <td>0</td>\n",
       "      <td>2</td>\n",
       "      <td>1</td>\n",
       "    </tr>\n",
       "    <tr>\n",
       "      <th>2</th>\n",
       "      <td>41</td>\n",
       "      <td>0</td>\n",
       "      <td>1</td>\n",
       "      <td>130</td>\n",
       "      <td>204</td>\n",
       "      <td>0</td>\n",
       "      <td>0</td>\n",
       "      <td>172</td>\n",
       "      <td>0</td>\n",
       "      <td>1.4</td>\n",
       "      <td>2</td>\n",
       "      <td>0</td>\n",
       "      <td>2</td>\n",
       "      <td>1</td>\n",
       "    </tr>\n",
       "    <tr>\n",
       "      <th>3</th>\n",
       "      <td>56</td>\n",
       "      <td>1</td>\n",
       "      <td>1</td>\n",
       "      <td>120</td>\n",
       "      <td>236</td>\n",
       "      <td>0</td>\n",
       "      <td>1</td>\n",
       "      <td>178</td>\n",
       "      <td>0</td>\n",
       "      <td>0.8</td>\n",
       "      <td>2</td>\n",
       "      <td>0</td>\n",
       "      <td>2</td>\n",
       "      <td>1</td>\n",
       "    </tr>\n",
       "    <tr>\n",
       "      <th>4</th>\n",
       "      <td>57</td>\n",
       "      <td>0</td>\n",
       "      <td>0</td>\n",
       "      <td>120</td>\n",
       "      <td>354</td>\n",
       "      <td>0</td>\n",
       "      <td>1</td>\n",
       "      <td>163</td>\n",
       "      <td>1</td>\n",
       "      <td>0.6</td>\n",
       "      <td>2</td>\n",
       "      <td>0</td>\n",
       "      <td>2</td>\n",
       "      <td>1</td>\n",
       "    </tr>\n",
       "  </tbody>\n",
       "</table>\n",
       "</div>"
      ],
      "text/plain": [
       "   age  sex  cp  trestbps  chol  fbs  restecg  thalach  exang  oldpeak  slope  \\\n",
       "0   63    1   3       145   233    1        0      150      0      2.3      0   \n",
       "1   37    1   2       130   250    0        1      187      0      3.5      0   \n",
       "2   41    0   1       130   204    0        0      172      0      1.4      2   \n",
       "3   56    1   1       120   236    0        1      178      0      0.8      2   \n",
       "4   57    0   0       120   354    0        1      163      1      0.6      2   \n",
       "\n",
       "   ca  thal  target  \n",
       "0   0     1       1  \n",
       "1   0     2       1  \n",
       "2   0     2       1  \n",
       "3   0     2       1  \n",
       "4   0     2       1  "
      ]
     },
     "execution_count": 156,
     "metadata": {},
     "output_type": "execute_result"
    }
   ],
   "source": [
    "heart_df_copy.head()"
   ]
  },
  {
   "cell_type": "code",
   "execution_count": 157,
   "metadata": {},
   "outputs": [
    {
     "data": {
      "text/plain": [
       "<AxesSubplot:xlabel='target', ylabel='count'>"
      ]
     },
     "execution_count": 157,
     "metadata": {},
     "output_type": "execute_result"
    },
    {
     "data": {
      "image/png": "[encoded data removed]",
      "text/plain": [
       "<Figure size 432x288 with 1 Axes>"
      ]
     },
     "metadata": {
      "needs_background": "light"
     },
     "output_type": "display_data"
    }
   ],
   "source": [
    "#comparing the number healthy vs number of heart patients\n",
    "heart_df_copy.target = heart_df_copy.target.map({0:'Healthy',1:'Heart Patient'})\n",
    "sns.countplot(x=\"target\", data=heart_df_copy)"
   ]
  },
  {
   "cell_type": "code",
   "execution_count": 158,
   "metadata": {},
   "outputs": [
    {
     "data": {
      "text/plain": [
       "<AxesSubplot:xlabel='sex', ylabel='count'>"
      ]
     },
     "execution_count": 158,
     "metadata": {},
     "output_type": "execute_result"
    },
    {
     "data": {
      "image/png": "[encoded data removed]",
      "text/plain": [
       "<Figure size 432x288 with 1 Axes>"
      ]
     },
     "metadata": {
      "needs_background": "light"
     },
     "output_type": "display_data"
    }
   ],
   "source": [
    "#comparing number of male vs female\n",
    "heart_df_copy.sex= heart_df_copy.sex.map({0:'Female',1:'Male'})\n",
    "sns.countplot(x=\"sex\", data = heart_df_copy, hue= heart_df_copy.target)"
   ]
  },
  {
   "cell_type": "code",
   "execution_count": 159,
   "metadata": {
    "scrolled": true
   },
   "outputs": [
    {
     "data": {
      "image/png": "[encoded data removed]",
      "text/plain": [
       "<Figure size 432x288 with 1 Axes>"
      ]
     },
     "metadata": {
      "needs_background": "light"
     },
     "output_type": "display_data"
    }
   ],
   "source": [
    "#comparing age with health\n",
    "plt.hist(heart_df_copy[heart_df_copy.target=='Heart Patient']['age'],color='b',alpha=0.5,bins=15,label='Patient')\n",
    "plt.hist(heart_df_copy[heart_df_copy.target=='Healthy']['age'],color='g',alpha=0.5,bins=15,label='Healthy')\n",
    "plt.legend()\n",
    "plt.show()"
   ]
  },
  {
   "cell_type": "code",
   "execution_count": 160,
   "metadata": {
    "scrolled": true
   },
   "outputs": [
    {
     "data": {
      "image/png": "[encoded data removed]",
      "text/plain": [
       "<Figure size 432x288 with 1 Axes>"
      ]
     },
     "metadata": {
      "needs_background": "light"
     },
     "output_type": "display_data"
    }
   ],
   "source": [
    "#comparing cholestrol with health\n",
    "plt.hist(heart_df_copy[heart_df_copy.target=='Heart Patient']['chol'],color='b',alpha=0.5,bins=15,label='Patient')\n",
    "plt.hist(heart_df_copy[heart_df_copy.target=='Healthy']['chol'],color='g',alpha=0.5,bins=15,label='Healthy')\n",
    "plt.legend()\n",
    "plt.show()"
   ]
  },
  {
   "cell_type": "code",
   "execution_count": 161,
   "metadata": {},
   "outputs": [
    {
     "data": {
      "image/png": "[encoded data removed]",
      "text/plain": [
       "<Figure size 432x288 with 1 Axes>"
      ]
     },
     "metadata": {
      "needs_background": "light"
     },
     "output_type": "display_data"
    }
   ],
   "source": [
    "#comparing heart rate with health\n",
    "plt.hist(heart_df_copy[heart_df_copy.target=='Heart Patient']['thalach'],color='b',alpha=0.5,bins=15,label='Patient')\n",
    "plt.hist(heart_df_copy[heart_df_copy.target=='Healthy']['thalach'],color='g',alpha=0.5,bins=15,label='Healthy')\n",
    "plt.legend()\n",
    "plt.show()"
   ]
  },
  {
   "cell_type": "code",
   "execution_count": 162,
   "metadata": {},
   "outputs": [],
   "source": [
    "#Divide the data frame into input and output\n",
    "X = heart_df.drop('target', axis=1)\n",
    "y = heart_df['target']"
   ]
  },
  {
   "cell_type": "code",
   "execution_count": 163,
   "metadata": {
    "scrolled": true
   },
   "outputs": [
    {
     "data": {
      "text/html": [
       "<div>\n",
       "<style scoped>\n",
       "    .dataframe tbody tr th:only-of-type {\n",
       "        vertical-align: middle;\n",
       "    }\n",
       "\n",
       "    .dataframe tbody tr th {\n",
       "        vertical-align: top;\n",
       "    }\n",
       "\n",
       "    .dataframe thead th {\n",
       "        text-align: right;\n",
       "    }\n",
       "</style>\n",
       "<table border=\"1\" class=\"dataframe\">\n",
       "  <thead>\n",
       "    <tr style=\"text-align: right;\">\n",
       "      <th></th>\n",
       "      <th>age</th>\n",
       "      <th>sex</th>\n",
       "      <th>cp</th>\n",
       "      <th>trestbps</th>\n",
       "      <th>chol</th>\n",
       "      <th>fbs</th>\n",
       "      <th>restecg</th>\n",
       "      <th>thalach</th>\n",
       "      <th>exang</th>\n",
       "      <th>oldpeak</th>\n",
       "      <th>slope</th>\n",
       "      <th>ca</th>\n",
       "      <th>thal</th>\n",
       "    </tr>\n",
       "  </thead>\n",
       "  <tbody>\n",
       "    <tr>\n",
       "      <th>0</th>\n",
       "      <td>63</td>\n",
       "      <td>1</td>\n",
       "      <td>3</td>\n",
       "      <td>145</td>\n",
       "      <td>233</td>\n",
       "      <td>1</td>\n",
       "      <td>0</td>\n",
       "      <td>150</td>\n",
       "      <td>0</td>\n",
       "      <td>2.3</td>\n",
       "      <td>0</td>\n",
       "      <td>0</td>\n",
       "      <td>1</td>\n",
       "    </tr>\n",
       "    <tr>\n",
       "      <th>1</th>\n",
       "      <td>37</td>\n",
       "      <td>1</td>\n",
       "      <td>2</td>\n",
       "      <td>130</td>\n",
       "      <td>250</td>\n",
       "      <td>0</td>\n",
       "      <td>1</td>\n",
       "      <td>187</td>\n",
       "      <td>0</td>\n",
       "      <td>3.5</td>\n",
       "      <td>0</td>\n",
       "      <td>0</td>\n",
       "      <td>2</td>\n",
       "    </tr>\n",
       "    <tr>\n",
       "      <th>2</th>\n",
       "      <td>41</td>\n",
       "      <td>0</td>\n",
       "      <td>1</td>\n",
       "      <td>130</td>\n",
       "      <td>204</td>\n",
       "      <td>0</td>\n",
       "      <td>0</td>\n",
       "      <td>172</td>\n",
       "      <td>0</td>\n",
       "      <td>1.4</td>\n",
       "      <td>2</td>\n",
       "      <td>0</td>\n",
       "      <td>2</td>\n",
       "    </tr>\n",
       "    <tr>\n",
       "      <th>3</th>\n",
       "      <td>56</td>\n",
       "      <td>1</td>\n",
       "      <td>1</td>\n",
       "      <td>120</td>\n",
       "      <td>236</td>\n",
       "      <td>0</td>\n",
       "      <td>1</td>\n",
       "      <td>178</td>\n",
       "      <td>0</td>\n",
       "      <td>0.8</td>\n",
       "      <td>2</td>\n",
       "      <td>0</td>\n",
       "      <td>2</td>\n",
       "    </tr>\n",
       "    <tr>\n",
       "      <th>4</th>\n",
       "      <td>57</td>\n",
       "      <td>0</td>\n",
       "      <td>0</td>\n",
       "      <td>120</td>\n",
       "      <td>354</td>\n",
       "      <td>0</td>\n",
       "      <td>1</td>\n",
       "      <td>163</td>\n",
       "      <td>1</td>\n",
       "      <td>0.6</td>\n",
       "      <td>2</td>\n",
       "      <td>0</td>\n",
       "      <td>2</td>\n",
       "    </tr>\n",
       "  </tbody>\n",
       "</table>\n",
       "</div>"
      ],
      "text/plain": [
       "   age  sex  cp  trestbps  chol  fbs  restecg  thalach  exang  oldpeak  slope  \\\n",
       "0   63    1   3       145   233    1        0      150      0      2.3      0   \n",
       "1   37    1   2       130   250    0        1      187      0      3.5      0   \n",
       "2   41    0   1       130   204    0        0      172      0      1.4      2   \n",
       "3   56    1   1       120   236    0        1      178      0      0.8      2   \n",
       "4   57    0   0       120   354    0        1      163      1      0.6      2   \n",
       "\n",
       "   ca  thal  \n",
       "0   0     1  \n",
       "1   0     2  \n",
       "2   0     2  \n",
       "3   0     2  \n",
       "4   0     2  "
      ]
     },
     "execution_count": 163,
     "metadata": {},
     "output_type": "execute_result"
    }
   ],
   "source": [
    "X.head()"
   ]
  },
  {
   "cell_type": "code",
   "execution_count": 164,
   "metadata": {},
   "outputs": [
    {
     "data": {
      "text/plain": [
       "0    1\n",
       "1    1\n",
       "2    1\n",
       "3    1\n",
       "4    1\n",
       "Name: target, dtype: int64"
      ]
     },
     "execution_count": 164,
     "metadata": {},
     "output_type": "execute_result"
    }
   ],
   "source": [
    "y.head()"
   ]
  },
  {
   "cell_type": "code",
   "execution_count": 165,
   "metadata": {},
   "outputs": [],
   "source": [
    "import tensorflow as tf\n",
    "from tensorflow import keras\n",
    "from tensorflow.keras import layers"
   ]
  },
  {
   "cell_type": "code",
   "execution_count": 166,
   "metadata": {},
   "outputs": [],
   "source": [
    "#defining the sequential model for binary classification\n",
    "model = keras.Sequential()"
   ]
  },
  {
   "cell_type": "code",
   "execution_count": 167,
   "metadata": {},
   "outputs": [],
   "source": [
    "model.add(layers.Dense(11,activation='relu',input_dim=13))\n",
    "model.add(layers.Dense(1,activation='sigmoid'))"
   ]
  },
  {
   "cell_type": "code",
   "execution_count": null,
   "metadata": {},
   "outputs": [
    {
     "name": "stdout",
     "output_type": "stream",
     "text": [
      "Epoch 1/300\n",
      "8/8 [==============================] - 2s 102ms/step - loss: 51.0997 - accuracy: 0.2758 - val_loss: 1.9447e-18 - val_accuracy: 1.0000\n",
      "Epoch 2/300\n",
      "8/8 [==============================] - 0s 12ms/step - loss: 42.6608 - accuracy: 0.3197 - val_loss: 2.6505e-16 - val_accuracy: 1.0000\n",
      "Epoch 3/300\n",
      "8/8 [==============================] - 0s 12ms/step - loss: 37.1745 - accuracy: 0.3175 - val_loss: 2.9649e-14 - val_accuracy: 1.0000\n",
      "Epoch 4/300\n",
      "8/8 [==============================] - 0s 12ms/step - loss: 33.9028 - accuracy: 0.2782 - val_loss: 4.9070e-12 - val_accuracy: 1.0000\n",
      "Epoch 5/300\n",
      "8/8 [==============================] - 0s 12ms/step - loss: 26.9896 - accuracy: 0.3093 - val_loss: 1.2287e-09 - val_accuracy: 1.0000\n",
      "Epoch 6/300\n",
      "8/8 [==============================] - 0s 10ms/step - loss: 21.1293 - accuracy: 0.3182 - val_loss: 3.4295e-07 - val_accuracy: 1.0000\n",
      "Epoch 7/300\n",
      "8/8 [==============================] - 0s 11ms/step - loss: 16.4513 - accuracy: 0.2732 - val_loss: 1.2719e-04 - val_accuracy: 1.0000\n",
      "Epoch 8/300\n",
      "8/8 [==============================] - 0s 12ms/step - loss: 9.4285 - accuracy: 0.3201 - val_loss: 0.0528 - val_accuracy: 0.9851\n",
      "Epoch 9/300\n",
      "8/8 [==============================] - 0s 13ms/step - loss: 3.3391 - accuracy: 0.3332 - val_loss: 2.6678 - val_accuracy: 0.1493\n",
      "Epoch 10/300\n",
      "8/8 [==============================] - 0s 12ms/step - loss: 1.3193 - accuracy: 0.6715 - val_loss: 5.6640 - val_accuracy: 0.0000e+00\n",
      "Epoch 11/300\n",
      "8/8 [==============================] - 0s 12ms/step - loss: 1.6070 - accuracy: 0.7114 - val_loss: 4.3084 - val_accuracy: 0.0000e+00\n",
      "Epoch 12/300\n",
      "8/8 [==============================] - 0s 12ms/step - loss: 1.0533 - accuracy: 0.7458 - val_loss: 2.0026 - val_accuracy: 0.3134\n",
      "Epoch 13/300\n",
      "8/8 [==============================] - 0s 12ms/step - loss: 0.9979 - accuracy: 0.5898 - val_loss: 1.1624 - val_accuracy: 0.5522\n",
      "Epoch 14/300\n",
      "8/8 [==============================] - 0s 13ms/step - loss: 0.9170 - accuracy: 0.5552 - val_loss: 1.5079 - val_accuracy: 0.4328\n",
      "Epoch 15/300\n",
      "8/8 [==============================] - 0s 12ms/step - loss: 0.7911 - accuracy: 0.6486 - val_loss: 1.9736 - val_accuracy: 0.2985\n",
      "Epoch 16/300\n",
      "8/8 [==============================] - 0s 12ms/step - loss: 0.8677 - accuracy: 0.6209 - val_loss: 1.9193 - val_accuracy: 0.3582\n",
      "Epoch 17/300\n",
      "8/8 [==============================] - 0s 14ms/step - loss: 0.8654 - accuracy: 0.6374 - val_loss: 1.5911 - val_accuracy: 0.4328\n",
      "Epoch 18/300\n",
      "8/8 [==============================] - 0s 12ms/step - loss: 0.8062 - accuracy: 0.6332 - val_loss: 1.4867 - val_accuracy: 0.4328\n",
      "Epoch 19/300\n",
      "8/8 [==============================] - 0s 12ms/step - loss: 0.8266 - accuracy: 0.6161 - val_loss: 1.6648 - val_accuracy: 0.4179\n",
      "Epoch 20/300\n",
      "8/8 [==============================] - 0s 12ms/step - loss: 0.7519 - accuracy: 0.6324 - val_loss: 1.5599 - val_accuracy: 0.4179\n",
      "Epoch 21/300\n",
      "8/8 [==============================] - 0s 12ms/step - loss: 0.7648 - accuracy: 0.6377 - val_loss: 1.4321 - val_accuracy: 0.4627\n",
      "Epoch 22/300\n",
      "8/8 [==============================] - 0s 13ms/step - loss: 0.7833 - accuracy: 0.6197 - val_loss: 1.6056 - val_accuracy: 0.4179\n",
      "Epoch 23/300\n",
      "8/8 [==============================] - 0s 12ms/step - loss: 0.7888 - accuracy: 0.6256 - val_loss: 1.5203 - val_accuracy: 0.4478\n",
      "Epoch 24/300\n",
      "8/8 [==============================] - 0s 12ms/step - loss: 0.7045 - accuracy: 0.6502 - val_loss: 1.3301 - val_accuracy: 0.4925\n",
      "Epoch 25/300\n",
      "8/8 [==============================] - 0s 13ms/step - loss: 0.7818 - accuracy: 0.6157 - val_loss: 1.5160 - val_accuracy: 0.4328\n",
      "Epoch 26/300\n",
      "8/8 [==============================] - 0s 13ms/step - loss: 0.8301 - accuracy: 0.6335 - val_loss: 1.4811 - val_accuracy: 0.4179\n",
      "Epoch 27/300\n",
      "8/8 [==============================] - 0s 12ms/step - loss: 0.6943 - accuracy: 0.6669 - val_loss: 1.4409 - val_accuracy: 0.4328\n",
      "Epoch 28/300\n",
      "8/8 [==============================] - 0s 12ms/step - loss: 0.7628 - accuracy: 0.6445 - val_loss: 1.4288 - val_accuracy: 0.4328\n",
      "Epoch 29/300\n",
      "8/8 [==============================] - 0s 13ms/step - loss: 0.7176 - accuracy: 0.6607 - val_loss: 1.4597 - val_accuracy: 0.4328\n",
      "Epoch 30/300\n",
      "8/8 [==============================] - 0s 18ms/step - loss: 0.7906 - accuracy: 0.6063 - val_loss: 1.2164 - val_accuracy: 0.5075\n",
      "Epoch 31/300\n",
      "8/8 [==============================] - 0s 17ms/step - loss: 0.6518 - accuracy: 0.6633 - val_loss: 1.3992 - val_accuracy: 0.4478\n",
      "Epoch 32/300\n",
      "8/8 [==============================] - 0s 13ms/step - loss: 0.7156 - accuracy: 0.6498 - val_loss: 1.4233 - val_accuracy: 0.4478\n",
      "Epoch 33/300\n",
      "8/8 [==============================] - 0s 13ms/step - loss: 0.6930 - accuracy: 0.6450 - val_loss: 1.2642 - val_accuracy: 0.4627\n",
      "Epoch 34/300\n",
      "8/8 [==============================] - 0s 12ms/step - loss: 0.6502 - accuracy: 0.6729 - val_loss: 1.2283 - val_accuracy: 0.4776\n",
      "Epoch 35/300\n",
      "8/8 [==============================] - 0s 12ms/step - loss: 0.6317 - accuracy: 0.6662 - val_loss: 1.2924 - val_accuracy: 0.4776\n",
      "Epoch 36/300\n",
      "8/8 [==============================] - 0s 13ms/step - loss: 0.7395 - accuracy: 0.6311 - val_loss: 1.2561 - val_accuracy: 0.4627\n",
      "Epoch 37/300\n",
      "8/8 [==============================] - 0s 12ms/step - loss: 0.6731 - accuracy: 0.6564 - val_loss: 1.2826 - val_accuracy: 0.4328\n",
      "Epoch 38/300\n",
      "8/8 [==============================] - 0s 12ms/step - loss: 0.6676 - accuracy: 0.6593 - val_loss: 1.1783 - val_accuracy: 0.4776\n",
      "Epoch 39/300\n",
      "8/8 [==============================] - 0s 12ms/step - loss: 0.5934 - accuracy: 0.6852 - val_loss: 1.3028 - val_accuracy: 0.4030\n",
      "Epoch 40/300\n",
      "8/8 [==============================] - 0s 13ms/step - loss: 0.6578 - accuracy: 0.6787 - val_loss: 1.1490 - val_accuracy: 0.4627\n",
      "Epoch 41/300\n",
      "8/8 [==============================] - 0s 12ms/step - loss: 0.6159 - accuracy: 0.6960 - val_loss: 1.1104 - val_accuracy: 0.4627\n",
      "Epoch 42/300\n",
      "8/8 [==============================] - 0s 12ms/step - loss: 0.6548 - accuracy: 0.6766 - val_loss: 1.2221 - val_accuracy: 0.4179\n",
      "Epoch 43/300\n",
      "8/8 [==============================] - 0s 12ms/step - loss: 0.5781 - accuracy: 0.7039 - val_loss: 1.0449 - val_accuracy: 0.5075\n",
      "Epoch 44/300\n",
      "8/8 [==============================] - 0s 12ms/step - loss: 0.5995 - accuracy: 0.6592 - val_loss: 1.1141 - val_accuracy: 0.4478\n",
      "Epoch 45/300\n",
      "8/8 [==============================] - 0s 12ms/step - loss: 0.5121 - accuracy: 0.7328 - val_loss: 1.0814 - val_accuracy: 0.4776\n",
      "Epoch 46/300\n",
      "8/8 [==============================] - 0s 12ms/step - loss: 0.5272 - accuracy: 0.6931 - val_loss: 0.9834 - val_accuracy: 0.5224\n",
      "Epoch 47/300\n",
      "8/8 [==============================] - 0s 12ms/step - loss: 0.5572 - accuracy: 0.7256 - val_loss: 1.0520 - val_accuracy: 0.4627\n",
      "Epoch 48/300\n",
      "8/8 [==============================] - 0s 12ms/step - loss: 0.5688 - accuracy: 0.7045 - val_loss: 1.0909 - val_accuracy: 0.4627\n",
      "Epoch 49/300\n",
      "8/8 [==============================] - 0s 12ms/step - loss: 0.5998 - accuracy: 0.6972 - val_loss: 0.9468 - val_accuracy: 0.5075\n",
      "Epoch 50/300\n",
      "8/8 [==============================] - 0s 12ms/step - loss: 0.6011 - accuracy: 0.6738 - val_loss: 0.9877 - val_accuracy: 0.4925\n",
      "Epoch 51/300\n",
      "8/8 [==============================] - 0s 12ms/step - loss: 0.5344 - accuracy: 0.7275 - val_loss: 1.1388 - val_accuracy: 0.4179\n",
      "Epoch 52/300\n",
      "8/8 [==============================] - 0s 12ms/step - loss: 0.5372 - accuracy: 0.7265 - val_loss: 0.8831 - val_accuracy: 0.5672\n",
      "Epoch 53/300\n",
      "8/8 [==============================] - 0s 13ms/step - loss: 0.5169 - accuracy: 0.7258 - val_loss: 0.9899 - val_accuracy: 0.4925\n",
      "Epoch 54/300\n",
      "8/8 [==============================] - 0s 12ms/step - loss: 0.5204 - accuracy: 0.7070 - val_loss: 0.9002 - val_accuracy: 0.5373\n",
      "Epoch 55/300\n",
      "8/8 [==============================] - 0s 12ms/step - loss: 0.5052 - accuracy: 0.7253 - val_loss: 0.8617 - val_accuracy: 0.5522\n",
      "Epoch 56/300\n",
      "8/8 [==============================] - 0s 12ms/step - loss: 0.4905 - accuracy: 0.7342 - val_loss: 0.9810 - val_accuracy: 0.5075\n",
      "Epoch 57/300\n",
      "8/8 [==============================] - 0s 12ms/step - loss: 0.5324 - accuracy: 0.7552 - val_loss: 0.9078 - val_accuracy: 0.5224\n",
      "Epoch 58/300\n",
      "8/8 [==============================] - 0s 14ms/step - loss: 0.4946 - accuracy: 0.7444 - val_loss: 0.9416 - val_accuracy: 0.4925\n"
     ]
    },
    {
     "name": "stdout",
     "output_type": "stream",
     "text": [
      "Epoch 59/300\n",
      "8/8 [==============================] - 0s 12ms/step - loss: 0.4891 - accuracy: 0.7316 - val_loss: 0.8870 - val_accuracy: 0.5075\n",
      "Epoch 60/300\n",
      "8/8 [==============================] - 0s 14ms/step - loss: 0.5041 - accuracy: 0.7443 - val_loss: 0.8342 - val_accuracy: 0.5224\n",
      "Epoch 61/300\n",
      "8/8 [==============================] - 0s 11ms/step - loss: 0.4998 - accuracy: 0.7789 - val_loss: 0.9962 - val_accuracy: 0.4478\n",
      "Epoch 62/300\n",
      "8/8 [==============================] - 0s 13ms/step - loss: 0.4600 - accuracy: 0.7602 - val_loss: 0.7959 - val_accuracy: 0.5373\n",
      "Epoch 63/300\n",
      "8/8 [==============================] - 0s 12ms/step - loss: 0.4393 - accuracy: 0.7828 - val_loss: 0.8993 - val_accuracy: 0.4925\n",
      "Epoch 64/300\n",
      "8/8 [==============================] - 0s 11ms/step - loss: 0.4716 - accuracy: 0.7562 - val_loss: 0.9039 - val_accuracy: 0.4925\n",
      "Epoch 65/300\n",
      "8/8 [==============================] - 0s 13ms/step - loss: 0.4670 - accuracy: 0.7587 - val_loss: 0.8480 - val_accuracy: 0.5224\n",
      "Epoch 66/300\n",
      "8/8 [==============================] - 0s 12ms/step - loss: 0.4228 - accuracy: 0.8170 - val_loss: 0.8594 - val_accuracy: 0.5373\n",
      "Epoch 67/300\n",
      "8/8 [==============================] - 0s 11ms/step - loss: 0.4552 - accuracy: 0.8014 - val_loss: 0.8829 - val_accuracy: 0.5373\n",
      "Epoch 68/300\n",
      "8/8 [==============================] - 0s 11ms/step - loss: 0.4186 - accuracy: 0.8372 - val_loss: 0.8285 - val_accuracy: 0.5522\n",
      "Epoch 69/300\n",
      "8/8 [==============================] - 0s 12ms/step - loss: 0.4300 - accuracy: 0.8111 - val_loss: 0.8213 - val_accuracy: 0.5672\n",
      "Epoch 70/300\n",
      "8/8 [==============================] - 0s 12ms/step - loss: 0.3898 - accuracy: 0.8275 - val_loss: 0.8220 - val_accuracy: 0.5672\n",
      "Epoch 71/300\n",
      "8/8 [==============================] - 0s 13ms/step - loss: 0.4530 - accuracy: 0.8200 - val_loss: 0.8119 - val_accuracy: 0.5672\n",
      "Epoch 72/300\n",
      "8/8 [==============================] - 0s 13ms/step - loss: 0.4271 - accuracy: 0.7960 - val_loss: 0.8467 - val_accuracy: 0.5522\n",
      "Epoch 73/300\n",
      "8/8 [==============================] - 0s 12ms/step - loss: 0.4428 - accuracy: 0.8202 - val_loss: 0.8170 - val_accuracy: 0.5672\n",
      "Epoch 74/300\n",
      "8/8 [==============================] - 0s 13ms/step - loss: 0.4035 - accuracy: 0.8340 - val_loss: 0.8155 - val_accuracy: 0.5522\n",
      "Epoch 75/300\n",
      "8/8 [==============================] - 0s 11ms/step - loss: 0.4243 - accuracy: 0.8289 - val_loss: 0.7969 - val_accuracy: 0.5522\n",
      "Epoch 76/300\n",
      "8/8 [==============================] - 0s 12ms/step - loss: 0.4331 - accuracy: 0.8176 - val_loss: 0.8798 - val_accuracy: 0.5373\n",
      "Epoch 77/300\n",
      "8/8 [==============================] - 0s 12ms/step - loss: 0.3921 - accuracy: 0.8310 - val_loss: 0.7507 - val_accuracy: 0.5821\n",
      "Epoch 78/300\n",
      "8/8 [==============================] - 0s 12ms/step - loss: 0.4212 - accuracy: 0.8381 - val_loss: 0.8653 - val_accuracy: 0.5373\n",
      "Epoch 79/300\n",
      "8/8 [==============================] - 0s 13ms/step - loss: 0.3832 - accuracy: 0.8582 - val_loss: 0.7951 - val_accuracy: 0.5522\n",
      "Epoch 80/300\n",
      "8/8 [==============================] - 0s 12ms/step - loss: 0.4303 - accuracy: 0.8178 - val_loss: 0.8188 - val_accuracy: 0.5522\n",
      "Epoch 81/300\n",
      "8/8 [==============================] - 0s 12ms/step - loss: 0.4135 - accuracy: 0.8245 - val_loss: 0.8465 - val_accuracy: 0.5522\n",
      "Epoch 82/300\n",
      "8/8 [==============================] - 0s 12ms/step - loss: 0.4377 - accuracy: 0.8160 - val_loss: 0.7346 - val_accuracy: 0.5672\n",
      "Epoch 83/300\n",
      "8/8 [==============================] - 0s 11ms/step - loss: 0.4396 - accuracy: 0.8138 - val_loss: 0.9686 - val_accuracy: 0.4776\n",
      "Epoch 84/300\n",
      "8/8 [==============================] - 0s 12ms/step - loss: 0.4005 - accuracy: 0.8338 - val_loss: 0.7340 - val_accuracy: 0.5522\n",
      "Epoch 85/300\n",
      "8/8 [==============================] - 0s 12ms/step - loss: 0.4118 - accuracy: 0.8335 - val_loss: 0.8658 - val_accuracy: 0.5373\n",
      "Epoch 86/300\n",
      "8/8 [==============================] - 0s 11ms/step - loss: 0.4046 - accuracy: 0.8433 - val_loss: 0.6896 - val_accuracy: 0.5821\n",
      "Epoch 87/300\n",
      "8/8 [==============================] - 0s 11ms/step - loss: 0.4426 - accuracy: 0.8155 - val_loss: 0.8704 - val_accuracy: 0.5373\n",
      "Epoch 88/300\n",
      "8/8 [==============================] - 0s 12ms/step - loss: 0.4115 - accuracy: 0.8107 - val_loss: 0.8783 - val_accuracy: 0.5373\n",
      "Epoch 89/300\n",
      "8/8 [==============================] - 0s 12ms/step - loss: 0.3887 - accuracy: 0.8495 - val_loss: 0.7258 - val_accuracy: 0.5522\n",
      "Epoch 90/300\n",
      "8/8 [==============================] - 0s 12ms/step - loss: 0.3592 - accuracy: 0.8786 - val_loss: 0.7618 - val_accuracy: 0.5522\n",
      "Epoch 91/300\n",
      "8/8 [==============================] - 0s 12ms/step - loss: 0.3924 - accuracy: 0.8461 - val_loss: 0.8384 - val_accuracy: 0.5373\n",
      "Epoch 92/300\n",
      "8/8 [==============================] - 0s 11ms/step - loss: 0.4423 - accuracy: 0.8243 - val_loss: 0.8276 - val_accuracy: 0.5373\n",
      "Epoch 93/300\n",
      "8/8 [==============================] - 0s 12ms/step - loss: 0.4105 - accuracy: 0.8224 - val_loss: 0.8847 - val_accuracy: 0.5224\n",
      "Epoch 94/300\n",
      "8/8 [==============================] - 0s 12ms/step - loss: 0.3764 - accuracy: 0.8519 - val_loss: 0.6883 - val_accuracy: 0.5821\n",
      "Epoch 95/300\n",
      "8/8 [==============================] - 0s 12ms/step - loss: 0.4248 - accuracy: 0.8395 - val_loss: 0.8058 - val_accuracy: 0.5373\n",
      "Epoch 96/300\n",
      "8/8 [==============================] - 0s 12ms/step - loss: 0.3780 - accuracy: 0.8793 - val_loss: 0.8038 - val_accuracy: 0.5373\n",
      "Epoch 97/300\n",
      "8/8 [==============================] - 0s 12ms/step - loss: 0.3729 - accuracy: 0.8645 - val_loss: 0.7263 - val_accuracy: 0.5672\n",
      "Epoch 98/300\n",
      "8/8 [==============================] - 0s 11ms/step - loss: 0.3716 - accuracy: 0.8630 - val_loss: 0.8533 - val_accuracy: 0.5373\n",
      "Epoch 99/300\n",
      "8/8 [==============================] - 0s 12ms/step - loss: 0.3723 - accuracy: 0.8455 - val_loss: 0.7494 - val_accuracy: 0.5373\n",
      "Epoch 100/300\n",
      "8/8 [==============================] - 0s 13ms/step - loss: 0.3545 - accuracy: 0.8763 - val_loss: 0.8381 - val_accuracy: 0.5373\n",
      "Epoch 101/300\n",
      "8/8 [==============================] - 0s 11ms/step - loss: 0.4301 - accuracy: 0.8324 - val_loss: 0.8295 - val_accuracy: 0.5373\n",
      "Epoch 102/300\n",
      "8/8 [==============================] - 0s 12ms/step - loss: 0.3689 - accuracy: 0.8544 - val_loss: 0.8804 - val_accuracy: 0.5224\n",
      "Epoch 103/300\n",
      "8/8 [==============================] - 0s 12ms/step - loss: 0.3644 - accuracy: 0.8709 - val_loss: 0.6445 - val_accuracy: 0.5970\n",
      "Epoch 104/300\n",
      "8/8 [==============================] - 0s 12ms/step - loss: 0.3751 - accuracy: 0.8663 - val_loss: 0.8576 - val_accuracy: 0.5224\n",
      "Epoch 105/300\n",
      "8/8 [==============================] - 0s 12ms/step - loss: 0.3693 - accuracy: 0.8463 - val_loss: 0.7415 - val_accuracy: 0.5522\n",
      "Epoch 106/300\n",
      "8/8 [==============================] - 0s 13ms/step - loss: 0.3657 - accuracy: 0.8624 - val_loss: 0.7958 - val_accuracy: 0.5373\n",
      "Epoch 107/300\n",
      "8/8 [==============================] - 0s 13ms/step - loss: 0.3449 - accuracy: 0.8853 - val_loss: 0.7873 - val_accuracy: 0.5373\n",
      "Epoch 108/300\n",
      "8/8 [==============================] - 0s 12ms/step - loss: 0.3440 - accuracy: 0.8755 - val_loss: 0.8062 - val_accuracy: 0.5373\n",
      "Epoch 109/300\n",
      "8/8 [==============================] - 0s 12ms/step - loss: 0.3805 - accuracy: 0.8473 - val_loss: 0.7631 - val_accuracy: 0.5373\n",
      "Epoch 110/300\n",
      "8/8 [==============================] - 0s 13ms/step - loss: 0.3608 - accuracy: 0.8724 - val_loss: 0.8203 - val_accuracy: 0.5373\n",
      "Epoch 111/300\n",
      "8/8 [==============================] - 0s 12ms/step - loss: 0.3645 - accuracy: 0.8657 - val_loss: 0.7791 - val_accuracy: 0.5373\n",
      "Epoch 112/300\n",
      "8/8 [==============================] - 0s 12ms/step - loss: 0.3612 - accuracy: 0.8595 - val_loss: 0.8217 - val_accuracy: 0.5373\n",
      "Epoch 113/300\n",
      "8/8 [==============================] - 0s 12ms/step - loss: 0.3662 - accuracy: 0.8522 - val_loss: 0.7672 - val_accuracy: 0.5373\n",
      "Epoch 114/300\n",
      "8/8 [==============================] - 0s 13ms/step - loss: 0.3624 - accuracy: 0.8770 - val_loss: 0.8628 - val_accuracy: 0.5224\n",
      "Epoch 115/300\n",
      "8/8 [==============================] - 0s 12ms/step - loss: 0.3666 - accuracy: 0.8324 - val_loss: 0.8091 - val_accuracy: 0.5373\n",
      "Epoch 116/300\n",
      "8/8 [==============================] - 0s 13ms/step - loss: 0.4005 - accuracy: 0.8326 - val_loss: 0.7733 - val_accuracy: 0.5373\n"
     ]
    },
    {
     "name": "stdout",
     "output_type": "stream",
     "text": [
      "Epoch 117/300\n",
      "8/8 [==============================] - 0s 12ms/step - loss: 0.4113 - accuracy: 0.8317 - val_loss: 0.8473 - val_accuracy: 0.5224\n",
      "Epoch 118/300\n",
      "8/8 [==============================] - 0s 13ms/step - loss: 0.3390 - accuracy: 0.8791 - val_loss: 0.6751 - val_accuracy: 0.5672\n",
      "Epoch 119/300\n",
      "8/8 [==============================] - 0s 13ms/step - loss: 0.3582 - accuracy: 0.8650 - val_loss: 0.7751 - val_accuracy: 0.5373\n",
      "Epoch 120/300\n",
      "8/8 [==============================] - 0s 12ms/step - loss: 0.3819 - accuracy: 0.8515 - val_loss: 0.9491 - val_accuracy: 0.4776\n",
      "Epoch 121/300\n",
      "8/8 [==============================] - 0s 12ms/step - loss: 0.3727 - accuracy: 0.8359 - val_loss: 0.6898 - val_accuracy: 0.5672\n",
      "Epoch 122/300\n",
      "8/8 [==============================] - 0s 12ms/step - loss: 0.3791 - accuracy: 0.8677 - val_loss: 0.8116 - val_accuracy: 0.5373\n",
      "Epoch 123/300\n",
      "8/8 [==============================] - 0s 12ms/step - loss: 0.3873 - accuracy: 0.8224 - val_loss: 0.9351 - val_accuracy: 0.5075\n",
      "Epoch 124/300\n",
      "8/8 [==============================] - 0s 12ms/step - loss: 0.3539 - accuracy: 0.8395 - val_loss: 0.6319 - val_accuracy: 0.6119\n",
      "Epoch 125/300\n",
      "8/8 [==============================] - 0s 12ms/step - loss: 0.3821 - accuracy: 0.8391 - val_loss: 0.9633 - val_accuracy: 0.4776\n",
      "Epoch 126/300\n",
      "8/8 [==============================] - 0s 11ms/step - loss: 0.3582 - accuracy: 0.8491 - val_loss: 0.6305 - val_accuracy: 0.6119\n",
      "Epoch 127/300\n",
      "8/8 [==============================] - 0s 12ms/step - loss: 0.3760 - accuracy: 0.8454 - val_loss: 0.8606 - val_accuracy: 0.5224\n",
      "Epoch 128/300\n",
      "8/8 [==============================] - 0s 12ms/step - loss: 0.3853 - accuracy: 0.8371 - val_loss: 0.8193 - val_accuracy: 0.5224\n",
      "Epoch 129/300\n",
      "8/8 [==============================] - 0s 12ms/step - loss: 0.3829 - accuracy: 0.8511 - val_loss: 0.7806 - val_accuracy: 0.5373\n",
      "Epoch 130/300\n",
      "8/8 [==============================] - 0s 12ms/step - loss: 0.3562 - accuracy: 0.8387 - val_loss: 0.8403 - val_accuracy: 0.5224\n",
      "Epoch 131/300\n",
      "8/8 [==============================] - 0s 12ms/step - loss: 0.3817 - accuracy: 0.8390 - val_loss: 0.7652 - val_accuracy: 0.5522\n",
      "Epoch 132/300\n",
      "8/8 [==============================] - 0s 12ms/step - loss: 0.3658 - accuracy: 0.8582 - val_loss: 0.8867 - val_accuracy: 0.5075\n",
      "Epoch 133/300\n",
      "8/8 [==============================] - 0s 12ms/step - loss: 0.3922 - accuracy: 0.8478 - val_loss: 0.7446 - val_accuracy: 0.5522\n",
      "Epoch 134/300\n",
      "8/8 [==============================] - 0s 12ms/step - loss: 0.3607 - accuracy: 0.8355 - val_loss: 0.8530 - val_accuracy: 0.5224\n",
      "Epoch 135/300\n",
      "8/8 [==============================] - 0s 12ms/step - loss: 0.3657 - accuracy: 0.8500 - val_loss: 0.6919 - val_accuracy: 0.5522\n",
      "Epoch 136/300\n",
      "8/8 [==============================] - 0s 12ms/step - loss: 0.3321 - accuracy: 0.8702 - val_loss: 0.8680 - val_accuracy: 0.5075\n",
      "Epoch 137/300\n",
      "8/8 [==============================] - 0s 13ms/step - loss: 0.3681 - accuracy: 0.8384 - val_loss: 0.7331 - val_accuracy: 0.5522\n",
      "Epoch 138/300\n",
      "8/8 [==============================] - 0s 11ms/step - loss: 0.3427 - accuracy: 0.8842 - val_loss: 0.6916 - val_accuracy: 0.5672\n",
      "Epoch 139/300\n",
      "8/8 [==============================] - 0s 12ms/step - loss: 0.3411 - accuracy: 0.8683 - val_loss: 0.8337 - val_accuracy: 0.5224\n",
      "Epoch 140/300\n",
      "8/8 [==============================] - 0s 12ms/step - loss: 0.3290 - accuracy: 0.8669 - val_loss: 0.7365 - val_accuracy: 0.5522\n",
      "Epoch 141/300\n",
      "8/8 [==============================] - 0s 12ms/step - loss: 0.3263 - accuracy: 0.8709 - val_loss: 0.8258 - val_accuracy: 0.5224\n",
      "Epoch 142/300\n",
      "8/8 [==============================] - 0s 12ms/step - loss: 0.3361 - accuracy: 0.8648 - val_loss: 0.7814 - val_accuracy: 0.5522\n",
      "Epoch 143/300\n",
      "8/8 [==============================] - 0s 13ms/step - loss: 0.3276 - accuracy: 0.8686 - val_loss: 0.7692 - val_accuracy: 0.5522\n",
      "Epoch 144/300\n",
      "8/8 [==============================] - 0s 12ms/step - loss: 0.3356 - accuracy: 0.8625 - val_loss: 0.7982 - val_accuracy: 0.5522\n",
      "Epoch 145/300\n",
      "8/8 [==============================] - 0s 12ms/step - loss: 0.3141 - accuracy: 0.8921 - val_loss: 0.7225 - val_accuracy: 0.5522\n",
      "Epoch 146/300\n",
      "8/8 [==============================] - 0s 12ms/step - loss: 0.3283 - accuracy: 0.8731 - val_loss: 0.8481 - val_accuracy: 0.5075\n",
      "Epoch 147/300\n",
      "8/8 [==============================] - 0s 12ms/step - loss: 0.3133 - accuracy: 0.8832 - val_loss: 0.6831 - val_accuracy: 0.5970\n",
      "Epoch 148/300\n",
      "8/8 [==============================] - 0s 12ms/step - loss: 0.3494 - accuracy: 0.8796 - val_loss: 0.7655 - val_accuracy: 0.5522\n",
      "Epoch 149/300\n",
      "8/8 [==============================] - 0s 12ms/step - loss: 0.3626 - accuracy: 0.8338 - val_loss: 0.8132 - val_accuracy: 0.5075\n",
      "Epoch 150/300\n",
      "8/8 [==============================] - 0s 12ms/step - loss: 0.2926 - accuracy: 0.8944 - val_loss: 0.6971 - val_accuracy: 0.5821\n",
      "Epoch 151/300\n",
      "8/8 [==============================] - 0s 12ms/step - loss: 0.3731 - accuracy: 0.8571 - val_loss: 0.8907 - val_accuracy: 0.5075\n",
      "Epoch 152/300\n",
      "8/8 [==============================] - 0s 13ms/step - loss: 0.3225 - accuracy: 0.8635 - val_loss: 0.7743 - val_accuracy: 0.5522\n",
      "Epoch 153/300\n",
      "8/8 [==============================] - 0s 12ms/step - loss: 0.3829 - accuracy: 0.8526 - val_loss: 0.7501 - val_accuracy: 0.5522\n",
      "Epoch 154/300\n",
      "8/8 [==============================] - ETA: 0s - loss: 0.4159 - accuracy: 0.78 - 0s 12ms/step - loss: 0.3645 - accuracy: 0.8346 - val_loss: 0.8862 - val_accuracy: 0.5075\n",
      "Epoch 155/300\n",
      "8/8 [==============================] - 0s 12ms/step - loss: 0.3369 - accuracy: 0.8749 - val_loss: 0.7046 - val_accuracy: 0.5672\n",
      "Epoch 156/300\n",
      "8/8 [==============================] - 0s 12ms/step - loss: 0.3320 - accuracy: 0.8721 - val_loss: 0.8959 - val_accuracy: 0.5075\n",
      "Epoch 157/300\n",
      "8/8 [==============================] - 0s 12ms/step - loss: 0.3801 - accuracy: 0.8431 - val_loss: 0.7546 - val_accuracy: 0.5522\n",
      "Epoch 158/300\n",
      "8/8 [==============================] - ETA: 0s - loss: 0.3248 - accuracy: 0.87 - 0s 12ms/step - loss: 0.3306 - accuracy: 0.8596 - val_loss: 0.9182 - val_accuracy: 0.5075\n",
      "Epoch 159/300\n",
      "8/8 [==============================] - 0s 12ms/step - loss: 0.3206 - accuracy: 0.8673 - val_loss: 0.6136 - val_accuracy: 0.6269\n",
      "Epoch 160/300\n",
      "8/8 [==============================] - 0s 12ms/step - loss: 0.3344 - accuracy: 0.9041 - val_loss: 0.8184 - val_accuracy: 0.5224\n",
      "Epoch 161/300\n",
      "8/8 [==============================] - 0s 12ms/step - loss: 0.3685 - accuracy: 0.8336 - val_loss: 0.8311 - val_accuracy: 0.5224\n",
      "Epoch 162/300\n",
      "8/8 [==============================] - 0s 12ms/step - loss: 0.3058 - accuracy: 0.8972 - val_loss: 0.7338 - val_accuracy: 0.5821\n",
      "Epoch 163/300\n",
      "8/8 [==============================] - 0s 12ms/step - loss: 0.3465 - accuracy: 0.8595 - val_loss: 0.8268 - val_accuracy: 0.5224\n",
      "Epoch 164/300\n",
      "8/8 [==============================] - 0s 13ms/step - loss: 0.3225 - accuracy: 0.8790 - val_loss: 0.7020 - val_accuracy: 0.5970\n",
      "Epoch 165/300\n",
      "8/8 [==============================] - 0s 12ms/step - loss: 0.3484 - accuracy: 0.8700 - val_loss: 0.8630 - val_accuracy: 0.5075\n",
      "Epoch 166/300\n",
      "8/8 [==============================] - 0s 12ms/step - loss: 0.3169 - accuracy: 0.8564 - val_loss: 0.7949 - val_accuracy: 0.5373\n",
      "Epoch 167/300\n",
      "8/8 [==============================] - 0s 11ms/step - loss: 0.3219 - accuracy: 0.8984 - val_loss: 0.6846 - val_accuracy: 0.5970\n",
      "Epoch 168/300\n",
      "8/8 [==============================] - 0s 9ms/step - loss: 0.3458 - accuracy: 0.8585 - val_loss: 0.8751 - val_accuracy: 0.5075\n",
      "Epoch 169/300\n",
      "8/8 [==============================] - 0s 11ms/step - loss: 0.3189 - accuracy: 0.8533 - val_loss: 0.7210 - val_accuracy: 0.5970\n",
      "Epoch 170/300\n",
      "8/8 [==============================] - 0s 14ms/step - loss: 0.3422 - accuracy: 0.8643 - val_loss: 0.7881 - val_accuracy: 0.5522\n",
      "Epoch 171/300\n",
      "8/8 [==============================] - 0s 12ms/step - loss: 0.3151 - accuracy: 0.8736 - val_loss: 0.7090 - val_accuracy: 0.5970\n",
      "Epoch 172/300\n",
      "8/8 [==============================] - 0s 12ms/step - loss: 0.3384 - accuracy: 0.8751 - val_loss: 0.8171 - val_accuracy: 0.5373\n",
      "Epoch 173/300\n",
      "8/8 [==============================] - 0s 13ms/step - loss: 0.3220 - accuracy: 0.8619 - val_loss: 0.8109 - val_accuracy: 0.5373\n",
      "Epoch 174/300\n"
     ]
    },
    {
     "name": "stdout",
     "output_type": "stream",
     "text": [
      "8/8 [==============================] - 0s 12ms/step - loss: 0.2696 - accuracy: 0.8967 - val_loss: 0.7142 - val_accuracy: 0.5970\n",
      "Epoch 175/300\n",
      "8/8 [==============================] - 0s 12ms/step - loss: 0.3458 - accuracy: 0.8686 - val_loss: 0.7853 - val_accuracy: 0.5672\n",
      "Epoch 176/300\n",
      "8/8 [==============================] - 0s 11ms/step - loss: 0.3560 - accuracy: 0.8409 - val_loss: 0.7595 - val_accuracy: 0.5672\n",
      "Epoch 177/300\n",
      "8/8 [==============================] - 0s 10ms/step - loss: 0.3520 - accuracy: 0.8514 - val_loss: 0.8119 - val_accuracy: 0.5373\n",
      "Epoch 178/300\n",
      "8/8 [==============================] - 0s 11ms/step - loss: 0.3397 - accuracy: 0.8766 - val_loss: 0.7920 - val_accuracy: 0.5522\n",
      "Epoch 179/300\n",
      "8/8 [==============================] - 0s 11ms/step - loss: 0.3283 - accuracy: 0.8503 - val_loss: 0.8100 - val_accuracy: 0.5373\n",
      "Epoch 180/300\n",
      "8/8 [==============================] - 0s 14ms/step - loss: 0.3052 - accuracy: 0.8958 - val_loss: 0.7303 - val_accuracy: 0.5970\n",
      "Epoch 181/300\n",
      "8/8 [==============================] - 0s 11ms/step - loss: 0.3295 - accuracy: 0.8627 - val_loss: 0.8006 - val_accuracy: 0.5522\n",
      "Epoch 182/300\n",
      "8/8 [==============================] - 0s 10ms/step - loss: 0.3084 - accuracy: 0.8922 - val_loss: 0.7479 - val_accuracy: 0.5821\n",
      "Epoch 183/300\n",
      "8/8 [==============================] - 0s 12ms/step - loss: 0.3034 - accuracy: 0.8827 - val_loss: 0.7752 - val_accuracy: 0.5821\n",
      "Epoch 184/300\n",
      "8/8 [==============================] - 0s 13ms/step - loss: 0.2838 - accuracy: 0.9038 - val_loss: 0.7333 - val_accuracy: 0.5821\n",
      "Epoch 185/300\n",
      "8/8 [==============================] - 0s 12ms/step - loss: 0.3438 - accuracy: 0.8614 - val_loss: 0.8371 - val_accuracy: 0.5373\n",
      "Epoch 186/300\n",
      "8/8 [==============================] - 0s 12ms/step - loss: 0.3000 - accuracy: 0.8947 - val_loss: 0.7321 - val_accuracy: 0.5821\n",
      "Epoch 187/300\n",
      "8/8 [==============================] - 0s 12ms/step - loss: 0.3071 - accuracy: 0.8715 - val_loss: 0.8141 - val_accuracy: 0.5522\n",
      "Epoch 188/300\n",
      "8/8 [==============================] - 0s 12ms/step - loss: 0.3185 - accuracy: 0.8687 - val_loss: 0.7778 - val_accuracy: 0.5672\n",
      "Epoch 189/300\n",
      "8/8 [==============================] - 0s 11ms/step - loss: 0.3044 - accuracy: 0.8840 - val_loss: 0.7841 - val_accuracy: 0.5672\n",
      "Epoch 190/300\n",
      "8/8 [==============================] - 0s 12ms/step - loss: 0.3533 - accuracy: 0.8796 - val_loss: 0.8057 - val_accuracy: 0.5522\n",
      "Epoch 191/300\n",
      "8/8 [==============================] - 0s 12ms/step - loss: 0.3599 - accuracy: 0.8491 - val_loss: 0.8390 - val_accuracy: 0.5522\n",
      "Epoch 192/300\n",
      "8/8 [==============================] - 0s 12ms/step - loss: 0.2982 - accuracy: 0.8856 - val_loss: 0.6553 - val_accuracy: 0.6269\n",
      "Epoch 193/300\n",
      "8/8 [==============================] - 0s 12ms/step - loss: 0.3532 - accuracy: 0.8558 - val_loss: 0.8830 - val_accuracy: 0.5373\n",
      "Epoch 194/300\n",
      "8/8 [==============================] - 0s 12ms/step - loss: 0.3281 - accuracy: 0.8770 - val_loss: 0.7097 - val_accuracy: 0.6119\n",
      "Epoch 195/300\n",
      "8/8 [==============================] - 0s 12ms/step - loss: 0.3074 - accuracy: 0.8737 - val_loss: 0.8777 - val_accuracy: 0.5373\n",
      "Epoch 196/300\n",
      "8/8 [==============================] - 0s 12ms/step - loss: 0.3080 - accuracy: 0.8716 - val_loss: 0.6596 - val_accuracy: 0.6119\n",
      "Epoch 197/300\n",
      "8/8 [==============================] - 0s 12ms/step - loss: 0.3241 - accuracy: 0.8604 - val_loss: 0.8787 - val_accuracy: 0.5224\n",
      "Epoch 198/300\n",
      "8/8 [==============================] - 0s 12ms/step - loss: 0.2721 - accuracy: 0.9007 - val_loss: 0.6594 - val_accuracy: 0.6269\n",
      "Epoch 199/300\n",
      "8/8 [==============================] - 0s 12ms/step - loss: 0.3436 - accuracy: 0.8718 - val_loss: 0.7699 - val_accuracy: 0.5821\n",
      "Epoch 200/300\n",
      "8/8 [==============================] - 0s 12ms/step - loss: 0.2993 - accuracy: 0.8956 - val_loss: 0.7554 - val_accuracy: 0.5970\n",
      "Epoch 201/300\n",
      "8/8 [==============================] - 0s 11ms/step - loss: 0.3273 - accuracy: 0.8823 - val_loss: 0.8586 - val_accuracy: 0.5224\n",
      "Epoch 202/300\n",
      "8/8 [==============================] - 0s 12ms/step - loss: 0.3179 - accuracy: 0.8655 - val_loss: 0.8145 - val_accuracy: 0.5522\n",
      "Epoch 203/300\n",
      "8/8 [==============================] - 0s 12ms/step - loss: 0.3131 - accuracy: 0.8665 - val_loss: 0.7263 - val_accuracy: 0.5970\n",
      "Epoch 204/300\n",
      "8/8 [==============================] - 0s 12ms/step - loss: 0.3205 - accuracy: 0.8594 - val_loss: 0.8393 - val_accuracy: 0.5373\n",
      "Epoch 205/300\n",
      "8/8 [==============================] - 0s 12ms/step - loss: 0.3075 - accuracy: 0.8676 - val_loss: 0.7059 - val_accuracy: 0.5970\n",
      "Epoch 206/300\n",
      "8/8 [==============================] - 0s 12ms/step - loss: 0.3269 - accuracy: 0.8794 - val_loss: 0.8610 - val_accuracy: 0.5224\n",
      "Epoch 207/300\n",
      "8/8 [==============================] - 0s 12ms/step - loss: 0.3269 - accuracy: 0.8511 - val_loss: 0.7865 - val_accuracy: 0.5821\n",
      "Epoch 208/300\n",
      "8/8 [==============================] - 0s 12ms/step - loss: 0.3100 - accuracy: 0.8761 - val_loss: 0.7402 - val_accuracy: 0.5970\n",
      "Epoch 209/300\n",
      "8/8 [==============================] - 0s 13ms/step - loss: 0.2985 - accuracy: 0.8900 - val_loss: 0.7659 - val_accuracy: 0.5821\n",
      "Epoch 210/300\n",
      "1/8 [==>...........................] - ETA: 0s - loss: 0.3530 - accuracy: 0.84"
     ]
    }
   ],
   "source": [
    "#compile and fit the model\n",
    "model.compile(loss='binary_crossentropy', optimizer='adam', metrics=['accuracy'])\n",
    "history = model.fit(X, y, validation_split=0.22, epochs=300)"
   ]
  },
  {
   "cell_type": "code",
   "execution_count": null,
   "metadata": {},
   "outputs": [],
   "source": [
    "#plot loss vs epochs\n",
    "plt.plot(history.history['loss'])\n",
    "plt.plot(history.history['val_loss'])\n",
    "plt.title('model loss')\n",
    "plt.ylabel('loss')\n",
    "plt.xlabel('no of epochs')\n",
    "plt.legend(['train','test'],loc='upper left')\n",
    "plt.show()"
   ]
  },
  {
   "cell_type": "code",
   "execution_count": null,
   "metadata": {},
   "outputs": [],
   "source": [
    "#plot accuracy vs epochs\n",
    "plt.plot(history.history['accuracy'])\n",
    "plt.plot(history.history['val_accuracy'])\n",
    "plt.title('model accuracy')\n",
    "plt.ylabel('accuracy')\n",
    "plt.xlabel('no of epochs')\n",
    "plt.legend(['train','test'],loc='upper left')\n",
    "plt.show()"
   ]
  },
  {
   "cell_type": "code",
   "execution_count": null,
   "metadata": {},
   "outputs": [],
   "source": [
    "import numpy as np\n",
    "from numpy import array\n",
    "\n",
    "#input for 13 features\n",
    "Xnew = np.array([[67,1,0,125,254,1,1,163,0,0.2,1,2,3]])\n",
    "\n",
    "#Xnew = np.array([[18,1,0,130,253,0,1,144,1,1.4,2,1,3]])\n",
    "\n",
    "#convert into numpy array\n",
    "Xnew = np.array(Xnew, dtype=np.float64)\n",
    "\n",
    "#making the prediction\n",
    "Ynew = (model.predict(Xnew)>0.5).astype(\"int32\")\n",
    "\n",
    "print(Ynew[0])"
   ]
  },
  {
   "cell_type": "code",
   "execution_count": null,
   "metadata": {},
   "outputs": [],
   "source": []
  }
 ],
 "metadata": {
  "kernelspec": {
   "display_name": "Python 3",
   "language": "python",
   "name": "python3"
  },
  "language_info": {
   "codemirror_mode": {
    "name": "ipython",
    "version": 3
   },
   "file_extension": ".py",
   "mimetype": "text/x-python",
   "name": "python",
   "nbconvert_exporter": "python",
   "pygments_lexer": "ipython3",
   "version": "3.8.5"
  }
 },
 "nbformat": 4,
 "nbformat_minor": 4
}
