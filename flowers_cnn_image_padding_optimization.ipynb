{
 "cells": [
  {
   "cell_type": "code",
   "execution_count": 23,
   "metadata": {
    "scrolled": true
   },
   "outputs": [],
   "source": [
    "from tensorflow import keras\n",
    "from tensorflow.keras import layers\n",
    "from keras.preprocessing.image import ImageDataGenerator"
   ]
  },
  {
   "cell_type": "code",
   "execution_count": 24,
   "metadata": {
    "scrolled": true
   },
   "outputs": [],
   "source": [
    "#construct an instance of ImageDataGenerator class\n",
    "train_datagen = ImageDataGenerator(\n",
    "    rescale = 1\n",
    ")\n",
    "test_datagen = ImageDataGenerator(\n",
    "    rescale = 1\n",
    ")"
   ]
  },
  {
   "cell_type": "code",
   "execution_count": 25,
   "metadata": {},
   "outputs": [],
   "source": [
    "#defining the sequential model for multiclass classification\n",
    "model = keras.Sequential()"
   ]
  },
  {
   "cell_type": "code",
   "execution_count": 26,
   "metadata": {
    "scrolled": true
   },
   "outputs": [],
   "source": [
    "# Defining the CNN layers\n",
    "model.add(layers.Conv2D(32, (3,3), activation='relu', input_shape=(100,100,3), padding='same'))\n",
    "model.add(layers.MaxPooling2D((2,2)))\n",
    "\n",
    "model.add(layers.Conv2D(64, (3,3), activation='relu', padding='same'))\n",
    "model.add(layers.MaxPooling2D((2,2)))\n",
    "          \n",
    "model.add(layers.Conv2D(128, (3,3), activation='relu', padding='same'))\n",
    "model.add(layers.MaxPooling2D((2,2)))\n",
    "          \n",
    "model.add(layers.Flatten())\n",
    "model.add(layers.Dense(512, activation='relu'))\n",
    "\n",
    "model.add(layers.Dense(5, activation='softmax'))"
   ]
  },
  {
   "cell_type": "code",
   "execution_count": 27,
   "metadata": {},
   "outputs": [
    {
     "name": "stdout",
     "output_type": "stream",
     "text": [
      "Found 3113 images belonging to 5 classes.\n",
      "Found 1210 images belonging to 5 classes.\n"
     ]
    }
   ],
   "source": [
    "#prepare iterators to loop through each and every image\n",
    "training_iterator = train_datagen.flow_from_directory('dataset/flowers/train', batch_size=64, target_size=(100,100))\n",
    "testing_iterator = test_datagen.flow_from_directory('dataset/flowers/test', batch_size=64, target_size=(100,100))\n"
   ]
  },
  {
   "cell_type": "code",
   "execution_count": 28,
   "metadata": {
    "scrolled": true
   },
   "outputs": [
    {
     "name": "stdout",
     "output_type": "stream",
     "text": [
      "Epoch 1/8\n",
      "49/49 [==============================] - 47s 938ms/step - loss: 113.0330 - accuracy: 0.2459 - val_loss: 1.4527 - val_accuracy: 0.3702\n",
      "Epoch 2/8\n",
      "49/49 [==============================] - 41s 837ms/step - loss: 1.3518 - accuracy: 0.4445 - val_loss: 1.3849 - val_accuracy: 0.4041\n",
      "Epoch 3/8\n",
      "49/49 [==============================] - 39s 796ms/step - loss: 1.0948 - accuracy: 0.5719 - val_loss: 1.2770 - val_accuracy: 0.4893\n",
      "Epoch 4/8\n",
      "49/49 [==============================] - 40s 812ms/step - loss: 0.8127 - accuracy: 0.6780 - val_loss: 1.3914 - val_accuracy: 0.4942\n",
      "Epoch 5/8\n",
      "49/49 [==============================] - 39s 799ms/step - loss: 0.6635 - accuracy: 0.7523 - val_loss: 1.4557 - val_accuracy: 0.5124\n",
      "Epoch 6/8\n",
      "49/49 [==============================] - 41s 828ms/step - loss: 0.4476 - accuracy: 0.8420 - val_loss: 1.6954 - val_accuracy: 0.4802\n",
      "Epoch 7/8\n",
      "49/49 [==============================] - 47s 963ms/step - loss: 0.3465 - accuracy: 0.8900 - val_loss: 1.9641 - val_accuracy: 0.4876\n",
      "Epoch 8/8\n",
      "49/49 [==============================] - 42s 859ms/step - loss: 0.1997 - accuracy: 0.9445 - val_loss: 2.1850 - val_accuracy: 0.5132\n"
     ]
    }
   ],
   "source": [
    "#Compile and fit the model\n",
    "model.compile(loss='categorical_crossentropy', metrics=['accuracy'], optimizer='adam')\n",
    "history = model.fit(training_iterator, validation_data = testing_iterator, epochs=8)"
   ]
  },
  {
   "cell_type": "code",
   "execution_count": 29,
   "metadata": {},
   "outputs": [
    {
     "data": {
      "image/png": "[encoded data removed]",
      "text/plain": [
       "<Figure size 432x288 with 1 Axes>"
      ]
     },
     "metadata": {
      "needs_background": "light"
     },
     "output_type": "display_data"
    }
   ],
   "source": [
    "import matplotlib.pyplot as plt\n",
    "\n",
    "#plot loss vs epochs\n",
    "plt.plot(history.history['loss'])\n",
    "plt.plot(history.history['val_loss'])\n",
    "plt.title('model loss')\n",
    "plt.ylabel('loss')\n",
    "plt.xlabel('no of epochs')\n",
    "plt.legend(['train','test'],loc='upper left')\n",
    "plt.show()"
   ]
  },
  {
   "cell_type": "code",
   "execution_count": 30,
   "metadata": {},
   "outputs": [
    {
     "data": {
      "image/png": "[encoded data removed]",
      "text/plain": [
       "<Figure size 432x288 with 1 Axes>"
      ]
     },
     "metadata": {
      "needs_background": "light"
     },
     "output_type": "display_data"
    }
   ],
   "source": [
    "#plot accuracy vs epochs\n",
    "plt.plot(history.history['accuracy'])\n",
    "plt.plot(history.history['val_accuracy'])\n",
    "plt.title('model accuracy')\n",
    "plt.ylabel('accuracy')\n",
    "plt.xlabel('no of epochs')\n",
    "plt.legend(['train','test'],loc='upper left')\n",
    "plt.show()"
   ]
  },
  {
   "cell_type": "code",
   "execution_count": 31,
   "metadata": {},
   "outputs": [
    {
     "name": "stdout",
     "output_type": "stream",
     "text": [
      "{'daisy': 0, 'dandelion': 1, 'rose': 2, 'sunflower': 3, 'tulip': 4}\n"
     ]
    }
   ],
   "source": [
    "#get the class labels from iterator\n",
    "class_labels = training_iterator.class_indices\n",
    "print(class_labels)"
   ]
  },
  {
   "cell_type": "code",
   "execution_count": 32,
   "metadata": {},
   "outputs": [],
   "source": [
    "# {'daisy': 0, 'dandelion': 1, 'rose': 2, 'sunflower': 3, 'tulip': 4}"
   ]
  }
 ],
 "metadata": {
  "kernelspec": {
   "display_name": "Python 3",
   "language": "python",
   "name": "python3"
  },
  "language_info": {
   "codemirror_mode": {
    "name": "ipython",
    "version": 3
   },
   "file_extension": ".py",
   "mimetype": "text/x-python",
   "name": "python",
   "nbconvert_exporter": "python",
   "pygments_lexer": "ipython3",
   "version": "3.8.5"
  }
 },
 "nbformat": 4,
 "nbformat_minor": 4
}
