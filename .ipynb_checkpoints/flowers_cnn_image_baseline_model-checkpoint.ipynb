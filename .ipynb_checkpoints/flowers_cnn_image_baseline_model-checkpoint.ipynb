{
 "cells": [
  {
   "cell_type": "code",
   "execution_count": 2,
   "metadata": {
    "scrolled": true
   },
   "outputs": [],
   "source": [
    "from tensorflow import keras\n",
    "from tensorflow.keras import layers\n",
    "from keras.preprocessing.image import ImageDataGenerator"
   ]
  },
  {
   "cell_type": "code",
   "execution_count": 3,
   "metadata": {
    "scrolled": true
   },
   "outputs": [],
   "source": [
    "#construct an instance of ImageDataGenerator class\n",
    "train_datagen = ImageDataGenerator(\n",
    "    rescale = 1\n",
    ")\n",
    "test_datagen = ImageDataGenerator(\n",
    "    rescale = 1\n",
    ")"
   ]
  },
  {
   "cell_type": "code",
   "execution_count": 4,
   "metadata": {},
   "outputs": [],
   "source": [
    "#defining the sequential model for multiclass classification\n",
    "model = keras.Sequential()"
   ]
  },
  {
   "cell_type": "code",
   "execution_count": 5,
   "metadata": {
    "scrolled": true
   },
   "outputs": [],
   "source": [
    "# Defining the CNN layers\n",
    "model.add(layers.Conv2D(32, (3,3), activation='relu', input_shape=(100,100,3)))\n",
    "model.add(layers.MaxPooling2D((2,2)))\n",
    "\n",
    "model.add(layers.Conv2D(64, (3,3), activation='relu'))\n",
    "model.add(layers.MaxPooling2D((2,2)))\n",
    "\n",
    "model.add(layers.Conv2D(128, (3,3), activation='relu'))\n",
    "model.add(layers.MaxPooling2D((2,2)))\n",
    "\n",
    "model.add(layers.Flatten())\n",
    "\n",
    "model.add(layers.Dense(512, activation='relu'))\n",
    "model.add(layers.Dense(5, activation='softmax'))"
   ]
  },
  {
   "cell_type": "code",
   "execution_count": 6,
   "metadata": {},
   "outputs": [
    {
     "name": "stdout",
     "output_type": "stream",
     "text": [
      "Found 3113 images belonging to 5 classes.\n",
      "Found 1210 images belonging to 5 classes.\n"
     ]
    }
   ],
   "source": [
    "#prepare iterators to loop through each and every image\n",
    "training_iterator = train_datagen.flow_from_directory('dataset/flowers/train', batch_size=64, target_size=(100,100))\n",
    "testing_iterator = test_datagen.flow_from_directory('dataset/flowers/test', batch_size=64, target_size=(100,100))\n"
   ]
  },
  {
   "cell_type": "code",
   "execution_count": 8,
   "metadata": {},
   "outputs": [
    {
     "name": "stdout",
     "output_type": "stream",
     "text": [
      "Epoch 1/8\n",
      "49/49 [==============================] - 34s 672ms/step - loss: 0.7104 - accuracy: 0.7746 - val_loss: 2.1507 - val_accuracy: 0.4620\n",
      "Epoch 2/8\n",
      "49/49 [==============================] - 32s 662ms/step - loss: 0.3342 - accuracy: 0.8856 - val_loss: 2.4883 - val_accuracy: 0.4694\n",
      "Epoch 3/8\n",
      "49/49 [==============================] - 32s 662ms/step - loss: 0.2224 - accuracy: 0.9292 - val_loss: 2.5664 - val_accuracy: 0.4893\n",
      "Epoch 4/8\n",
      "49/49 [==============================] - 33s 667ms/step - loss: 0.1660 - accuracy: 0.9501 - val_loss: 3.0657 - val_accuracy: 0.5058\n",
      "Epoch 5/8\n",
      "49/49 [==============================] - 32s 664ms/step - loss: 0.1728 - accuracy: 0.9494 - val_loss: 2.8844 - val_accuracy: 0.5116\n",
      "Epoch 6/8\n",
      "49/49 [==============================] - 33s 672ms/step - loss: 0.1439 - accuracy: 0.9589 - val_loss: 3.1960 - val_accuracy: 0.4736\n",
      "Epoch 7/8\n",
      "49/49 [==============================] - 32s 661ms/step - loss: 0.1501 - accuracy: 0.9539 - val_loss: 3.5024 - val_accuracy: 0.4570\n",
      "Epoch 8/8\n",
      "49/49 [==============================] - 33s 667ms/step - loss: 0.1164 - accuracy: 0.9636 - val_loss: 3.6618 - val_accuracy: 0.4727\n"
     ]
    }
   ],
   "source": [
    "#Compile and fit the model\n",
    "model.compile(loss='categorical_crossentropy', metrics=['accuracy'], optimizer='adam')\n",
    "history = model.fit(training_iterator, validation_data = testing_iterator, epochs=8)"
   ]
  },
  {
   "cell_type": "code",
   "execution_count": 9,
   "metadata": {},
   "outputs": [
    {
     "data": {
      "image/png": "[encoded data removed]",
      "text/plain": [
       "<Figure size 432x288 with 1 Axes>"
      ]
     },
     "metadata": {
      "needs_background": "light"
     },
     "output_type": "display_data"
    }
   ],
   "source": [
    "import matplotlib.pyplot as plt\n",
    "\n",
    "#plot loss vs epochs\n",
    "plt.plot(history.history['loss'])\n",
    "plt.plot(history.history['val_loss'])\n",
    "plt.title('model loss')\n",
    "plt.ylabel('loss')\n",
    "plt.xlabel('no of epochs')\n",
    "plt.legend(['train','test'],loc='upper left')\n",
    "plt.show()"
   ]
  },
  {
   "cell_type": "code",
   "execution_count": 10,
   "metadata": {},
   "outputs": [
    {
     "data": {
      "image/png": "[encoded data removed]",
      "text/plain": [
       "<Figure size 432x288 with 1 Axes>"
      ]
     },
     "metadata": {
      "needs_background": "light"
     },
     "output_type": "display_data"
    }
   ],
   "source": [
    "#plot accuracy vs epochs\n",
    "plt.plot(history.history['accuracy'])\n",
    "plt.plot(history.history['val_accuracy'])\n",
    "plt.title('model accuracy')\n",
    "plt.ylabel('accuracy')\n",
    "plt.xlabel('no of epochs')\n",
    "plt.legend(['train','test'],loc='upper left')\n",
    "plt.show()"
   ]
  },
  {
   "cell_type": "code",
   "execution_count": 11,
   "metadata": {},
   "outputs": [],
   "source": [
    "#save the model\n",
    "model.save('models/flower_baseline_model.h5')"
   ]
  },
  {
   "cell_type": "code",
   "execution_count": null,
   "metadata": {},
   "outputs": [],
   "source": []
  }
 ],
 "metadata": {
  "kernelspec": {
   "display_name": "Python 3",
   "language": "python",
   "name": "python3"
  },
  "language_info": {
   "codemirror_mode": {
    "name": "ipython",
    "version": 3
   },
   "file_extension": ".py",
   "mimetype": "text/x-python",
   "name": "python",
   "nbconvert_exporter": "python",
   "pygments_lexer": "ipython3",
   "version": "3.8.5"
  }
 },
 "nbformat": 4,
 "nbformat_minor": 4
}
