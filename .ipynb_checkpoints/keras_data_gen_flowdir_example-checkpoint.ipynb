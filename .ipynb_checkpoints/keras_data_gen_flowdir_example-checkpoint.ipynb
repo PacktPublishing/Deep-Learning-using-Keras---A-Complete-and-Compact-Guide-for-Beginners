{
 "cells": [
  {
   "cell_type": "code",
   "execution_count": 3,
   "metadata": {},
   "outputs": [],
   "source": [
    "from keras.preprocessing.image import ImageDataGenerator\n",
    "import matplotlib.pyplot as plt\n",
    "import numpy as np"
   ]
  },
  {
   "cell_type": "code",
   "execution_count": 10,
   "metadata": {},
   "outputs": [],
   "source": [
    "#construct an instance of ImageDataGenerator class\n",
    "datagen = ImageDataGenerator(\n",
    "rotation_range=40,\n",
    "width_shift_range=0.2,\n",
    "height_shift_range=0.2,\n",
    "shear_range=0.2,\n",
    "zoom_range=0.2,\n",
    "brightness_range=[0.2,2.0],\n",
    "horizontal_flip=True,\n",
    "fill_mode='nearest')"
   ]
  },
  {
   "cell_type": "code",
   "execution_count": null,
   "metadata": {
    "scrolled": true
   },
   "outputs": [],
   "source": [
    "#initializing the counter for break statement\n",
    "i=0\n",
    "\n",
    "#getting the iterator as 'batch' from the flow_from_directory()\n",
    "for batch in datagen.flow_from_directory('dataset/cat_dog_images',batch_size=1):\n",
    "    \n",
    "    #Only if want to view the image inline in jupyter\n",
    "    #convert to unsigned integers\n",
    "    image = batch[0].astype('uint8')\n",
    "    #changing the image from multi image based 4D to single 3D\n",
    "    image =  np.squeeze(image)\n",
    "    plt.imshow(image)\n",
    "    plt.show()\n",
    "    \n",
    "    i = i+1\n",
    "    if i > 50:\n",
    "        break #break the loop at the count of 50\n",
    "    "
   ]
  },
  {
   "cell_type": "code",
   "execution_count": null,
   "metadata": {},
   "outputs": [],
   "source": []
  }
 ],
 "metadata": {
  "kernelspec": {
   "display_name": "Python 3",
   "language": "python",
   "name": "python3"
  },
  "language_info": {
   "codemirror_mode": {
    "name": "ipython",
    "version": 3
   },
   "file_extension": ".py",
   "mimetype": "text/x-python",
   "name": "python",
   "nbconvert_exporter": "python",
   "pygments_lexer": "ipython3",
   "version": "3.8.5"
  }
 },
 "nbformat": 4,
 "nbformat_minor": 4
}
