{
 "cells": [
  {
   "cell_type": "code",
   "execution_count": 1,
   "metadata": {},
   "outputs": [
    {
     "name": "stdout",
     "output_type": "stream",
     "text": [
      "Found 3123 images belonging to 5 classes.\n",
      "Found 1200 images belonging to 5 classes.\n",
      "Epoch 1/8\n",
      "49/49 [==============================] - 84s 2s/step - loss: 45.3081 - accuracy: 0.2981 - val_loss: 1.4912 - val_accuracy: 0.3367\n",
      "Epoch 2/8\n",
      "49/49 [==============================] - 38s 771ms/step - loss: 1.3842 - accuracy: 0.4233 - val_loss: 1.3652 - val_accuracy: 0.4150\n",
      "Epoch 3/8\n",
      "49/49 [==============================] - 39s 806ms/step - loss: 1.2420 - accuracy: 0.5107 - val_loss: 1.4762 - val_accuracy: 0.3750\n",
      "Epoch 4/8\n",
      "49/49 [==============================] - 39s 786ms/step - loss: 1.0923 - accuracy: 0.5677 - val_loss: 1.3645 - val_accuracy: 0.4533\n",
      "Epoch 5/8\n",
      "49/49 [==============================] - 38s 781ms/step - loss: 0.9185 - accuracy: 0.6462 - val_loss: 1.4605 - val_accuracy: 0.4892\n",
      "Epoch 6/8\n",
      "49/49 [==============================] - 38s 783ms/step - loss: 0.7213 - accuracy: 0.7358 - val_loss: 1.6047 - val_accuracy: 0.4483\n",
      "Epoch 7/8\n",
      "49/49 [==============================] - 38s 781ms/step - loss: 0.4795 - accuracy: 0.8348 - val_loss: 1.6765 - val_accuracy: 0.4908\n",
      "Epoch 8/8\n",
      "49/49 [==============================] - 39s 802ms/step - loss: 0.3271 - accuracy: 0.8921 - val_loss: 1.9693 - val_accuracy: 0.4692\n"
     ]
    }
   ],
   "source": [
    "from tensorflow import keras\n",
    "from tensorflow.keras import layers\n",
    "from tensorflow.keras.preprocessing.image import ImageDataGenerator\n",
    "\n",
    "# construct an instance of the ImageDataGenerator class\n",
    "train_datagen = ImageDataGenerator(\n",
    "    rescale = 1)\n",
    "\n",
    "test_datagen = ImageDataGenerator(\n",
    "    rescale = 1)\n",
    "\n",
    "model = keras.Sequential()\n",
    "model.add(layers.Conv2D(32, (3, 3), activation='relu', input_shape=(100, 100, 3)))\n",
    "model.add(layers.MaxPooling2D((2, 2)))\n",
    "model.add(layers.Conv2D(64, (3, 3), activation='relu'))\n",
    "model.add(layers.MaxPooling2D((2, 2)))\n",
    "model.add(layers.Conv2D(128, (3, 3), activation='relu'))\n",
    "model.add(layers.MaxPooling2D((2, 2)))\n",
    "model.add(layers.Flatten())\n",
    "model.add(layers.Dense(512, activation='relu'))\n",
    "model.add(layers.Dense(5, activation='softmax'))\n",
    "\n",
    "# prepare iterators\n",
    "training_iterator = train_datagen.flow_from_directory('dataset/flowers/train', batch_size=64, target_size=(100, 100))\n",
    "# move around 240 images (30% of 800) from train to test for every flower\n",
    "testing_iterator = test_datagen.flow_from_directory('dataset/flowers/test', batch_size=64, target_size=(100, 100))\n",
    "\n",
    "# compile model\n",
    "model.compile(loss = \"categorical_crossentropy\", metrics=['accuracy'], optimizer='adam')\n",
    "\n",
    "# fit model\n",
    "history = model.fit(training_iterator, validation_data=testing_iterator, epochs = 8 )"
   ]
  },
  {
   "cell_type": "code",
   "execution_count": 2,
   "metadata": {},
   "outputs": [
    {
     "data": {
      "image/png": "[encoded data removed]",
      "text/plain": [
       "<Figure size 432x288 with 1 Axes>"
      ]
     },
     "metadata": {
      "needs_background": "light"
     },
     "output_type": "display_data"
    }
   ],
   "source": [
    "import matplotlib.pyplot as plt\n",
    "\n",
    "#plot loss vs epochs\n",
    "plt.plot(history.history['loss'])\n",
    "plt.plot(history.history['val_loss'])\n",
    "plt.title('model loss')\n",
    "plt.ylabel('loss')\n",
    "plt.xlabel('no of epochs')\n",
    "plt.legend(['train','test'],loc='upper left')\n",
    "plt.show()"
   ]
  },
  {
   "cell_type": "code",
   "execution_count": 3,
   "metadata": {},
   "outputs": [
    {
     "data": {
      "image/png": "[encoded data removed]",
      "text/plain": [
       "<Figure size 432x288 with 1 Axes>"
      ]
     },
     "metadata": {
      "needs_background": "light"
     },
     "output_type": "display_data"
    }
   ],
   "source": [
    "#plot accuracy vs epochs\n",
    "plt.plot(history.history['accuracy'])\n",
    "plt.plot(history.history['val_accuracy'])\n",
    "plt.title('model accuracy')\n",
    "plt.ylabel('accuracy')\n",
    "plt.xlabel('no of epochs')\n",
    "plt.legend(['train','test'],loc='upper left')\n",
    "plt.show()"
   ]
  },
  {
   "cell_type": "code",
   "execution_count": 4,
   "metadata": {},
   "outputs": [],
   "source": [
    "model.save('models/flower_baseline_model.h5')"
   ]
  },
  {
   "cell_type": "code",
   "execution_count": 26,
   "metadata": {},
   "outputs": [
    {
     "name": "stdout",
     "output_type": "stream",
     "text": [
      "[[6.0674066e-10 1.5466654e-16 7.3428173e-04 2.4979357e-14 9.9926573e-01]]\n",
      "{'daisy': 0, 'dandelion': 1, 'rose': 2, 'sunflower': 3, 'tulip': 4}\n",
      "4\n",
      "The prediction is :\n",
      "tulip\n"
     ]
    }
   ],
   "source": [
    "from tensorflow.keras.preprocessing.image import load_img, img_to_array\n",
    "import numpy as np\n",
    "\n",
    "# load the image\n",
    "img = load_img('dataset/flowers/test/tulip/12916135413_dafcf3089e_n.jpg', target_size=(100, 100))\n",
    "\n",
    "# convert to array\n",
    "img = img_to_array(img)\n",
    "# reshape into a single sample with 3 channels\n",
    "img = img.reshape(1, 100, 100, 3)\n",
    "\n",
    "result = model.predict(img)\n",
    "# load image from images folder\n",
    "\n",
    "#Prediction probablities\n",
    "print(result)\n",
    "#List of all classes is \n",
    "print(testing_iterator.class_indices)\n",
    "#Maximum probablity class is\n",
    "print(np.argmax(result))\n",
    "\n",
    "# To print a predicted label from testing_iterator.class_indices\n",
    "print(\"The prediction is :\")\n",
    "print([key for key in testing_iterator.class_indices.keys()][np.argmax(result)])"
   ]
  },
  {
   "cell_type": "code",
   "execution_count": null,
   "metadata": {},
   "outputs": [],
   "source": []
  }
 ],
 "metadata": {
  "kernelspec": {
   "display_name": "Python 3",
   "language": "python",
   "name": "python3"
  },
  "language_info": {
   "codemirror_mode": {
    "name": "ipython",
    "version": 3
   },
   "file_extension": ".py",
   "mimetype": "text/x-python",
   "name": "python",
   "nbconvert_exporter": "python",
   "pygments_lexer": "ipython3",
   "version": "3.8.5"
  }
 },
 "nbformat": 4,
 "nbformat_minor": 5
}
