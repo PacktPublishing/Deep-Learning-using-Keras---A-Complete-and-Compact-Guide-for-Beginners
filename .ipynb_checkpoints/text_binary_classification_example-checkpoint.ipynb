{
 "cells": [
  {
   "cell_type": "code",
   "execution_count": 2,
   "metadata": {},
   "outputs": [],
   "source": [
    "import numpy as np\n",
    "import pandas as pd"
   ]
  },
  {
   "cell_type": "code",
   "execution_count": 3,
   "metadata": {},
   "outputs": [
    {
     "data": {
      "text/html": [
       "<div>\n",
       "<style scoped>\n",
       "    .dataframe tbody tr th:only-of-type {\n",
       "        vertical-align: middle;\n",
       "    }\n",
       "\n",
       "    .dataframe tbody tr th {\n",
       "        vertical-align: top;\n",
       "    }\n",
       "\n",
       "    .dataframe thead th {\n",
       "        text-align: right;\n",
       "    }\n",
       "</style>\n",
       "<table border=\"1\" class=\"dataframe\">\n",
       "  <thead>\n",
       "    <tr style=\"text-align: right;\">\n",
       "      <th></th>\n",
       "      <th>age</th>\n",
       "      <th>sex</th>\n",
       "      <th>cp</th>\n",
       "      <th>trestbps</th>\n",
       "      <th>chol</th>\n",
       "      <th>fbs</th>\n",
       "      <th>restecg</th>\n",
       "      <th>thalach</th>\n",
       "      <th>exang</th>\n",
       "      <th>oldpeak</th>\n",
       "      <th>slope</th>\n",
       "      <th>ca</th>\n",
       "      <th>thal</th>\n",
       "      <th>target</th>\n",
       "    </tr>\n",
       "  </thead>\n",
       "  <tbody>\n",
       "    <tr>\n",
       "      <th>0</th>\n",
       "      <td>63</td>\n",
       "      <td>1</td>\n",
       "      <td>3</td>\n",
       "      <td>145</td>\n",
       "      <td>233</td>\n",
       "      <td>1</td>\n",
       "      <td>0</td>\n",
       "      <td>150</td>\n",
       "      <td>0</td>\n",
       "      <td>2.3</td>\n",
       "      <td>0</td>\n",
       "      <td>0</td>\n",
       "      <td>1</td>\n",
       "      <td>1</td>\n",
       "    </tr>\n",
       "    <tr>\n",
       "      <th>1</th>\n",
       "      <td>37</td>\n",
       "      <td>1</td>\n",
       "      <td>2</td>\n",
       "      <td>130</td>\n",
       "      <td>250</td>\n",
       "      <td>0</td>\n",
       "      <td>1</td>\n",
       "      <td>187</td>\n",
       "      <td>0</td>\n",
       "      <td>3.5</td>\n",
       "      <td>0</td>\n",
       "      <td>0</td>\n",
       "      <td>2</td>\n",
       "      <td>1</td>\n",
       "    </tr>\n",
       "    <tr>\n",
       "      <th>2</th>\n",
       "      <td>41</td>\n",
       "      <td>0</td>\n",
       "      <td>1</td>\n",
       "      <td>130</td>\n",
       "      <td>204</td>\n",
       "      <td>0</td>\n",
       "      <td>0</td>\n",
       "      <td>172</td>\n",
       "      <td>0</td>\n",
       "      <td>1.4</td>\n",
       "      <td>2</td>\n",
       "      <td>0</td>\n",
       "      <td>2</td>\n",
       "      <td>1</td>\n",
       "    </tr>\n",
       "    <tr>\n",
       "      <th>3</th>\n",
       "      <td>56</td>\n",
       "      <td>1</td>\n",
       "      <td>1</td>\n",
       "      <td>120</td>\n",
       "      <td>236</td>\n",
       "      <td>0</td>\n",
       "      <td>1</td>\n",
       "      <td>178</td>\n",
       "      <td>0</td>\n",
       "      <td>0.8</td>\n",
       "      <td>2</td>\n",
       "      <td>0</td>\n",
       "      <td>2</td>\n",
       "      <td>1</td>\n",
       "    </tr>\n",
       "    <tr>\n",
       "      <th>4</th>\n",
       "      <td>57</td>\n",
       "      <td>0</td>\n",
       "      <td>0</td>\n",
       "      <td>120</td>\n",
       "      <td>354</td>\n",
       "      <td>0</td>\n",
       "      <td>1</td>\n",
       "      <td>163</td>\n",
       "      <td>1</td>\n",
       "      <td>0.6</td>\n",
       "      <td>2</td>\n",
       "      <td>0</td>\n",
       "      <td>2</td>\n",
       "      <td>1</td>\n",
       "    </tr>\n",
       "  </tbody>\n",
       "</table>\n",
       "</div>"
      ],
      "text/plain": [
       "   age  sex  cp  trestbps  chol  fbs  restecg  thalach  exang  oldpeak  slope  \\\n",
       "0   63    1   3       145   233    1        0      150      0      2.3      0   \n",
       "1   37    1   2       130   250    0        1      187      0      3.5      0   \n",
       "2   41    0   1       130   204    0        0      172      0      1.4      2   \n",
       "3   56    1   1       120   236    0        1      178      0      0.8      2   \n",
       "4   57    0   0       120   354    0        1      163      1      0.6      2   \n",
       "\n",
       "   ca  thal  target  \n",
       "0   0     1       1  \n",
       "1   0     2       1  \n",
       "2   0     2       1  \n",
       "3   0     2       1  \n",
       "4   0     2       1  "
      ]
     },
     "execution_count": 3,
     "metadata": {},
     "output_type": "execute_result"
    }
   ],
   "source": [
    "#fetch and read the csv file\n",
    "data_path = 'dataset/heart.csv'\n",
    "heart_df = pd.read_csv(data_path)\n",
    "heart_df.head()"
   ]
  },
  {
   "cell_type": "code",
   "execution_count": 4,
   "metadata": {},
   "outputs": [
    {
     "data": {
      "text/plain": [
       "(303, 14)"
      ]
     },
     "execution_count": 4,
     "metadata": {},
     "output_type": "execute_result"
    }
   ],
   "source": [
    "heart_df.shape"
   ]
  },
  {
   "cell_type": "code",
   "execution_count": 5,
   "metadata": {},
   "outputs": [
    {
     "data": {
      "text/plain": [
       "age         303\n",
       "sex         303\n",
       "cp          303\n",
       "trestbps    303\n",
       "chol        303\n",
       "fbs         303\n",
       "restecg     303\n",
       "thalach     303\n",
       "exang       303\n",
       "oldpeak     303\n",
       "slope       303\n",
       "ca          303\n",
       "thal        303\n",
       "target      303\n",
       "dtype: int64"
      ]
     },
     "execution_count": 5,
     "metadata": {},
     "output_type": "execute_result"
    }
   ],
   "source": [
    "heart_df.count()"
   ]
  },
  {
   "cell_type": "code",
   "execution_count": 6,
   "metadata": {},
   "outputs": [
    {
     "data": {
      "text/html": [
       "<div>\n",
       "<style scoped>\n",
       "    .dataframe tbody tr th:only-of-type {\n",
       "        vertical-align: middle;\n",
       "    }\n",
       "\n",
       "    .dataframe tbody tr th {\n",
       "        vertical-align: top;\n",
       "    }\n",
       "\n",
       "    .dataframe thead th {\n",
       "        text-align: right;\n",
       "    }\n",
       "</style>\n",
       "<table border=\"1\" class=\"dataframe\">\n",
       "  <thead>\n",
       "    <tr style=\"text-align: right;\">\n",
       "      <th></th>\n",
       "      <th>age</th>\n",
       "      <th>sex</th>\n",
       "      <th>cp</th>\n",
       "      <th>trestbps</th>\n",
       "      <th>chol</th>\n",
       "      <th>fbs</th>\n",
       "      <th>restecg</th>\n",
       "      <th>thalach</th>\n",
       "      <th>exang</th>\n",
       "      <th>oldpeak</th>\n",
       "      <th>slope</th>\n",
       "      <th>ca</th>\n",
       "      <th>thal</th>\n",
       "      <th>target</th>\n",
       "    </tr>\n",
       "  </thead>\n",
       "  <tbody>\n",
       "    <tr>\n",
       "      <th>count</th>\n",
       "      <td>303.000000</td>\n",
       "      <td>303.000000</td>\n",
       "      <td>303.000000</td>\n",
       "      <td>303.000000</td>\n",
       "      <td>303.000000</td>\n",
       "      <td>303.000000</td>\n",
       "      <td>303.000000</td>\n",
       "      <td>303.000000</td>\n",
       "      <td>303.000000</td>\n",
       "      <td>303.000000</td>\n",
       "      <td>303.000000</td>\n",
       "      <td>303.000000</td>\n",
       "      <td>303.000000</td>\n",
       "      <td>303.000000</td>\n",
       "    </tr>\n",
       "    <tr>\n",
       "      <th>mean</th>\n",
       "      <td>54.366337</td>\n",
       "      <td>0.683168</td>\n",
       "      <td>0.966997</td>\n",
       "      <td>131.623762</td>\n",
       "      <td>246.264026</td>\n",
       "      <td>0.148515</td>\n",
       "      <td>0.528053</td>\n",
       "      <td>149.646865</td>\n",
       "      <td>0.326733</td>\n",
       "      <td>1.039604</td>\n",
       "      <td>1.399340</td>\n",
       "      <td>0.729373</td>\n",
       "      <td>2.313531</td>\n",
       "      <td>0.544554</td>\n",
       "    </tr>\n",
       "    <tr>\n",
       "      <th>std</th>\n",
       "      <td>9.082101</td>\n",
       "      <td>0.466011</td>\n",
       "      <td>1.032052</td>\n",
       "      <td>17.538143</td>\n",
       "      <td>51.830751</td>\n",
       "      <td>0.356198</td>\n",
       "      <td>0.525860</td>\n",
       "      <td>22.905161</td>\n",
       "      <td>0.469794</td>\n",
       "      <td>1.161075</td>\n",
       "      <td>0.616226</td>\n",
       "      <td>1.022606</td>\n",
       "      <td>0.612277</td>\n",
       "      <td>0.498835</td>\n",
       "    </tr>\n",
       "    <tr>\n",
       "      <th>min</th>\n",
       "      <td>29.000000</td>\n",
       "      <td>0.000000</td>\n",
       "      <td>0.000000</td>\n",
       "      <td>94.000000</td>\n",
       "      <td>126.000000</td>\n",
       "      <td>0.000000</td>\n",
       "      <td>0.000000</td>\n",
       "      <td>71.000000</td>\n",
       "      <td>0.000000</td>\n",
       "      <td>0.000000</td>\n",
       "      <td>0.000000</td>\n",
       "      <td>0.000000</td>\n",
       "      <td>0.000000</td>\n",
       "      <td>0.000000</td>\n",
       "    </tr>\n",
       "    <tr>\n",
       "      <th>25%</th>\n",
       "      <td>47.500000</td>\n",
       "      <td>0.000000</td>\n",
       "      <td>0.000000</td>\n",
       "      <td>120.000000</td>\n",
       "      <td>211.000000</td>\n",
       "      <td>0.000000</td>\n",
       "      <td>0.000000</td>\n",
       "      <td>133.500000</td>\n",
       "      <td>0.000000</td>\n",
       "      <td>0.000000</td>\n",
       "      <td>1.000000</td>\n",
       "      <td>0.000000</td>\n",
       "      <td>2.000000</td>\n",
       "      <td>0.000000</td>\n",
       "    </tr>\n",
       "    <tr>\n",
       "      <th>50%</th>\n",
       "      <td>55.000000</td>\n",
       "      <td>1.000000</td>\n",
       "      <td>1.000000</td>\n",
       "      <td>130.000000</td>\n",
       "      <td>240.000000</td>\n",
       "      <td>0.000000</td>\n",
       "      <td>1.000000</td>\n",
       "      <td>153.000000</td>\n",
       "      <td>0.000000</td>\n",
       "      <td>0.800000</td>\n",
       "      <td>1.000000</td>\n",
       "      <td>0.000000</td>\n",
       "      <td>2.000000</td>\n",
       "      <td>1.000000</td>\n",
       "    </tr>\n",
       "    <tr>\n",
       "      <th>75%</th>\n",
       "      <td>61.000000</td>\n",
       "      <td>1.000000</td>\n",
       "      <td>2.000000</td>\n",
       "      <td>140.000000</td>\n",
       "      <td>274.500000</td>\n",
       "      <td>0.000000</td>\n",
       "      <td>1.000000</td>\n",
       "      <td>166.000000</td>\n",
       "      <td>1.000000</td>\n",
       "      <td>1.600000</td>\n",
       "      <td>2.000000</td>\n",
       "      <td>1.000000</td>\n",
       "      <td>3.000000</td>\n",
       "      <td>1.000000</td>\n",
       "    </tr>\n",
       "    <tr>\n",
       "      <th>max</th>\n",
       "      <td>77.000000</td>\n",
       "      <td>1.000000</td>\n",
       "      <td>3.000000</td>\n",
       "      <td>200.000000</td>\n",
       "      <td>564.000000</td>\n",
       "      <td>1.000000</td>\n",
       "      <td>2.000000</td>\n",
       "      <td>202.000000</td>\n",
       "      <td>1.000000</td>\n",
       "      <td>6.200000</td>\n",
       "      <td>2.000000</td>\n",
       "      <td>4.000000</td>\n",
       "      <td>3.000000</td>\n",
       "      <td>1.000000</td>\n",
       "    </tr>\n",
       "  </tbody>\n",
       "</table>\n",
       "</div>"
      ],
      "text/plain": [
       "              age         sex          cp    trestbps        chol         fbs  \\\n",
       "count  303.000000  303.000000  303.000000  303.000000  303.000000  303.000000   \n",
       "mean    54.366337    0.683168    0.966997  131.623762  246.264026    0.148515   \n",
       "std      9.082101    0.466011    1.032052   17.538143   51.830751    0.356198   \n",
       "min     29.000000    0.000000    0.000000   94.000000  126.000000    0.000000   \n",
       "25%     47.500000    0.000000    0.000000  120.000000  211.000000    0.000000   \n",
       "50%     55.000000    1.000000    1.000000  130.000000  240.000000    0.000000   \n",
       "75%     61.000000    1.000000    2.000000  140.000000  274.500000    0.000000   \n",
       "max     77.000000    1.000000    3.000000  200.000000  564.000000    1.000000   \n",
       "\n",
       "          restecg     thalach       exang     oldpeak       slope          ca  \\\n",
       "count  303.000000  303.000000  303.000000  303.000000  303.000000  303.000000   \n",
       "mean     0.528053  149.646865    0.326733    1.039604    1.399340    0.729373   \n",
       "std      0.525860   22.905161    0.469794    1.161075    0.616226    1.022606   \n",
       "min      0.000000   71.000000    0.000000    0.000000    0.000000    0.000000   \n",
       "25%      0.000000  133.500000    0.000000    0.000000    1.000000    0.000000   \n",
       "50%      1.000000  153.000000    0.000000    0.800000    1.000000    0.000000   \n",
       "75%      1.000000  166.000000    1.000000    1.600000    2.000000    1.000000   \n",
       "max      2.000000  202.000000    1.000000    6.200000    2.000000    4.000000   \n",
       "\n",
       "             thal      target  \n",
       "count  303.000000  303.000000  \n",
       "mean     2.313531    0.544554  \n",
       "std      0.612277    0.498835  \n",
       "min      0.000000    0.000000  \n",
       "25%      2.000000    0.000000  \n",
       "50%      2.000000    1.000000  \n",
       "75%      3.000000    1.000000  \n",
       "max      3.000000    1.000000  "
      ]
     },
     "execution_count": 6,
     "metadata": {},
     "output_type": "execute_result"
    }
   ],
   "source": [
    "heart_df.describe()"
   ]
  },
  {
   "cell_type": "code",
   "execution_count": 7,
   "metadata": {},
   "outputs": [
    {
     "name": "stdout",
     "output_type": "stream",
     "text": [
      "<class 'pandas.core.frame.DataFrame'>\n",
      "RangeIndex: 303 entries, 0 to 302\n",
      "Data columns (total 14 columns):\n",
      " #   Column    Non-Null Count  Dtype  \n",
      "---  ------    --------------  -----  \n",
      " 0   age       303 non-null    int64  \n",
      " 1   sex       303 non-null    int64  \n",
      " 2   cp        303 non-null    int64  \n",
      " 3   trestbps  303 non-null    int64  \n",
      " 4   chol      303 non-null    int64  \n",
      " 5   fbs       303 non-null    int64  \n",
      " 6   restecg   303 non-null    int64  \n",
      " 7   thalach   303 non-null    int64  \n",
      " 8   exang     303 non-null    int64  \n",
      " 9   oldpeak   303 non-null    float64\n",
      " 10  slope     303 non-null    int64  \n",
      " 11  ca        303 non-null    int64  \n",
      " 12  thal      303 non-null    int64  \n",
      " 13  target    303 non-null    int64  \n",
      "dtypes: float64(1), int64(13)\n",
      "memory usage: 33.3 KB\n"
     ]
    }
   ],
   "source": [
    "heart_df.info()"
   ]
  },
  {
   "cell_type": "code",
   "execution_count": 8,
   "metadata": {},
   "outputs": [
    {
     "data": {
      "text/plain": [
       "age         0\n",
       "sex         0\n",
       "cp          0\n",
       "trestbps    0\n",
       "chol        0\n",
       "fbs         0\n",
       "restecg     0\n",
       "thalach     0\n",
       "exang       0\n",
       "oldpeak     0\n",
       "slope       0\n",
       "ca          0\n",
       "thal        0\n",
       "target      0\n",
       "dtype: int64"
      ]
     },
     "execution_count": 8,
     "metadata": {},
     "output_type": "execute_result"
    }
   ],
   "source": [
    "#check for any none values\n",
    "heart_df.isna().sum()"
   ]
  },
  {
   "cell_type": "code",
   "execution_count": 9,
   "metadata": {
    "scrolled": false
   },
   "outputs": [
    {
     "data": {
      "image/png": "[encoded data removed]",
      "text/plain": [
       "<Figure size 432x288 with 1 Axes>"
      ]
     },
     "metadata": {
      "needs_background": "light"
     },
     "output_type": "display_data"
    },
    {
     "data": {
      "image/png": "[encoded data removed]",
      "text/plain": [
       "<Figure size 432x288 with 1 Axes>"
      ]
     },
     "metadata": {
      "needs_background": "light"
     },
     "output_type": "display_data"
    },
    {
     "data": {
      "image/png": "[encoded data removed]",
      "text/plain": [
       "<Figure size 432x288 with 1 Axes>"
      ]
     },
     "metadata": {
      "needs_background": "light"
     },
     "output_type": "display_data"
    },
    {
     "data": {
      "image/png": "[encoded data removed]",
      "text/plain": [
       "<Figure size 432x288 with 1 Axes>"
      ]
     },
     "metadata": {
      "needs_background": "light"
     },
     "output_type": "display_data"
    },
    {
     "data": {
      "image/png": "[encoded data removed]",
      "text/plain": [
       "<Figure size 432x288 with 1 Axes>"
      ]
     },
     "metadata": {
      "needs_background": "light"
     },
     "output_type": "display_data"
    },
    {
     "data": {
      "image/png": "[encoded data removed]",
      "text/plain": [
       "<Figure size 432x288 with 1 Axes>"
      ]
     },
     "metadata": {
      "needs_background": "light"
     },
     "output_type": "display_data"
    },
    {
     "data": {
      "image/png": "[encoded data removed]",
      "text/plain": [
       "<Figure size 432x288 with 1 Axes>"
      ]
     },
     "metadata": {
      "needs_background": "light"
     },
     "output_type": "display_data"
    },
    {
     "data": {
      "image/png": "[encoded data removed]",
      "text/plain": [
       "<Figure size 432x288 with 1 Axes>"
      ]
     },
     "metadata": {
      "needs_background": "light"
     },
     "output_type": "display_data"
    },
    {
     "data": {
      "image/png": "[encoded data removed]",
      "text/plain": [
       "<Figure size 432x288 with 1 Axes>"
      ]
     },
     "metadata": {
      "needs_background": "light"
     },
     "output_type": "display_data"
    },
    {
     "data": {
      "image/png": "[encoded data removed]",
      "text/plain": [
       "<Figure size 432x288 with 1 Axes>"
      ]
     },
     "metadata": {
      "needs_background": "light"
     },
     "output_type": "display_data"
    },
    {
     "data": {
      "image/png": "[encoded data removed]",
      "text/plain": [
       "<Figure size 432x288 with 1 Axes>"
      ]
     },
     "metadata": {
      "needs_background": "light"
     },
     "output_type": "display_data"
    },
    {
     "data": {
      "image/png": "[encoded data removed]",
      "text/plain": [
       "<Figure size 432x288 with 1 Axes>"
      ]
     },
     "metadata": {
      "needs_background": "light"
     },
     "output_type": "display_data"
    },
    {
     "data": {
      "image/png": "[encoded data removed]",
      "text/plain": [
       "<Figure size 432x288 with 1 Axes>"
      ]
     },
     "metadata": {
      "needs_background": "light"
     },
     "output_type": "display_data"
    },
    {
     "data": {
      "image/png": "[encoded data removed]",
      "text/plain": [
       "<Figure size 432x288 with 1 Axes>"
      ]
     },
     "metadata": {
      "needs_background": "light"
     },
     "output_type": "display_data"
    }
   ],
   "source": [
    "import matplotlib.pyplot as plt\n",
    "import seaborn as sns\n",
    "\n",
    "#box plot for all columns\n",
    "for i in heart_df.columns:\n",
    "    sns.boxplot(x=heart_df[i])\n",
    "    plt.show()"
   ]
  },
  {
   "cell_type": "code",
   "execution_count": 10,
   "metadata": {},
   "outputs": [],
   "source": [
    "#create a copy for visualization\n",
    "heart_df_copy = heart_df.copy()"
   ]
  },
  {
   "cell_type": "code",
   "execution_count": 11,
   "metadata": {},
   "outputs": [
    {
     "data": {
      "text/html": [
       "<div>\n",
       "<style scoped>\n",
       "    .dataframe tbody tr th:only-of-type {\n",
       "        vertical-align: middle;\n",
       "    }\n",
       "\n",
       "    .dataframe tbody tr th {\n",
       "        vertical-align: top;\n",
       "    }\n",
       "\n",
       "    .dataframe thead th {\n",
       "        text-align: right;\n",
       "    }\n",
       "</style>\n",
       "<table border=\"1\" class=\"dataframe\">\n",
       "  <thead>\n",
       "    <tr style=\"text-align: right;\">\n",
       "      <th></th>\n",
       "      <th>age</th>\n",
       "      <th>sex</th>\n",
       "      <th>cp</th>\n",
       "      <th>trestbps</th>\n",
       "      <th>chol</th>\n",
       "      <th>fbs</th>\n",
       "      <th>restecg</th>\n",
       "      <th>thalach</th>\n",
       "      <th>exang</th>\n",
       "      <th>oldpeak</th>\n",
       "      <th>slope</th>\n",
       "      <th>ca</th>\n",
       "      <th>thal</th>\n",
       "      <th>target</th>\n",
       "    </tr>\n",
       "  </thead>\n",
       "  <tbody>\n",
       "    <tr>\n",
       "      <th>0</th>\n",
       "      <td>63</td>\n",
       "      <td>1</td>\n",
       "      <td>3</td>\n",
       "      <td>145</td>\n",
       "      <td>233</td>\n",
       "      <td>1</td>\n",
       "      <td>0</td>\n",
       "      <td>150</td>\n",
       "      <td>0</td>\n",
       "      <td>2.3</td>\n",
       "      <td>0</td>\n",
       "      <td>0</td>\n",
       "      <td>1</td>\n",
       "      <td>1</td>\n",
       "    </tr>\n",
       "    <tr>\n",
       "      <th>1</th>\n",
       "      <td>37</td>\n",
       "      <td>1</td>\n",
       "      <td>2</td>\n",
       "      <td>130</td>\n",
       "      <td>250</td>\n",
       "      <td>0</td>\n",
       "      <td>1</td>\n",
       "      <td>187</td>\n",
       "      <td>0</td>\n",
       "      <td>3.5</td>\n",
       "      <td>0</td>\n",
       "      <td>0</td>\n",
       "      <td>2</td>\n",
       "      <td>1</td>\n",
       "    </tr>\n",
       "    <tr>\n",
       "      <th>2</th>\n",
       "      <td>41</td>\n",
       "      <td>0</td>\n",
       "      <td>1</td>\n",
       "      <td>130</td>\n",
       "      <td>204</td>\n",
       "      <td>0</td>\n",
       "      <td>0</td>\n",
       "      <td>172</td>\n",
       "      <td>0</td>\n",
       "      <td>1.4</td>\n",
       "      <td>2</td>\n",
       "      <td>0</td>\n",
       "      <td>2</td>\n",
       "      <td>1</td>\n",
       "    </tr>\n",
       "    <tr>\n",
       "      <th>3</th>\n",
       "      <td>56</td>\n",
       "      <td>1</td>\n",
       "      <td>1</td>\n",
       "      <td>120</td>\n",
       "      <td>236</td>\n",
       "      <td>0</td>\n",
       "      <td>1</td>\n",
       "      <td>178</td>\n",
       "      <td>0</td>\n",
       "      <td>0.8</td>\n",
       "      <td>2</td>\n",
       "      <td>0</td>\n",
       "      <td>2</td>\n",
       "      <td>1</td>\n",
       "    </tr>\n",
       "    <tr>\n",
       "      <th>4</th>\n",
       "      <td>57</td>\n",
       "      <td>0</td>\n",
       "      <td>0</td>\n",
       "      <td>120</td>\n",
       "      <td>354</td>\n",
       "      <td>0</td>\n",
       "      <td>1</td>\n",
       "      <td>163</td>\n",
       "      <td>1</td>\n",
       "      <td>0.6</td>\n",
       "      <td>2</td>\n",
       "      <td>0</td>\n",
       "      <td>2</td>\n",
       "      <td>1</td>\n",
       "    </tr>\n",
       "  </tbody>\n",
       "</table>\n",
       "</div>"
      ],
      "text/plain": [
       "   age  sex  cp  trestbps  chol  fbs  restecg  thalach  exang  oldpeak  slope  \\\n",
       "0   63    1   3       145   233    1        0      150      0      2.3      0   \n",
       "1   37    1   2       130   250    0        1      187      0      3.5      0   \n",
       "2   41    0   1       130   204    0        0      172      0      1.4      2   \n",
       "3   56    1   1       120   236    0        1      178      0      0.8      2   \n",
       "4   57    0   0       120   354    0        1      163      1      0.6      2   \n",
       "\n",
       "   ca  thal  target  \n",
       "0   0     1       1  \n",
       "1   0     2       1  \n",
       "2   0     2       1  \n",
       "3   0     2       1  \n",
       "4   0     2       1  "
      ]
     },
     "execution_count": 11,
     "metadata": {},
     "output_type": "execute_result"
    }
   ],
   "source": [
    "heart_df_copy.head()"
   ]
  },
  {
   "cell_type": "code",
   "execution_count": 12,
   "metadata": {},
   "outputs": [
    {
     "data": {
      "text/plain": [
       "<AxesSubplot:xlabel='target', ylabel='count'>"
      ]
     },
     "execution_count": 12,
     "metadata": {},
     "output_type": "execute_result"
    },
    {
     "data": {
      "image/png": "[encoded data removed]",
      "text/plain": [
       "<Figure size 432x288 with 1 Axes>"
      ]
     },
     "metadata": {
      "needs_background": "light"
     },
     "output_type": "display_data"
    }
   ],
   "source": [
    "#comparing the number healthy vs number of heart patients\n",
    "heart_df_copy.target = heart_df_copy.target.map({0:'Healthy',1:'Heart Patient'})\n",
    "sns.countplot(x=\"target\", data=heart_df_copy)"
   ]
  },
  {
   "cell_type": "code",
   "execution_count": 13,
   "metadata": {},
   "outputs": [
    {
     "data": {
      "text/plain": [
       "<AxesSubplot:xlabel='sex', ylabel='count'>"
      ]
     },
     "execution_count": 13,
     "metadata": {},
     "output_type": "execute_result"
    },
    {
     "data": {
      "image/png": "[encoded data removed]",
      "text/plain": [
       "<Figure size 432x288 with 1 Axes>"
      ]
     },
     "metadata": {
      "needs_background": "light"
     },
     "output_type": "display_data"
    }
   ],
   "source": [
    "#comparing number of male vs female\n",
    "heart_df_copy.sex= heart_df_copy.sex.map({0:'Female',1:'Male'})\n",
    "sns.countplot(x=\"sex\", data = heart_df_copy, hue= heart_df_copy.target)"
   ]
  },
  {
   "cell_type": "code",
   "execution_count": 14,
   "metadata": {
    "scrolled": true
   },
   "outputs": [
    {
     "data": {
      "image/png": "[encoded data removed]",
      "text/plain": [
       "<Figure size 432x288 with 1 Axes>"
      ]
     },
     "metadata": {
      "needs_background": "light"
     },
     "output_type": "display_data"
    }
   ],
   "source": [
    "#comparing age with health\n",
    "plt.hist(heart_df_copy[heart_df_copy.target=='Heart Patient']['age'],color='b',alpha=0.5,bins=15,label='Patient')\n",
    "plt.hist(heart_df_copy[heart_df_copy.target=='Healthy']['age'],color='g',alpha=0.5,bins=15,label='Healthy')\n",
    "plt.legend()\n",
    "plt.show()"
   ]
  },
  {
   "cell_type": "code",
   "execution_count": 15,
   "metadata": {
    "scrolled": true
   },
   "outputs": [
    {
     "data": {
      "image/png": "[encoded data removed]",
      "text/plain": [
       "<Figure size 432x288 with 1 Axes>"
      ]
     },
     "metadata": {
      "needs_background": "light"
     },
     "output_type": "display_data"
    }
   ],
   "source": [
    "#comparing cholestrol with health\n",
    "plt.hist(heart_df_copy[heart_df_copy.target=='Heart Patient']['chol'],color='b',alpha=0.5,bins=15,label='Patient')\n",
    "plt.hist(heart_df_copy[heart_df_copy.target=='Healthy']['chol'],color='g',alpha=0.5,bins=15,label='Healthy')\n",
    "plt.legend()\n",
    "plt.show()"
   ]
  },
  {
   "cell_type": "code",
   "execution_count": 16,
   "metadata": {},
   "outputs": [
    {
     "data": {
      "image/png": "[encoded data removed]",
      "text/plain": [
       "<Figure size 432x288 with 1 Axes>"
      ]
     },
     "metadata": {
      "needs_background": "light"
     },
     "output_type": "display_data"
    }
   ],
   "source": [
    "#comparing heart rate with health\n",
    "plt.hist(heart_df_copy[heart_df_copy.target=='Heart Patient']['thalach'],color='b',alpha=0.5,bins=15,label='Patient')\n",
    "plt.hist(heart_df_copy[heart_df_copy.target=='Healthy']['thalach'],color='g',alpha=0.5,bins=15,label='Healthy')\n",
    "plt.legend()\n",
    "plt.show()"
   ]
  },
  {
   "cell_type": "code",
   "execution_count": 17,
   "metadata": {},
   "outputs": [],
   "source": [
    "#Divide the data frame into input and output\n",
    "X = heart_df.drop('target', axis=1)\n",
    "y = heart_df['target']"
   ]
  },
  {
   "cell_type": "code",
   "execution_count": 18,
   "metadata": {},
   "outputs": [],
   "source": [
    "from sklearn.preprocessing import StandardScaler\n",
    "s = StandardScaler()\n",
    "X = s.fit_transform(X)"
   ]
  },
  {
   "cell_type": "code",
   "execution_count": 19,
   "metadata": {},
   "outputs": [
    {
     "ename": "AttributeError",
     "evalue": "'numpy.ndarray' object has no attribute 'head'",
     "output_type": "error",
     "traceback": [
      "\u001b[1;31m---------------------------------------------------------------------------\u001b[0m",
      "\u001b[1;31mAttributeError\u001b[0m                            Traceback (most recent call last)",
      "\u001b[1;32m<ipython-input-19-ae5cd47bda90>\u001b[0m in \u001b[0;36m<module>\u001b[1;34m\u001b[0m\n\u001b[1;32m----> 1\u001b[1;33m \u001b[0mX\u001b[0m\u001b[1;33m.\u001b[0m\u001b[0mhead\u001b[0m\u001b[1;33m(\u001b[0m\u001b[1;33m)\u001b[0m\u001b[1;33m\u001b[0m\u001b[1;33m\u001b[0m\u001b[0m\n\u001b[0m",
      "\u001b[1;31mAttributeError\u001b[0m: 'numpy.ndarray' object has no attribute 'head'"
     ]
    }
   ],
   "source": [
    "#X.head()"
   ]
  },
  {
   "cell_type": "code",
   "execution_count": 20,
   "metadata": {},
   "outputs": [
    {
     "data": {
      "text/plain": [
       "0    1\n",
       "1    1\n",
       "2    1\n",
       "3    1\n",
       "4    1\n",
       "Name: target, dtype: int64"
      ]
     },
     "execution_count": 20,
     "metadata": {},
     "output_type": "execute_result"
    }
   ],
   "source": [
    "y.head()"
   ]
  },
  {
   "cell_type": "code",
   "execution_count": 21,
   "metadata": {},
   "outputs": [],
   "source": [
    "import tensorflow as tf\n",
    "from tensorflow import keras\n",
    "from tensorflow.keras import layers"
   ]
  },
  {
   "cell_type": "code",
   "execution_count": 22,
   "metadata": {},
   "outputs": [],
   "source": [
    "#defining the sequential model for binary classification\n",
    "model = keras.Sequential()"
   ]
  },
  {
   "cell_type": "code",
   "execution_count": 23,
   "metadata": {},
   "outputs": [],
   "source": [
    "model.add(layers.Dense(11,activation='relu',input_dim=13))\n",
    "model.add(layers.Dense(1,activation='sigmoid'))"
   ]
  },
  {
   "cell_type": "code",
   "execution_count": 24,
   "metadata": {},
   "outputs": [
    {
     "name": "stdout",
     "output_type": "stream",
     "text": [
      "Epoch 1/300\n",
      "8/8 [==============================] - 3s 238ms/step - loss: 0.5087 - accuracy: 0.7454 - val_loss: 1.0257 - val_accuracy: 0.3582\n",
      "Epoch 2/300\n",
      "8/8 [==============================] - 0s 15ms/step - loss: 0.4966 - accuracy: 0.7592 - val_loss: 1.0022 - val_accuracy: 0.3582\n",
      "Epoch 3/300\n",
      "8/8 [==============================] - 0s 13ms/step - loss: 0.5361 - accuracy: 0.6872 - val_loss: 0.9761 - val_accuracy: 0.4030\n",
      "Epoch 4/300\n",
      "8/8 [==============================] - 0s 13ms/step - loss: 0.4966 - accuracy: 0.7526 - val_loss: 0.9560 - val_accuracy: 0.4328\n",
      "Epoch 5/300\n",
      "8/8 [==============================] - 0s 12ms/step - loss: 0.4360 - accuracy: 0.7794 - val_loss: 0.9386 - val_accuracy: 0.4478\n",
      "Epoch 6/300\n",
      "8/8 [==============================] - 0s 13ms/step - loss: 0.4951 - accuracy: 0.7427 - val_loss: 0.9249 - val_accuracy: 0.4776\n",
      "Epoch 7/300\n",
      "8/8 [==============================] - 0s 13ms/step - loss: 0.4774 - accuracy: 0.7577 - val_loss: 0.9131 - val_accuracy: 0.4776\n",
      "Epoch 8/300\n",
      "8/8 [==============================] - 0s 12ms/step - loss: 0.4420 - accuracy: 0.7681 - val_loss: 0.9054 - val_accuracy: 0.4925\n",
      "Epoch 9/300\n",
      "8/8 [==============================] - 0s 13ms/step - loss: 0.4492 - accuracy: 0.7642 - val_loss: 0.8932 - val_accuracy: 0.5224\n",
      "Epoch 10/300\n",
      "8/8 [==============================] - 0s 12ms/step - loss: 0.4398 - accuracy: 0.7919 - val_loss: 0.8798 - val_accuracy: 0.5373\n",
      "Epoch 11/300\n",
      "8/8 [==============================] - 0s 13ms/step - loss: 0.4016 - accuracy: 0.8186 - val_loss: 0.8707 - val_accuracy: 0.5373\n",
      "Epoch 12/300\n",
      "8/8 [==============================] - 0s 13ms/step - loss: 0.3710 - accuracy: 0.8395 - val_loss: 0.8615 - val_accuracy: 0.5522\n",
      "Epoch 13/300\n",
      "8/8 [==============================] - 0s 12ms/step - loss: 0.4389 - accuracy: 0.8095 - val_loss: 0.8499 - val_accuracy: 0.5373\n",
      "Epoch 14/300\n",
      "8/8 [==============================] - 0s 12ms/step - loss: 0.3943 - accuracy: 0.8240 - val_loss: 0.8448 - val_accuracy: 0.5672\n",
      "Epoch 15/300\n",
      "8/8 [==============================] - 0s 13ms/step - loss: 0.4267 - accuracy: 0.8109 - val_loss: 0.8362 - val_accuracy: 0.5672\n",
      "Epoch 16/300\n",
      "8/8 [==============================] - 0s 13ms/step - loss: 0.3561 - accuracy: 0.8663 - val_loss: 0.8323 - val_accuracy: 0.5821\n",
      "Epoch 17/300\n",
      "8/8 [==============================] - 0s 13ms/step - loss: 0.3992 - accuracy: 0.8331 - val_loss: 0.8239 - val_accuracy: 0.5821\n",
      "Epoch 18/300\n",
      "8/8 [==============================] - 0s 13ms/step - loss: 0.3668 - accuracy: 0.8462 - val_loss: 0.8159 - val_accuracy: 0.5821\n",
      "Epoch 19/300\n",
      "8/8 [==============================] - 0s 13ms/step - loss: 0.4319 - accuracy: 0.8078 - val_loss: 0.8104 - val_accuracy: 0.5672\n",
      "Epoch 20/300\n",
      "8/8 [==============================] - 0s 13ms/step - loss: 0.3346 - accuracy: 0.8740 - val_loss: 0.8096 - val_accuracy: 0.5672\n",
      "Epoch 21/300\n",
      "8/8 [==============================] - 0s 13ms/step - loss: 0.3565 - accuracy: 0.8310 - val_loss: 0.8035 - val_accuracy: 0.5672\n",
      "Epoch 22/300\n",
      "8/8 [==============================] - 0s 13ms/step - loss: 0.3510 - accuracy: 0.8378 - val_loss: 0.8023 - val_accuracy: 0.5672\n",
      "Epoch 23/300\n",
      "8/8 [==============================] - 0s 13ms/step - loss: 0.3464 - accuracy: 0.8649 - val_loss: 0.7959 - val_accuracy: 0.5970\n",
      "Epoch 24/300\n",
      "8/8 [==============================] - 0s 14ms/step - loss: 0.3165 - accuracy: 0.8521 - val_loss: 0.7891 - val_accuracy: 0.5970\n",
      "Epoch 25/300\n",
      "8/8 [==============================] - 0s 12ms/step - loss: 0.3263 - accuracy: 0.8525 - val_loss: 0.7834 - val_accuracy: 0.5970\n",
      "Epoch 26/300\n",
      "8/8 [==============================] - 0s 12ms/step - loss: 0.3299 - accuracy: 0.8458 - val_loss: 0.7796 - val_accuracy: 0.5970\n",
      "Epoch 27/300\n",
      "8/8 [==============================] - 0s 12ms/step - loss: 0.3631 - accuracy: 0.8353 - val_loss: 0.7779 - val_accuracy: 0.5970\n",
      "Epoch 28/300\n",
      "8/8 [==============================] - 0s 11ms/step - loss: 0.2928 - accuracy: 0.8877 - val_loss: 0.7758 - val_accuracy: 0.5970\n",
      "Epoch 29/300\n",
      "8/8 [==============================] - 0s 11ms/step - loss: 0.3125 - accuracy: 0.8702 - val_loss: 0.7720 - val_accuracy: 0.6119\n",
      "Epoch 30/300\n",
      "8/8 [==============================] - 0s 11ms/step - loss: 0.3339 - accuracy: 0.8783 - val_loss: 0.7684 - val_accuracy: 0.6119\n",
      "Epoch 31/300\n",
      "8/8 [==============================] - 0s 11ms/step - loss: 0.2822 - accuracy: 0.9022 - val_loss: 0.7680 - val_accuracy: 0.6119\n",
      "Epoch 32/300\n",
      "8/8 [==============================] - 0s 16ms/step - loss: 0.3388 - accuracy: 0.8506 - val_loss: 0.7659 - val_accuracy: 0.6119\n",
      "Epoch 33/300\n",
      "8/8 [==============================] - 0s 12ms/step - loss: 0.3075 - accuracy: 0.8696 - val_loss: 0.7667 - val_accuracy: 0.5970\n",
      "Epoch 34/300\n",
      "8/8 [==============================] - 0s 12ms/step - loss: 0.3128 - accuracy: 0.8758 - val_loss: 0.7648 - val_accuracy: 0.5970\n",
      "Epoch 35/300\n",
      "8/8 [==============================] - 0s 12ms/step - loss: 0.3170 - accuracy: 0.8609 - val_loss: 0.7656 - val_accuracy: 0.5970\n",
      "Epoch 36/300\n",
      "8/8 [==============================] - 0s 12ms/step - loss: 0.3338 - accuracy: 0.8700 - val_loss: 0.7608 - val_accuracy: 0.5970\n",
      "Epoch 37/300\n",
      "8/8 [==============================] - 0s 12ms/step - loss: 0.3124 - accuracy: 0.8763 - val_loss: 0.7586 - val_accuracy: 0.5821\n",
      "Epoch 38/300\n",
      "8/8 [==============================] - 0s 12ms/step - loss: 0.2844 - accuracy: 0.8971 - val_loss: 0.7566 - val_accuracy: 0.5821\n",
      "Epoch 39/300\n",
      "8/8 [==============================] - 0s 12ms/step - loss: 0.3172 - accuracy: 0.8699 - val_loss: 0.7545 - val_accuracy: 0.5821\n",
      "Epoch 40/300\n",
      "8/8 [==============================] - 0s 12ms/step - loss: 0.2787 - accuracy: 0.8970 - val_loss: 0.7543 - val_accuracy: 0.5821\n",
      "Epoch 41/300\n",
      "8/8 [==============================] - 0s 12ms/step - loss: 0.2902 - accuracy: 0.8752 - val_loss: 0.7516 - val_accuracy: 0.5821\n",
      "Epoch 42/300\n",
      "8/8 [==============================] - 0s 12ms/step - loss: 0.2874 - accuracy: 0.9003 - val_loss: 0.7530 - val_accuracy: 0.5821\n",
      "Epoch 43/300\n",
      "8/8 [==============================] - 0s 13ms/step - loss: 0.3204 - accuracy: 0.8716 - val_loss: 0.7532 - val_accuracy: 0.5821\n",
      "Epoch 44/300\n",
      "8/8 [==============================] - 0s 12ms/step - loss: 0.2799 - accuracy: 0.9009 - val_loss: 0.7536 - val_accuracy: 0.5821\n",
      "Epoch 45/300\n",
      "8/8 [==============================] - 0s 14ms/step - loss: 0.2852 - accuracy: 0.8978 - val_loss: 0.7564 - val_accuracy: 0.5821\n",
      "Epoch 46/300\n",
      "8/8 [==============================] - 0s 12ms/step - loss: 0.3291 - accuracy: 0.8558 - val_loss: 0.7585 - val_accuracy: 0.5672\n",
      "Epoch 47/300\n",
      "8/8 [==============================] - 0s 13ms/step - loss: 0.2698 - accuracy: 0.9051 - val_loss: 0.7605 - val_accuracy: 0.5672\n",
      "Epoch 48/300\n",
      "8/8 [==============================] - 0s 12ms/step - loss: 0.2638 - accuracy: 0.8988 - val_loss: 0.7627 - val_accuracy: 0.5672\n",
      "Epoch 49/300\n",
      "8/8 [==============================] - 0s 13ms/step - loss: 0.2642 - accuracy: 0.9060 - val_loss: 0.7598 - val_accuracy: 0.5672\n",
      "Epoch 50/300\n",
      "8/8 [==============================] - 0s 12ms/step - loss: 0.3044 - accuracy: 0.8842 - val_loss: 0.7577 - val_accuracy: 0.5672\n",
      "Epoch 51/300\n",
      "8/8 [==============================] - 0s 13ms/step - loss: 0.2755 - accuracy: 0.8944 - val_loss: 0.7533 - val_accuracy: 0.5821\n",
      "Epoch 52/300\n",
      "8/8 [==============================] - 0s 13ms/step - loss: 0.2832 - accuracy: 0.8873 - val_loss: 0.7552 - val_accuracy: 0.5821\n",
      "Epoch 53/300\n",
      "8/8 [==============================] - 0s 14ms/step - loss: 0.2983 - accuracy: 0.8815 - val_loss: 0.7559 - val_accuracy: 0.5821\n",
      "Epoch 54/300\n",
      "8/8 [==============================] - 0s 12ms/step - loss: 0.2893 - accuracy: 0.8985 - val_loss: 0.7594 - val_accuracy: 0.5672\n",
      "Epoch 55/300\n",
      "8/8 [==============================] - 0s 13ms/step - loss: 0.2610 - accuracy: 0.9011 - val_loss: 0.7647 - val_accuracy: 0.5672\n",
      "Epoch 56/300\n",
      "8/8 [==============================] - 0s 13ms/step - loss: 0.2848 - accuracy: 0.8767 - val_loss: 0.7663 - val_accuracy: 0.5672\n",
      "Epoch 57/300\n",
      "8/8 [==============================] - 0s 13ms/step - loss: 0.2683 - accuracy: 0.8970 - val_loss: 0.7700 - val_accuracy: 0.5672\n",
      "Epoch 58/300\n",
      "8/8 [==============================] - 0s 13ms/step - loss: 0.2748 - accuracy: 0.8750 - val_loss: 0.7730 - val_accuracy: 0.5672\n",
      "Epoch 59/300\n"
     ]
    },
    {
     "name": "stdout",
     "output_type": "stream",
     "text": [
      "8/8 [==============================] - 0s 12ms/step - loss: 0.2780 - accuracy: 0.8746 - val_loss: 0.7714 - val_accuracy: 0.5672\n",
      "Epoch 60/300\n",
      "8/8 [==============================] - 0s 12ms/step - loss: 0.2832 - accuracy: 0.8950 - val_loss: 0.7733 - val_accuracy: 0.5672\n",
      "Epoch 61/300\n",
      "8/8 [==============================] - 0s 12ms/step - loss: 0.2482 - accuracy: 0.9084 - val_loss: 0.7757 - val_accuracy: 0.5672\n",
      "Epoch 62/300\n",
      "8/8 [==============================] - 0s 12ms/step - loss: 0.3155 - accuracy: 0.8699 - val_loss: 0.7750 - val_accuracy: 0.5672\n",
      "Epoch 63/300\n",
      "8/8 [==============================] - 0s 12ms/step - loss: 0.2577 - accuracy: 0.8863 - val_loss: 0.7772 - val_accuracy: 0.5821\n",
      "Epoch 64/300\n",
      "8/8 [==============================] - 0s 12ms/step - loss: 0.2772 - accuracy: 0.8812 - val_loss: 0.7808 - val_accuracy: 0.5970\n",
      "Epoch 65/300\n",
      "8/8 [==============================] - 0s 12ms/step - loss: 0.2333 - accuracy: 0.9094 - val_loss: 0.7829 - val_accuracy: 0.5970\n",
      "Epoch 66/300\n",
      "8/8 [==============================] - 0s 13ms/step - loss: 0.2888 - accuracy: 0.8849 - val_loss: 0.7857 - val_accuracy: 0.5970\n",
      "Epoch 67/300\n",
      "8/8 [==============================] - 0s 12ms/step - loss: 0.2507 - accuracy: 0.8939 - val_loss: 0.7872 - val_accuracy: 0.5970\n",
      "Epoch 68/300\n",
      "8/8 [==============================] - 0s 12ms/step - loss: 0.3028 - accuracy: 0.8708 - val_loss: 0.7901 - val_accuracy: 0.5970\n",
      "Epoch 69/300\n",
      "8/8 [==============================] - 0s 12ms/step - loss: 0.2887 - accuracy: 0.8811 - val_loss: 0.7906 - val_accuracy: 0.5821\n",
      "Epoch 70/300\n",
      "8/8 [==============================] - 0s 15ms/step - loss: 0.2662 - accuracy: 0.8832 - val_loss: 0.7891 - val_accuracy: 0.5821\n",
      "Epoch 71/300\n",
      "8/8 [==============================] - 0s 12ms/step - loss: 0.2408 - accuracy: 0.9101 - val_loss: 0.7900 - val_accuracy: 0.5821\n",
      "Epoch 72/300\n",
      "8/8 [==============================] - 0s 13ms/step - loss: 0.2236 - accuracy: 0.9190 - val_loss: 0.7922 - val_accuracy: 0.5672\n",
      "Epoch 73/300\n",
      "8/8 [==============================] - 0s 13ms/step - loss: 0.2506 - accuracy: 0.9122 - val_loss: 0.7921 - val_accuracy: 0.5672\n",
      "Epoch 74/300\n",
      "8/8 [==============================] - 0s 12ms/step - loss: 0.2566 - accuracy: 0.8806 - val_loss: 0.7922 - val_accuracy: 0.5672\n",
      "Epoch 75/300\n",
      "8/8 [==============================] - 0s 13ms/step - loss: 0.2569 - accuracy: 0.8868 - val_loss: 0.7915 - val_accuracy: 0.5672\n",
      "Epoch 76/300\n",
      "8/8 [==============================] - 0s 12ms/step - loss: 0.2775 - accuracy: 0.8819 - val_loss: 0.7945 - val_accuracy: 0.5672\n",
      "Epoch 77/300\n",
      "8/8 [==============================] - 0s 12ms/step - loss: 0.2622 - accuracy: 0.8880 - val_loss: 0.7966 - val_accuracy: 0.5522\n",
      "Epoch 78/300\n",
      "8/8 [==============================] - 0s 12ms/step - loss: 0.2379 - accuracy: 0.8998 - val_loss: 0.7991 - val_accuracy: 0.5522\n",
      "Epoch 79/300\n",
      "8/8 [==============================] - 0s 12ms/step - loss: 0.2401 - accuracy: 0.9014 - val_loss: 0.8009 - val_accuracy: 0.5522\n",
      "Epoch 80/300\n",
      "8/8 [==============================] - 0s 13ms/step - loss: 0.2574 - accuracy: 0.8829 - val_loss: 0.7985 - val_accuracy: 0.5672\n",
      "Epoch 81/300\n",
      "8/8 [==============================] - 0s 12ms/step - loss: 0.2274 - accuracy: 0.9122 - val_loss: 0.8007 - val_accuracy: 0.5672\n",
      "Epoch 82/300\n",
      "8/8 [==============================] - 0s 12ms/step - loss: 0.2630 - accuracy: 0.8638 - val_loss: 0.7994 - val_accuracy: 0.5672\n",
      "Epoch 83/300\n",
      "8/8 [==============================] - 0s 14ms/step - loss: 0.2183 - accuracy: 0.9100 - val_loss: 0.8030 - val_accuracy: 0.5672\n",
      "Epoch 84/300\n",
      "8/8 [==============================] - 0s 11ms/step - loss: 0.2380 - accuracy: 0.8788 - val_loss: 0.8000 - val_accuracy: 0.5672\n",
      "Epoch 85/300\n",
      "8/8 [==============================] - 0s 10ms/step - loss: 0.2132 - accuracy: 0.9280 - val_loss: 0.8029 - val_accuracy: 0.5821\n",
      "Epoch 86/300\n",
      "8/8 [==============================] - 0s 12ms/step - loss: 0.3101 - accuracy: 0.8727 - val_loss: 0.7997 - val_accuracy: 0.5821\n",
      "Epoch 87/300\n",
      "8/8 [==============================] - 0s 13ms/step - loss: 0.2392 - accuracy: 0.8922 - val_loss: 0.8035 - val_accuracy: 0.5821\n",
      "Epoch 88/300\n",
      "8/8 [==============================] - 0s 14ms/step - loss: 0.2337 - accuracy: 0.9125 - val_loss: 0.8088 - val_accuracy: 0.5821\n",
      "Epoch 89/300\n",
      "8/8 [==============================] - 0s 12ms/step - loss: 0.2512 - accuracy: 0.8981 - val_loss: 0.8077 - val_accuracy: 0.5821\n",
      "Epoch 90/300\n",
      "8/8 [==============================] - 0s 12ms/step - loss: 0.2759 - accuracy: 0.8836 - val_loss: 0.8052 - val_accuracy: 0.5821\n",
      "Epoch 91/300\n",
      "8/8 [==============================] - 0s 13ms/step - loss: 0.2989 - accuracy: 0.8800 - val_loss: 0.8054 - val_accuracy: 0.5821\n",
      "Epoch 92/300\n",
      "8/8 [==============================] - 0s 14ms/step - loss: 0.2399 - accuracy: 0.9089 - val_loss: 0.8048 - val_accuracy: 0.5821\n",
      "Epoch 93/300\n",
      "8/8 [==============================] - 0s 14ms/step - loss: 0.2586 - accuracy: 0.9067 - val_loss: 0.8055 - val_accuracy: 0.5821\n",
      "Epoch 94/300\n",
      "8/8 [==============================] - 0s 13ms/step - loss: 0.2363 - accuracy: 0.9029 - val_loss: 0.8026 - val_accuracy: 0.5821\n",
      "Epoch 95/300\n",
      "8/8 [==============================] - 0s 12ms/step - loss: 0.2371 - accuracy: 0.9109 - val_loss: 0.8055 - val_accuracy: 0.5821\n",
      "Epoch 96/300\n",
      "8/8 [==============================] - 0s 13ms/step - loss: 0.2313 - accuracy: 0.9060 - val_loss: 0.8110 - val_accuracy: 0.5821\n",
      "Epoch 97/300\n",
      "8/8 [==============================] - 0s 13ms/step - loss: 0.2406 - accuracy: 0.9048 - val_loss: 0.8093 - val_accuracy: 0.5821\n",
      "Epoch 98/300\n",
      "8/8 [==============================] - 0s 13ms/step - loss: 0.2161 - accuracy: 0.9223 - val_loss: 0.8152 - val_accuracy: 0.5821\n",
      "Epoch 99/300\n",
      "8/8 [==============================] - 0s 13ms/step - loss: 0.2266 - accuracy: 0.9054 - val_loss: 0.8174 - val_accuracy: 0.5821\n",
      "Epoch 100/300\n",
      "8/8 [==============================] - 0s 12ms/step - loss: 0.2490 - accuracy: 0.9034 - val_loss: 0.8184 - val_accuracy: 0.5821\n",
      "Epoch 101/300\n",
      "8/8 [==============================] - 0s 12ms/step - loss: 0.2468 - accuracy: 0.8985 - val_loss: 0.8207 - val_accuracy: 0.5821\n",
      "Epoch 102/300\n",
      "8/8 [==============================] - 0s 12ms/step - loss: 0.2504 - accuracy: 0.8936 - val_loss: 0.8184 - val_accuracy: 0.5821\n",
      "Epoch 103/300\n",
      "8/8 [==============================] - 0s 12ms/step - loss: 0.2419 - accuracy: 0.8862 - val_loss: 0.8190 - val_accuracy: 0.5821\n",
      "Epoch 104/300\n",
      "8/8 [==============================] - 0s 12ms/step - loss: 0.2306 - accuracy: 0.9126 - val_loss: 0.8180 - val_accuracy: 0.5821\n",
      "Epoch 105/300\n",
      "8/8 [==============================] - 0s 12ms/step - loss: 0.2689 - accuracy: 0.8812 - val_loss: 0.8177 - val_accuracy: 0.5821\n",
      "Epoch 106/300\n",
      "8/8 [==============================] - 0s 13ms/step - loss: 0.2264 - accuracy: 0.9075 - val_loss: 0.8204 - val_accuracy: 0.5821\n",
      "Epoch 107/300\n",
      "8/8 [==============================] - 0s 12ms/step - loss: 0.2619 - accuracy: 0.8983 - val_loss: 0.8191 - val_accuracy: 0.5821\n",
      "Epoch 108/300\n",
      "8/8 [==============================] - 0s 13ms/step - loss: 0.2466 - accuracy: 0.9042 - val_loss: 0.8190 - val_accuracy: 0.5821\n",
      "Epoch 109/300\n",
      "8/8 [==============================] - 0s 13ms/step - loss: 0.2056 - accuracy: 0.9112 - val_loss: 0.8232 - val_accuracy: 0.5821\n",
      "Epoch 110/300\n",
      "8/8 [==============================] - 0s 12ms/step - loss: 0.2422 - accuracy: 0.9022 - val_loss: 0.8197 - val_accuracy: 0.5821\n",
      "Epoch 111/300\n",
      "8/8 [==============================] - 0s 12ms/step - loss: 0.2539 - accuracy: 0.8799 - val_loss: 0.8150 - val_accuracy: 0.5821\n",
      "Epoch 112/300\n",
      "8/8 [==============================] - 0s 12ms/step - loss: 0.2082 - accuracy: 0.9229 - val_loss: 0.8175 - val_accuracy: 0.5821\n",
      "Epoch 113/300\n",
      "8/8 [==============================] - 0s 13ms/step - loss: 0.2271 - accuracy: 0.8996 - val_loss: 0.8184 - val_accuracy: 0.5821\n",
      "Epoch 114/300\n",
      "8/8 [==============================] - 0s 12ms/step - loss: 0.2528 - accuracy: 0.8949 - val_loss: 0.8195 - val_accuracy: 0.5821\n",
      "Epoch 115/300\n",
      "8/8 [==============================] - 0s 12ms/step - loss: 0.2616 - accuracy: 0.8899 - val_loss: 0.8196 - val_accuracy: 0.5821\n",
      "Epoch 116/300\n",
      "8/8 [==============================] - 0s 12ms/step - loss: 0.2603 - accuracy: 0.8828 - val_loss: 0.8207 - val_accuracy: 0.5821\n",
      "Epoch 117/300\n"
     ]
    },
    {
     "name": "stdout",
     "output_type": "stream",
     "text": [
      "8/8 [==============================] - 0s 12ms/step - loss: 0.2328 - accuracy: 0.9147 - val_loss: 0.8239 - val_accuracy: 0.5821\n",
      "Epoch 118/300\n",
      "8/8 [==============================] - 0s 12ms/step - loss: 0.2035 - accuracy: 0.9262 - val_loss: 0.8219 - val_accuracy: 0.5821\n",
      "Epoch 119/300\n",
      "8/8 [==============================] - 0s 12ms/step - loss: 0.2252 - accuracy: 0.9075 - val_loss: 0.8197 - val_accuracy: 0.5821\n",
      "Epoch 120/300\n",
      "8/8 [==============================] - 0s 12ms/step - loss: 0.2013 - accuracy: 0.9286 - val_loss: 0.8192 - val_accuracy: 0.5821\n",
      "Epoch 121/300\n",
      "8/8 [==============================] - 0s 12ms/step - loss: 0.2059 - accuracy: 0.9114 - val_loss: 0.8190 - val_accuracy: 0.5821\n",
      "Epoch 122/300\n",
      "8/8 [==============================] - 0s 13ms/step - loss: 0.2155 - accuracy: 0.9079 - val_loss: 0.8236 - val_accuracy: 0.5821\n",
      "Epoch 123/300\n",
      "8/8 [==============================] - 0s 12ms/step - loss: 0.2460 - accuracy: 0.8996 - val_loss: 0.8251 - val_accuracy: 0.5821\n",
      "Epoch 124/300\n",
      "8/8 [==============================] - 0s 12ms/step - loss: 0.2473 - accuracy: 0.8968 - val_loss: 0.8267 - val_accuracy: 0.5821\n",
      "Epoch 125/300\n",
      "8/8 [==============================] - 0s 12ms/step - loss: 0.2241 - accuracy: 0.9027 - val_loss: 0.8297 - val_accuracy: 0.5821\n",
      "Epoch 126/300\n",
      "8/8 [==============================] - 0s 12ms/step - loss: 0.2297 - accuracy: 0.8912 - val_loss: 0.8323 - val_accuracy: 0.5821\n",
      "Epoch 127/300\n",
      "8/8 [==============================] - 0s 12ms/step - loss: 0.2188 - accuracy: 0.9019 - val_loss: 0.8351 - val_accuracy: 0.5821\n",
      "Epoch 128/300\n",
      "8/8 [==============================] - 0s 12ms/step - loss: 0.2082 - accuracy: 0.9234 - val_loss: 0.8344 - val_accuracy: 0.5821\n",
      "Epoch 129/300\n",
      "8/8 [==============================] - 0s 12ms/step - loss: 0.2216 - accuracy: 0.9109 - val_loss: 0.8345 - val_accuracy: 0.5821\n",
      "Epoch 130/300\n",
      "8/8 [==============================] - 0s 12ms/step - loss: 0.2512 - accuracy: 0.8731 - val_loss: 0.8345 - val_accuracy: 0.5821\n",
      "Epoch 131/300\n",
      "8/8 [==============================] - 0s 12ms/step - loss: 0.2180 - accuracy: 0.9076 - val_loss: 0.8305 - val_accuracy: 0.5821\n",
      "Epoch 132/300\n",
      "8/8 [==============================] - 0s 12ms/step - loss: 0.1944 - accuracy: 0.9137 - val_loss: 0.8287 - val_accuracy: 0.5821\n",
      "Epoch 133/300\n",
      "8/8 [==============================] - 0s 12ms/step - loss: 0.2114 - accuracy: 0.9084 - val_loss: 0.8299 - val_accuracy: 0.5821\n",
      "Epoch 134/300\n",
      "8/8 [==============================] - 0s 12ms/step - loss: 0.2447 - accuracy: 0.8904 - val_loss: 0.8332 - val_accuracy: 0.5821\n",
      "Epoch 135/300\n",
      "8/8 [==============================] - 0s 13ms/step - loss: 0.2120 - accuracy: 0.8913 - val_loss: 0.8310 - val_accuracy: 0.5821\n",
      "Epoch 136/300\n",
      "8/8 [==============================] - 0s 12ms/step - loss: 0.2523 - accuracy: 0.8793 - val_loss: 0.8299 - val_accuracy: 0.5821\n",
      "Epoch 137/300\n",
      "8/8 [==============================] - 0s 12ms/step - loss: 0.2220 - accuracy: 0.9070 - val_loss: 0.8317 - val_accuracy: 0.5821\n",
      "Epoch 138/300\n",
      "8/8 [==============================] - 0s 12ms/step - loss: 0.2057 - accuracy: 0.9106 - val_loss: 0.8329 - val_accuracy: 0.5821\n",
      "Epoch 139/300\n",
      "8/8 [==============================] - 0s 12ms/step - loss: 0.2179 - accuracy: 0.8949 - val_loss: 0.8327 - val_accuracy: 0.5821\n",
      "Epoch 140/300\n",
      "8/8 [==============================] - 0s 12ms/step - loss: 0.2240 - accuracy: 0.8951 - val_loss: 0.8330 - val_accuracy: 0.5821\n",
      "Epoch 141/300\n",
      "8/8 [==============================] - 0s 12ms/step - loss: 0.2682 - accuracy: 0.8680 - val_loss: 0.8345 - val_accuracy: 0.5821\n",
      "Epoch 142/300\n",
      "8/8 [==============================] - 0s 12ms/step - loss: 0.2219 - accuracy: 0.8915 - val_loss: 0.8295 - val_accuracy: 0.5821\n",
      "Epoch 143/300\n",
      "8/8 [==============================] - 0s 12ms/step - loss: 0.2012 - accuracy: 0.9183 - val_loss: 0.8313 - val_accuracy: 0.5821\n",
      "Epoch 144/300\n",
      "8/8 [==============================] - 0s 12ms/step - loss: 0.2426 - accuracy: 0.8860 - val_loss: 0.8345 - val_accuracy: 0.5821\n",
      "Epoch 145/300\n",
      "8/8 [==============================] - 0s 12ms/step - loss: 0.2281 - accuracy: 0.9005 - val_loss: 0.8359 - val_accuracy: 0.5821\n",
      "Epoch 146/300\n",
      "8/8 [==============================] - 0s 12ms/step - loss: 0.2272 - accuracy: 0.8957 - val_loss: 0.8413 - val_accuracy: 0.5821\n",
      "Epoch 147/300\n",
      "8/8 [==============================] - 0s 12ms/step - loss: 0.2137 - accuracy: 0.9124 - val_loss: 0.8448 - val_accuracy: 0.5821\n",
      "Epoch 148/300\n",
      "8/8 [==============================] - 0s 12ms/step - loss: 0.1965 - accuracy: 0.9069 - val_loss: 0.8495 - val_accuracy: 0.5821\n",
      "Epoch 149/300\n",
      "8/8 [==============================] - 0s 13ms/step - loss: 0.2000 - accuracy: 0.9100 - val_loss: 0.8487 - val_accuracy: 0.5821\n",
      "Epoch 150/300\n",
      "8/8 [==============================] - 0s 12ms/step - loss: 0.1908 - accuracy: 0.9128 - val_loss: 0.8458 - val_accuracy: 0.5821\n",
      "Epoch 151/300\n",
      "8/8 [==============================] - 0s 12ms/step - loss: 0.2206 - accuracy: 0.9124 - val_loss: 0.8416 - val_accuracy: 0.5821\n",
      "Epoch 152/300\n",
      "8/8 [==============================] - 0s 11ms/step - loss: 0.2113 - accuracy: 0.9056 - val_loss: 0.8406 - val_accuracy: 0.5821\n",
      "Epoch 153/300\n",
      "8/8 [==============================] - 0s 11ms/step - loss: 0.1999 - accuracy: 0.9020 - val_loss: 0.8451 - val_accuracy: 0.5821\n",
      "Epoch 154/300\n",
      "8/8 [==============================] - 0s 12ms/step - loss: 0.2358 - accuracy: 0.9041 - val_loss: 0.8418 - val_accuracy: 0.5821\n",
      "Epoch 155/300\n",
      "8/8 [==============================] - 0s 14ms/step - loss: 0.2287 - accuracy: 0.9007 - val_loss: 0.8437 - val_accuracy: 0.5970\n",
      "Epoch 156/300\n",
      "8/8 [==============================] - 0s 12ms/step - loss: 0.2361 - accuracy: 0.9127 - val_loss: 0.8445 - val_accuracy: 0.5970\n",
      "Epoch 157/300\n",
      "8/8 [==============================] - 0s 12ms/step - loss: 0.2164 - accuracy: 0.9077 - val_loss: 0.8440 - val_accuracy: 0.5970\n",
      "Epoch 158/300\n",
      "8/8 [==============================] - 0s 12ms/step - loss: 0.2329 - accuracy: 0.9030 - val_loss: 0.8510 - val_accuracy: 0.5970\n",
      "Epoch 159/300\n",
      "8/8 [==============================] - 0s 11ms/step - loss: 0.2113 - accuracy: 0.9036 - val_loss: 0.8544 - val_accuracy: 0.5970\n",
      "Epoch 160/300\n",
      "8/8 [==============================] - 0s 10ms/step - loss: 0.2224 - accuracy: 0.9021 - val_loss: 0.8512 - val_accuracy: 0.5970\n",
      "Epoch 161/300\n",
      "8/8 [==============================] - 0s 11ms/step - loss: 0.2220 - accuracy: 0.9005 - val_loss: 0.8505 - val_accuracy: 0.5970\n",
      "Epoch 162/300\n",
      "8/8 [==============================] - 0s 12ms/step - loss: 0.1755 - accuracy: 0.9175 - val_loss: 0.8546 - val_accuracy: 0.5970\n",
      "Epoch 163/300\n",
      "8/8 [==============================] - 0s 12ms/step - loss: 0.1951 - accuracy: 0.9175 - val_loss: 0.8537 - val_accuracy: 0.5970\n",
      "Epoch 164/300\n",
      "8/8 [==============================] - 0s 13ms/step - loss: 0.2094 - accuracy: 0.9096 - val_loss: 0.8591 - val_accuracy: 0.5970\n",
      "Epoch 165/300\n",
      "8/8 [==============================] - 0s 12ms/step - loss: 0.1957 - accuracy: 0.9282 - val_loss: 0.8606 - val_accuracy: 0.5970\n",
      "Epoch 166/300\n",
      "8/8 [==============================] - 0s 13ms/step - loss: 0.2345 - accuracy: 0.8905 - val_loss: 0.8585 - val_accuracy: 0.5970\n",
      "Epoch 167/300\n",
      "8/8 [==============================] - 0s 12ms/step - loss: 0.2003 - accuracy: 0.9045 - val_loss: 0.8589 - val_accuracy: 0.5821\n",
      "Epoch 168/300\n",
      "8/8 [==============================] - 0s 12ms/step - loss: 0.2164 - accuracy: 0.8982 - val_loss: 0.8599 - val_accuracy: 0.5970\n",
      "Epoch 169/300\n",
      "8/8 [==============================] - 0s 12ms/step - loss: 0.2288 - accuracy: 0.8854 - val_loss: 0.8629 - val_accuracy: 0.5970\n",
      "Epoch 170/300\n",
      "8/8 [==============================] - 0s 12ms/step - loss: 0.2483 - accuracy: 0.8767 - val_loss: 0.8690 - val_accuracy: 0.5970\n",
      "Epoch 171/300\n",
      "8/8 [==============================] - 0s 12ms/step - loss: 0.1960 - accuracy: 0.9053 - val_loss: 0.8741 - val_accuracy: 0.5970\n",
      "Epoch 172/300\n",
      "8/8 [==============================] - 0s 12ms/step - loss: 0.1673 - accuracy: 0.9280 - val_loss: 0.8743 - val_accuracy: 0.5970\n",
      "Epoch 173/300\n",
      "8/8 [==============================] - 0s 12ms/step - loss: 0.2244 - accuracy: 0.9073 - val_loss: 0.8739 - val_accuracy: 0.5970\n",
      "Epoch 174/300\n",
      "8/8 [==============================] - 0s 12ms/step - loss: 0.1723 - accuracy: 0.9284 - val_loss: 0.8776 - val_accuracy: 0.5970\n"
     ]
    },
    {
     "name": "stdout",
     "output_type": "stream",
     "text": [
      "Epoch 175/300\n",
      "8/8 [==============================] - 0s 12ms/step - loss: 0.2197 - accuracy: 0.8947 - val_loss: 0.8772 - val_accuracy: 0.5970\n",
      "Epoch 176/300\n",
      "8/8 [==============================] - 0s 12ms/step - loss: 0.2214 - accuracy: 0.9084 - val_loss: 0.8739 - val_accuracy: 0.5970\n",
      "Epoch 177/300\n",
      "8/8 [==============================] - 0s 12ms/step - loss: 0.1759 - accuracy: 0.9219 - val_loss: 0.8733 - val_accuracy: 0.5970\n",
      "Epoch 178/300\n",
      "8/8 [==============================] - 0s 12ms/step - loss: 0.2461 - accuracy: 0.8835 - val_loss: 0.8787 - val_accuracy: 0.5970\n",
      "Epoch 179/300\n",
      "8/8 [==============================] - 0s 12ms/step - loss: 0.1951 - accuracy: 0.8921 - val_loss: 0.8824 - val_accuracy: 0.5970\n",
      "Epoch 180/300\n",
      "8/8 [==============================] - 0s 12ms/step - loss: 0.1995 - accuracy: 0.9047 - val_loss: 0.8902 - val_accuracy: 0.5672\n",
      "Epoch 181/300\n",
      "8/8 [==============================] - 0s 12ms/step - loss: 0.1956 - accuracy: 0.9139 - val_loss: 0.8953 - val_accuracy: 0.5672\n",
      "Epoch 182/300\n",
      "8/8 [==============================] - 0s 12ms/step - loss: 0.2362 - accuracy: 0.9079 - val_loss: 0.8987 - val_accuracy: 0.5672\n",
      "Epoch 183/300\n",
      "8/8 [==============================] - 0s 12ms/step - loss: 0.2081 - accuracy: 0.9019 - val_loss: 0.8949 - val_accuracy: 0.5672\n",
      "Epoch 184/300\n",
      "8/8 [==============================] - 0s 12ms/step - loss: 0.1957 - accuracy: 0.9201 - val_loss: 0.8945 - val_accuracy: 0.5821\n",
      "Epoch 185/300\n",
      "8/8 [==============================] - 0s 12ms/step - loss: 0.2011 - accuracy: 0.9021 - val_loss: 0.8919 - val_accuracy: 0.5970\n",
      "Epoch 186/300\n",
      "8/8 [==============================] - 0s 12ms/step - loss: 0.1996 - accuracy: 0.9091 - val_loss: 0.8899 - val_accuracy: 0.5970\n",
      "Epoch 187/300\n",
      "8/8 [==============================] - 0s 12ms/step - loss: 0.2238 - accuracy: 0.9078 - val_loss: 0.8903 - val_accuracy: 0.5970\n",
      "Epoch 188/300\n",
      "8/8 [==============================] - 0s 13ms/step - loss: 0.1667 - accuracy: 0.9313 - val_loss: 0.8892 - val_accuracy: 0.5970\n",
      "Epoch 189/300\n",
      "8/8 [==============================] - 0s 12ms/step - loss: 0.2082 - accuracy: 0.8978 - val_loss: 0.8866 - val_accuracy: 0.5970\n",
      "Epoch 190/300\n",
      "8/8 [==============================] - 0s 12ms/step - loss: 0.2062 - accuracy: 0.9069 - val_loss: 0.8853 - val_accuracy: 0.5970\n",
      "Epoch 191/300\n",
      "8/8 [==============================] - 0s 12ms/step - loss: 0.2133 - accuracy: 0.9046 - val_loss: 0.8831 - val_accuracy: 0.5970\n",
      "Epoch 192/300\n",
      "8/8 [==============================] - 0s 12ms/step - loss: 0.1783 - accuracy: 0.9285 - val_loss: 0.8880 - val_accuracy: 0.5970\n",
      "Epoch 193/300\n",
      "8/8 [==============================] - 0s 12ms/step - loss: 0.2511 - accuracy: 0.8819 - val_loss: 0.8876 - val_accuracy: 0.5970\n",
      "Epoch 194/300\n",
      "8/8 [==============================] - 0s 13ms/step - loss: 0.1919 - accuracy: 0.9156 - val_loss: 0.8871 - val_accuracy: 0.5970\n",
      "Epoch 195/300\n",
      "8/8 [==============================] - 0s 13ms/step - loss: 0.2011 - accuracy: 0.9101 - val_loss: 0.8842 - val_accuracy: 0.5970\n",
      "Epoch 196/300\n",
      "8/8 [==============================] - 0s 12ms/step - loss: 0.2040 - accuracy: 0.9023 - val_loss: 0.8839 - val_accuracy: 0.5970\n",
      "Epoch 197/300\n",
      "8/8 [==============================] - 0s 12ms/step - loss: 0.1900 - accuracy: 0.9112 - val_loss: 0.8842 - val_accuracy: 0.5970\n",
      "Epoch 198/300\n",
      "8/8 [==============================] - 0s 12ms/step - loss: 0.1805 - accuracy: 0.9328 - val_loss: 0.8893 - val_accuracy: 0.5970\n",
      "Epoch 199/300\n",
      "8/8 [==============================] - 0s 12ms/step - loss: 0.2030 - accuracy: 0.9030 - val_loss: 0.8930 - val_accuracy: 0.5970\n",
      "Epoch 200/300\n",
      "8/8 [==============================] - 0s 12ms/step - loss: 0.1571 - accuracy: 0.9355 - val_loss: 0.9001 - val_accuracy: 0.5970\n",
      "Epoch 201/300\n",
      "8/8 [==============================] - 0s 12ms/step - loss: 0.1809 - accuracy: 0.8986 - val_loss: 0.9021 - val_accuracy: 0.5970\n",
      "Epoch 202/300\n",
      "8/8 [==============================] - 0s 12ms/step - loss: 0.1634 - accuracy: 0.9341 - val_loss: 0.9069 - val_accuracy: 0.5970\n",
      "Epoch 203/300\n",
      "8/8 [==============================] - 0s 13ms/step - loss: 0.2259 - accuracy: 0.8916 - val_loss: 0.9038 - val_accuracy: 0.5970\n",
      "Epoch 204/300\n",
      "8/8 [==============================] - 0s 12ms/step - loss: 0.2018 - accuracy: 0.9011 - val_loss: 0.9047 - val_accuracy: 0.5970\n",
      "Epoch 205/300\n",
      "8/8 [==============================] - 0s 13ms/step - loss: 0.1673 - accuracy: 0.9233 - val_loss: 0.9027 - val_accuracy: 0.5970\n",
      "Epoch 206/300\n",
      "8/8 [==============================] - 0s 13ms/step - loss: 0.1902 - accuracy: 0.9091 - val_loss: 0.9034 - val_accuracy: 0.5970\n",
      "Epoch 207/300\n",
      "8/8 [==============================] - 0s 12ms/step - loss: 0.1881 - accuracy: 0.9120 - val_loss: 0.9035 - val_accuracy: 0.5970\n",
      "Epoch 208/300\n",
      "8/8 [==============================] - 0s 12ms/step - loss: 0.2254 - accuracy: 0.8915 - val_loss: 0.9035 - val_accuracy: 0.5970\n",
      "Epoch 209/300\n",
      "8/8 [==============================] - 0s 12ms/step - loss: 0.1782 - accuracy: 0.9163 - val_loss: 0.9017 - val_accuracy: 0.5970\n",
      "Epoch 210/300\n",
      "8/8 [==============================] - 0s 12ms/step - loss: 0.1555 - accuracy: 0.9316 - val_loss: 0.9049 - val_accuracy: 0.5970\n",
      "Epoch 211/300\n",
      "8/8 [==============================] - 0s 13ms/step - loss: 0.1959 - accuracy: 0.9053 - val_loss: 0.9071 - val_accuracy: 0.5970\n",
      "Epoch 212/300\n",
      "8/8 [==============================] - 0s 13ms/step - loss: 0.1961 - accuracy: 0.9140 - val_loss: 0.9081 - val_accuracy: 0.5970\n",
      "Epoch 213/300\n",
      "8/8 [==============================] - 0s 12ms/step - loss: 0.1662 - accuracy: 0.9163 - val_loss: 0.9113 - val_accuracy: 0.5970\n",
      "Epoch 214/300\n",
      "8/8 [==============================] - 0s 12ms/step - loss: 0.1982 - accuracy: 0.9053 - val_loss: 0.9168 - val_accuracy: 0.5970\n",
      "Epoch 215/300\n",
      "8/8 [==============================] - 0s 12ms/step - loss: 0.1979 - accuracy: 0.9057 - val_loss: 0.9176 - val_accuracy: 0.5970\n",
      "Epoch 216/300\n",
      "8/8 [==============================] - 0s 13ms/step - loss: 0.1941 - accuracy: 0.9185 - val_loss: 0.9202 - val_accuracy: 0.5821\n",
      "Epoch 217/300\n",
      "8/8 [==============================] - 0s 12ms/step - loss: 0.1707 - accuracy: 0.9254 - val_loss: 0.9214 - val_accuracy: 0.5821\n",
      "Epoch 218/300\n",
      "8/8 [==============================] - 0s 12ms/step - loss: 0.2003 - accuracy: 0.8987 - val_loss: 0.9208 - val_accuracy: 0.5970\n",
      "Epoch 219/300\n",
      "8/8 [==============================] - 0s 13ms/step - loss: 0.1824 - accuracy: 0.9151 - val_loss: 0.9237 - val_accuracy: 0.5970\n",
      "Epoch 220/300\n",
      "8/8 [==============================] - 0s 12ms/step - loss: 0.1814 - accuracy: 0.9216 - val_loss: 0.9234 - val_accuracy: 0.5970\n",
      "Epoch 221/300\n",
      "8/8 [==============================] - 0s 12ms/step - loss: 0.1784 - accuracy: 0.9219 - val_loss: 0.9297 - val_accuracy: 0.5821\n",
      "Epoch 222/300\n",
      "8/8 [==============================] - 0s 12ms/step - loss: 0.1939 - accuracy: 0.9102 - val_loss: 0.9275 - val_accuracy: 0.5821\n",
      "Epoch 223/300\n",
      "8/8 [==============================] - 0s 13ms/step - loss: 0.1992 - accuracy: 0.9096 - val_loss: 0.9296 - val_accuracy: 0.5970\n",
      "Epoch 224/300\n",
      "8/8 [==============================] - 0s 12ms/step - loss: 0.1731 - accuracy: 0.9255 - val_loss: 0.9319 - val_accuracy: 0.5821\n",
      "Epoch 225/300\n",
      "8/8 [==============================] - 0s 12ms/step - loss: 0.1991 - accuracy: 0.9085 - val_loss: 0.9324 - val_accuracy: 0.5821\n",
      "Epoch 226/300\n",
      "8/8 [==============================] - 0s 13ms/step - loss: 0.2006 - accuracy: 0.9138 - val_loss: 0.9289 - val_accuracy: 0.5821\n",
      "Epoch 227/300\n",
      "8/8 [==============================] - 0s 12ms/step - loss: 0.1874 - accuracy: 0.9264 - val_loss: 0.9329 - val_accuracy: 0.5821\n",
      "Epoch 228/300\n",
      "8/8 [==============================] - 0s 12ms/step - loss: 0.2110 - accuracy: 0.9019 - val_loss: 0.9335 - val_accuracy: 0.5821\n",
      "Epoch 229/300\n",
      "8/8 [==============================] - 0s 12ms/step - loss: 0.1945 - accuracy: 0.9147 - val_loss: 0.9335 - val_accuracy: 0.5821\n",
      "Epoch 230/300\n",
      "8/8 [==============================] - 0s 12ms/step - loss: 0.1823 - accuracy: 0.9098 - val_loss: 0.9337 - val_accuracy: 0.5821\n",
      "Epoch 231/300\n",
      "8/8 [==============================] - 0s 11ms/step - loss: 0.1684 - accuracy: 0.9348 - val_loss: 0.9352 - val_accuracy: 0.5821\n",
      "Epoch 232/300\n",
      "8/8 [==============================] - 0s 12ms/step - loss: 0.2119 - accuracy: 0.9105 - val_loss: 0.9347 - val_accuracy: 0.5821\n"
     ]
    },
    {
     "name": "stdout",
     "output_type": "stream",
     "text": [
      "Epoch 233/300\n",
      "8/8 [==============================] - 0s 12ms/step - loss: 0.1981 - accuracy: 0.9196 - val_loss: 0.9357 - val_accuracy: 0.5821\n",
      "Epoch 234/300\n",
      "8/8 [==============================] - 0s 13ms/step - loss: 0.2253 - accuracy: 0.9017 - val_loss: 0.9352 - val_accuracy: 0.5821\n",
      "Epoch 235/300\n",
      "8/8 [==============================] - 0s 11ms/step - loss: 0.1751 - accuracy: 0.9252 - val_loss: 0.9386 - val_accuracy: 0.5821\n",
      "Epoch 236/300\n",
      "8/8 [==============================] - 0s 10ms/step - loss: 0.1903 - accuracy: 0.9222 - val_loss: 0.9403 - val_accuracy: 0.5821\n",
      "Epoch 237/300\n",
      "8/8 [==============================] - 0s 12ms/step - loss: 0.1738 - accuracy: 0.9341 - val_loss: 0.9462 - val_accuracy: 0.5821\n",
      "Epoch 238/300\n",
      "8/8 [==============================] - 0s 12ms/step - loss: 0.1844 - accuracy: 0.9174 - val_loss: 0.9464 - val_accuracy: 0.5821\n",
      "Epoch 239/300\n",
      "8/8 [==============================] - 0s 12ms/step - loss: 0.1806 - accuracy: 0.9191 - val_loss: 0.9459 - val_accuracy: 0.5821\n",
      "Epoch 240/300\n",
      "8/8 [==============================] - 0s 10ms/step - loss: 0.1810 - accuracy: 0.9188 - val_loss: 0.9489 - val_accuracy: 0.5821\n",
      "Epoch 241/300\n",
      "8/8 [==============================] - 0s 13ms/step - loss: 0.1750 - accuracy: 0.9319 - val_loss: 0.9436 - val_accuracy: 0.5821\n",
      "Epoch 242/300\n",
      "8/8 [==============================] - 0s 12ms/step - loss: 0.1688 - accuracy: 0.9227 - val_loss: 0.9453 - val_accuracy: 0.5821\n",
      "Epoch 243/300\n",
      "8/8 [==============================] - 0s 12ms/step - loss: 0.1955 - accuracy: 0.8992 - val_loss: 0.9465 - val_accuracy: 0.5821\n",
      "Epoch 244/300\n",
      "8/8 [==============================] - 0s 10ms/step - loss: 0.1933 - accuracy: 0.9156 - val_loss: 0.9454 - val_accuracy: 0.5821\n",
      "Epoch 245/300\n",
      "8/8 [==============================] - 0s 11ms/step - loss: 0.1625 - accuracy: 0.9383 - val_loss: 0.9432 - val_accuracy: 0.5821\n",
      "Epoch 246/300\n",
      "8/8 [==============================] - 0s 12ms/step - loss: 0.1615 - accuracy: 0.9386 - val_loss: 0.9420 - val_accuracy: 0.5821\n",
      "Epoch 247/300\n",
      "8/8 [==============================] - 0s 12ms/step - loss: 0.1790 - accuracy: 0.9248 - val_loss: 0.9407 - val_accuracy: 0.5821\n",
      "Epoch 248/300\n",
      "8/8 [==============================] - 0s 13ms/step - loss: 0.1564 - accuracy: 0.9378 - val_loss: 0.9418 - val_accuracy: 0.5821\n",
      "Epoch 249/300\n",
      "8/8 [==============================] - 0s 11ms/step - loss: 0.1826 - accuracy: 0.9218 - val_loss: 0.9457 - val_accuracy: 0.5821\n",
      "Epoch 250/300\n",
      "8/8 [==============================] - 0s 12ms/step - loss: 0.1721 - accuracy: 0.9437 - val_loss: 0.9415 - val_accuracy: 0.5821\n",
      "Epoch 251/300\n",
      "8/8 [==============================] - 0s 12ms/step - loss: 0.1955 - accuracy: 0.8968 - val_loss: 0.9447 - val_accuracy: 0.5821\n",
      "Epoch 252/300\n",
      "8/8 [==============================] - 0s 12ms/step - loss: 0.1925 - accuracy: 0.9045 - val_loss: 0.9463 - val_accuracy: 0.5821\n",
      "Epoch 253/300\n",
      "8/8 [==============================] - 0s 12ms/step - loss: 0.1809 - accuracy: 0.9158 - val_loss: 0.9457 - val_accuracy: 0.5821\n",
      "Epoch 254/300\n",
      "8/8 [==============================] - 0s 12ms/step - loss: 0.1620 - accuracy: 0.9235 - val_loss: 0.9481 - val_accuracy: 0.5821\n",
      "Epoch 255/300\n",
      "8/8 [==============================] - 0s 13ms/step - loss: 0.1709 - accuracy: 0.9297 - val_loss: 0.9477 - val_accuracy: 0.5821\n",
      "Epoch 256/300\n",
      "8/8 [==============================] - 0s 12ms/step - loss: 0.1606 - accuracy: 0.9397 - val_loss: 0.9513 - val_accuracy: 0.5821\n",
      "Epoch 257/300\n",
      "8/8 [==============================] - 0s 12ms/step - loss: 0.1810 - accuracy: 0.9256 - val_loss: 0.9526 - val_accuracy: 0.5821\n",
      "Epoch 258/300\n",
      "8/8 [==============================] - 0s 12ms/step - loss: 0.1673 - accuracy: 0.9332 - val_loss: 0.9561 - val_accuracy: 0.5821\n",
      "Epoch 259/300\n",
      "8/8 [==============================] - 0s 13ms/step - loss: 0.1886 - accuracy: 0.9107 - val_loss: 0.9566 - val_accuracy: 0.5821\n",
      "Epoch 260/300\n",
      "8/8 [==============================] - 0s 13ms/step - loss: 0.1511 - accuracy: 0.9450 - val_loss: 0.9592 - val_accuracy: 0.5821\n",
      "Epoch 261/300\n",
      "8/8 [==============================] - 0s 12ms/step - loss: 0.1765 - accuracy: 0.9241 - val_loss: 0.9631 - val_accuracy: 0.5821\n",
      "Epoch 262/300\n",
      "8/8 [==============================] - 0s 12ms/step - loss: 0.1516 - accuracy: 0.9473 - val_loss: 0.9614 - val_accuracy: 0.5821\n",
      "Epoch 263/300\n",
      "8/8 [==============================] - 0s 12ms/step - loss: 0.1726 - accuracy: 0.9219 - val_loss: 0.9631 - val_accuracy: 0.5821\n",
      "Epoch 264/300\n",
      "8/8 [==============================] - 0s 12ms/step - loss: 0.1718 - accuracy: 0.9297 - val_loss: 0.9649 - val_accuracy: 0.5821\n",
      "Epoch 265/300\n",
      "8/8 [==============================] - 0s 12ms/step - loss: 0.1684 - accuracy: 0.9331 - val_loss: 0.9654 - val_accuracy: 0.5821\n",
      "Epoch 266/300\n",
      "8/8 [==============================] - 0s 12ms/step - loss: 0.1595 - accuracy: 0.9265 - val_loss: 0.9693 - val_accuracy: 0.5821\n",
      "Epoch 267/300\n",
      "8/8 [==============================] - 0s 13ms/step - loss: 0.1977 - accuracy: 0.9117 - val_loss: 0.9667 - val_accuracy: 0.5821\n",
      "Epoch 268/300\n",
      "8/8 [==============================] - 0s 12ms/step - loss: 0.1677 - accuracy: 0.9248 - val_loss: 0.9657 - val_accuracy: 0.5821\n",
      "Epoch 269/300\n",
      "8/8 [==============================] - 0s 12ms/step - loss: 0.1568 - accuracy: 0.9371 - val_loss: 0.9696 - val_accuracy: 0.5821\n",
      "Epoch 270/300\n",
      "8/8 [==============================] - 0s 12ms/step - loss: 0.1882 - accuracy: 0.9294 - val_loss: 0.9687 - val_accuracy: 0.5821\n",
      "Epoch 271/300\n",
      "8/8 [==============================] - 0s 13ms/step - loss: 0.1476 - accuracy: 0.9542 - val_loss: 0.9722 - val_accuracy: 0.5970\n",
      "Epoch 272/300\n",
      "8/8 [==============================] - 0s 13ms/step - loss: 0.1962 - accuracy: 0.9276 - val_loss: 0.9713 - val_accuracy: 0.5970\n",
      "Epoch 273/300\n",
      "8/8 [==============================] - 0s 12ms/step - loss: 0.1712 - accuracy: 0.9268 - val_loss: 0.9677 - val_accuracy: 0.5970\n",
      "Epoch 274/300\n",
      "8/8 [==============================] - 0s 12ms/step - loss: 0.1575 - accuracy: 0.9459 - val_loss: 0.9690 - val_accuracy: 0.5970\n",
      "Epoch 275/300\n",
      "8/8 [==============================] - 0s 12ms/step - loss: 0.1656 - accuracy: 0.9412 - val_loss: 0.9665 - val_accuracy: 0.5970\n",
      "Epoch 276/300\n",
      "8/8 [==============================] - 0s 12ms/step - loss: 0.1636 - accuracy: 0.9338 - val_loss: 0.9689 - val_accuracy: 0.5970\n",
      "Epoch 277/300\n",
      "8/8 [==============================] - 0s 12ms/step - loss: 0.1813 - accuracy: 0.9414 - val_loss: 0.9647 - val_accuracy: 0.6119\n",
      "Epoch 278/300\n",
      "8/8 [==============================] - 0s 13ms/step - loss: 0.1752 - accuracy: 0.9332 - val_loss: 0.9686 - val_accuracy: 0.6119\n",
      "Epoch 279/300\n",
      "8/8 [==============================] - 0s 12ms/step - loss: 0.1782 - accuracy: 0.9289 - val_loss: 0.9693 - val_accuracy: 0.6119\n",
      "Epoch 280/300\n",
      "8/8 [==============================] - 0s 12ms/step - loss: 0.1855 - accuracy: 0.9315 - val_loss: 0.9773 - val_accuracy: 0.6119\n",
      "Epoch 281/300\n",
      "8/8 [==============================] - 0s 12ms/step - loss: 0.1642 - accuracy: 0.9303 - val_loss: 0.9803 - val_accuracy: 0.6119\n",
      "Epoch 282/300\n",
      "8/8 [==============================] - 0s 13ms/step - loss: 0.1487 - accuracy: 0.9377 - val_loss: 0.9833 - val_accuracy: 0.5970\n",
      "Epoch 283/300\n",
      "8/8 [==============================] - 0s 13ms/step - loss: 0.1496 - accuracy: 0.9448 - val_loss: 0.9804 - val_accuracy: 0.6119\n",
      "Epoch 284/300\n",
      "8/8 [==============================] - 0s 12ms/step - loss: 0.1455 - accuracy: 0.9405 - val_loss: 0.9783 - val_accuracy: 0.6119\n",
      "Epoch 285/300\n",
      "8/8 [==============================] - 0s 12ms/step - loss: 0.1633 - accuracy: 0.9331 - val_loss: 0.9793 - val_accuracy: 0.6119\n",
      "Epoch 286/300\n",
      "8/8 [==============================] - 0s 12ms/step - loss: 0.1796 - accuracy: 0.9459 - val_loss: 0.9809 - val_accuracy: 0.6119\n",
      "Epoch 287/300\n",
      "8/8 [==============================] - 0s 13ms/step - loss: 0.1412 - accuracy: 0.9423 - val_loss: 0.9851 - val_accuracy: 0.6119\n",
      "Epoch 288/300\n",
      "8/8 [==============================] - 0s 12ms/step - loss: 0.1836 - accuracy: 0.9149 - val_loss: 0.9911 - val_accuracy: 0.5970\n",
      "Epoch 289/300\n",
      "8/8 [==============================] - 0s 12ms/step - loss: 0.1798 - accuracy: 0.9208 - val_loss: 0.9945 - val_accuracy: 0.5970\n",
      "Epoch 290/300\n",
      "8/8 [==============================] - 0s 12ms/step - loss: 0.1613 - accuracy: 0.9532 - val_loss: 0.9973 - val_accuracy: 0.5970\n"
     ]
    },
    {
     "name": "stdout",
     "output_type": "stream",
     "text": [
      "Epoch 291/300\n",
      "8/8 [==============================] - 0s 13ms/step - loss: 0.1311 - accuracy: 0.9492 - val_loss: 0.9988 - val_accuracy: 0.5970\n",
      "Epoch 292/300\n",
      "8/8 [==============================] - 0s 12ms/step - loss: 0.1492 - accuracy: 0.9424 - val_loss: 0.9961 - val_accuracy: 0.5970\n",
      "Epoch 293/300\n",
      "8/8 [==============================] - 0s 13ms/step - loss: 0.1902 - accuracy: 0.9180 - val_loss: 0.9967 - val_accuracy: 0.5970\n",
      "Epoch 294/300\n",
      "8/8 [==============================] - 0s 12ms/step - loss: 0.1796 - accuracy: 0.9421 - val_loss: 0.9964 - val_accuracy: 0.5970\n",
      "Epoch 295/300\n",
      "8/8 [==============================] - 0s 12ms/step - loss: 0.1833 - accuracy: 0.9374 - val_loss: 0.9979 - val_accuracy: 0.5970\n",
      "Epoch 296/300\n",
      "8/8 [==============================] - 0s 12ms/step - loss: 0.1915 - accuracy: 0.9254 - val_loss: 0.9998 - val_accuracy: 0.5970\n",
      "Epoch 297/300\n",
      "8/8 [==============================] - 0s 13ms/step - loss: 0.1528 - accuracy: 0.9468 - val_loss: 1.0013 - val_accuracy: 0.5970\n",
      "Epoch 298/300\n",
      "8/8 [==============================] - 0s 13ms/step - loss: 0.1919 - accuracy: 0.9335 - val_loss: 0.9949 - val_accuracy: 0.5970\n",
      "Epoch 299/300\n",
      "8/8 [==============================] - 0s 13ms/step - loss: 0.1626 - accuracy: 0.9479 - val_loss: 0.9915 - val_accuracy: 0.5970\n",
      "Epoch 300/300\n",
      "8/8 [==============================] - 0s 13ms/step - loss: 0.1679 - accuracy: 0.9318 - val_loss: 0.9951 - val_accuracy: 0.5970\n"
     ]
    }
   ],
   "source": [
    "#compile and fit the model\n",
    "model.compile(loss='binary_crossentropy', optimizer='adam', metrics=['accuracy'])\n",
    "history = model.fit(X, y, validation_split=0.22, epochs=300)"
   ]
  },
  {
   "cell_type": "code",
   "execution_count": 25,
   "metadata": {},
   "outputs": [
    {
     "data": {
      "image/png": "[encoded data removed]",
      "text/plain": [
       "<Figure size 432x288 with 1 Axes>"
      ]
     },
     "metadata": {
      "needs_background": "light"
     },
     "output_type": "display_data"
    }
   ],
   "source": [
    "#plot loss vs epochs\n",
    "plt.plot(history.history['loss'])\n",
    "plt.plot(history.history['val_loss'])\n",
    "plt.title('model loss')\n",
    "plt.ylabel('loss')\n",
    "plt.xlabel('no of epochs')\n",
    "plt.legend(['train','test'],loc='upper left')\n",
    "plt.show()"
   ]
  },
  {
   "cell_type": "code",
   "execution_count": 26,
   "metadata": {},
   "outputs": [
    {
     "data": {
      "image/png": "[encoded data removed]",
      "text/plain": [
       "<Figure size 432x288 with 1 Axes>"
      ]
     },
     "metadata": {
      "needs_background": "light"
     },
     "output_type": "display_data"
    }
   ],
   "source": [
    "#plot accuracy vs epochs\n",
    "plt.plot(history.history['accuracy'])\n",
    "plt.plot(history.history['val_accuracy'])\n",
    "plt.title('model accuracy')\n",
    "plt.ylabel('accuracy')\n",
    "plt.xlabel('no of epochs')\n",
    "plt.legend(['train','test'],loc='upper left')\n",
    "plt.show()"
   ]
  },
  {
   "cell_type": "code",
   "execution_count": 30,
   "metadata": {},
   "outputs": [
    {
     "name": "stdout",
     "output_type": "stream",
     "text": [
      "[0]\n"
     ]
    }
   ],
   "source": [
    "import numpy as np\n",
    "from numpy import array\n",
    "\n",
    "#input for 13 features\n",
    "Xnew = np.array([[67,1,0,125,254,1,1,163,0,0.2,1,2,3]])\n",
    "\n",
    "#Xnew = np.array([[18,1,0,130,253,0,1,144,1,1.4,2,1,3]])\n",
    "\n",
    "#convert into numpy array\n",
    "Xnew = np.array(Xnew, dtype=np.float64)\n",
    "\n",
    "#making the prediction\n",
    "Ynew = (model.predict(Xnew)>0.5).astype(\"int32\")\n",
    "\n",
    "print(Ynew[0])"
   ]
  },
  {
   "cell_type": "code",
   "execution_count": null,
   "metadata": {},
   "outputs": [],
   "source": []
  }
 ],
 "metadata": {
  "kernelspec": {
   "display_name": "Python 3",
   "language": "python",
   "name": "python3"
  },
  "language_info": {
   "codemirror_mode": {
    "name": "ipython",
    "version": 3
   },
   "file_extension": ".py",
   "mimetype": "text/x-python",
   "name": "python",
   "nbconvert_exporter": "python",
   "pygments_lexer": "ipython3",
   "version": "3.8.5"
  }
 },
 "nbformat": 4,
 "nbformat_minor": 4
}
