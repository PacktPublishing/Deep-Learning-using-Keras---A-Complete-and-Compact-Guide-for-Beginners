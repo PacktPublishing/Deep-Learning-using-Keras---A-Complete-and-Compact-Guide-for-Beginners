{
 "cells": [
  {
   "cell_type": "code",
   "execution_count": 13,
   "metadata": {
    "scrolled": true
   },
   "outputs": [],
   "source": [
    "from tensorflow import keras\n",
    "from tensorflow.keras import layers\n",
    "from keras.preprocessing.image import ImageDataGenerator"
   ]
  },
  {
   "cell_type": "code",
   "execution_count": 14,
   "metadata": {
    "scrolled": true
   },
   "outputs": [],
   "source": [
    "#construct an instance of ImageDataGenerator class\n",
    "train_datagen = ImageDataGenerator(\n",
    "    rescale = 1\n",
    ")\n",
    "test_datagen = ImageDataGenerator(\n",
    "    rescale = 1\n",
    ")"
   ]
  },
  {
   "cell_type": "code",
   "execution_count": 15,
   "metadata": {},
   "outputs": [],
   "source": [
    "#defining the sequential model for multiclass classification\n",
    "model = keras.Sequential()"
   ]
  },
  {
   "cell_type": "code",
   "execution_count": 16,
   "metadata": {
    "scrolled": true
   },
   "outputs": [],
   "source": [
    "# Defining the CNN layers\n",
    "model.add(layers.Conv2D(32, (3,3), activation='relu', input_shape=(100,100,3)))\n",
    "model.add(layers.MaxPooling2D((2,2)))\n",
    "model.add(layers.Dropout(0.2))\n",
    "\n",
    "model.add(layers.Conv2D(64, (3,3), activation='relu'))\n",
    "model.add(layers.MaxPooling2D((2,2)))\n",
    "model.add(layers.Dropout(0.2))\n",
    "          \n",
    "model.add(layers.Conv2D(128, (3,3), activation='relu'))\n",
    "model.add(layers.MaxPooling2D((2,2)))\n",
    "model.add(layers.Dropout(0.2))\n",
    "          \n",
    "model.add(layers.Flatten())\n",
    "model.add(layers.Dense(512, activation='relu'))\n",
    "model.add(layers.Dropout(0.3))\n",
    "\n",
    "model.add(layers.Dense(5, activation='softmax'))"
   ]
  },
  {
   "cell_type": "code",
   "execution_count": 17,
   "metadata": {},
   "outputs": [
    {
     "name": "stdout",
     "output_type": "stream",
     "text": [
      "Found 3113 images belonging to 5 classes.\n",
      "Found 1210 images belonging to 5 classes.\n"
     ]
    }
   ],
   "source": [
    "#prepare iterators to loop through each and every image\n",
    "training_iterator = train_datagen.flow_from_directory('dataset/flowers/train', batch_size=64, target_size=(100,100))\n",
    "testing_iterator = test_datagen.flow_from_directory('dataset/flowers/test', batch_size=64, target_size=(100,100))\n"
   ]
  },
  {
   "cell_type": "code",
   "execution_count": 18,
   "metadata": {
    "scrolled": true
   },
   "outputs": [
    {
     "name": "stdout",
     "output_type": "stream",
     "text": [
      "Epoch 1/8\n",
      "49/49 [==============================] - 92s 2s/step - loss: 87.8536 - accuracy: 0.2325 - val_loss: 1.5988 - val_accuracy: 0.2083\n",
      "Epoch 2/8\n",
      "49/49 [==============================] - 30s 607ms/step - loss: 1.5911 - accuracy: 0.2680 - val_loss: 1.5980 - val_accuracy: 0.2174\n",
      "Epoch 3/8\n",
      "49/49 [==============================] - 33s 668ms/step - loss: 1.5827 - accuracy: 0.2670 - val_loss: 1.6207 - val_accuracy: 0.2041\n",
      "Epoch 4/8\n",
      "49/49 [==============================] - 33s 677ms/step - loss: 1.5584 - accuracy: 0.2745 - val_loss: 1.6173 - val_accuracy: 0.2140\n",
      "Epoch 5/8\n",
      "49/49 [==============================] - 34s 688ms/step - loss: 1.5431 - accuracy: 0.2866 - val_loss: 1.5978 - val_accuracy: 0.2322\n",
      "Epoch 6/8\n",
      "49/49 [==============================] - 34s 697ms/step - loss: 1.5058 - accuracy: 0.3094 - val_loss: 1.6033 - val_accuracy: 0.2438\n",
      "Epoch 7/8\n",
      "49/49 [==============================] - 34s 693ms/step - loss: 1.4748 - accuracy: 0.3320 - val_loss: 1.5859 - val_accuracy: 0.2851\n",
      "Epoch 8/8\n",
      "49/49 [==============================] - 34s 700ms/step - loss: 1.4408 - accuracy: 0.3478 - val_loss: 1.5496 - val_accuracy: 0.2934\n"
     ]
    }
   ],
   "source": [
    "#Compile and fit the model\n",
    "model.compile(loss='categorical_crossentropy', metrics=['accuracy'], optimizer='adam')\n",
    "history = model.fit(training_iterator, validation_data = testing_iterator, epochs=8)"
   ]
  },
  {
   "cell_type": "code",
   "execution_count": 19,
   "metadata": {},
   "outputs": [
    {
     "data": {
      "image/png": "[encoded data removed]",
      "text/plain": [
       "<Figure size 432x288 with 1 Axes>"
      ]
     },
     "metadata": {
      "needs_background": "light"
     },
     "output_type": "display_data"
    }
   ],
   "source": [
    "import matplotlib.pyplot as plt\n",
    "\n",
    "#plot loss vs epochs\n",
    "plt.plot(history.history['loss'])\n",
    "plt.plot(history.history['val_loss'])\n",
    "plt.title('model loss')\n",
    "plt.ylabel('loss')\n",
    "plt.xlabel('no of epochs')\n",
    "plt.legend(['train','test'],loc='upper left')\n",
    "plt.show()"
   ]
  },
  {
   "cell_type": "code",
   "execution_count": 20,
   "metadata": {},
   "outputs": [
    {
     "data": {
      "image/png": "[encoded data removed]",
      "text/plain": [
       "<Figure size 432x288 with 1 Axes>"
      ]
     },
     "metadata": {
      "needs_background": "light"
     },
     "output_type": "display_data"
    }
   ],
   "source": [
    "#plot accuracy vs epochs\n",
    "plt.plot(history.history['accuracy'])\n",
    "plt.plot(history.history['val_accuracy'])\n",
    "plt.title('model accuracy')\n",
    "plt.ylabel('accuracy')\n",
    "plt.xlabel('no of epochs')\n",
    "plt.legend(['train','test'],loc='upper left')\n",
    "plt.show()"
   ]
  },
  {
   "cell_type": "code",
   "execution_count": 21,
   "metadata": {},
   "outputs": [
    {
     "name": "stdout",
     "output_type": "stream",
     "text": [
      "{'daisy': 0, 'dandelion': 1, 'rose': 2, 'sunflower': 3, 'tulip': 4}\n"
     ]
    }
   ],
   "source": [
    "#get the class labels from iterator\n",
    "class_labels = training_iterator.class_indices\n",
    "print(class_labels)"
   ]
  },
  {
   "cell_type": "code",
   "execution_count": 22,
   "metadata": {},
   "outputs": [],
   "source": [
    "# {'daisy': 0, 'dandelion': 1, 'rose': 2, 'sunflower': 3, 'tulip': 4}"
   ]
  }
 ],
 "metadata": {
  "kernelspec": {
   "display_name": "Python 3",
   "language": "python",
   "name": "python3"
  },
  "language_info": {
   "codemirror_mode": {
    "name": "ipython",
    "version": 3
   },
   "file_extension": ".py",
   "mimetype": "text/x-python",
   "name": "python",
   "nbconvert_exporter": "python",
   "pygments_lexer": "ipython3",
   "version": "3.8.5"
  }
 },
 "nbformat": 4,
 "nbformat_minor": 4
}
